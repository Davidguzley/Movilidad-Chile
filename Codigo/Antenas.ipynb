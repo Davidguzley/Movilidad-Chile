{
  "cells": [
    {
      "cell_type": "code",
      "execution_count": null,
      "id": "ecbba3d6",
      "metadata": {
        "id": "ecbba3d6"
      },
      "outputs": [],
      "source": [
        "import pandas as pd\n",
        "import numpy as np\n",
        "df = pd.read_csv('20210101_RM.csv')"
      ]
    },
    {
      "cell_type": "code",
      "execution_count": null,
      "id": "d334afd3",
      "metadata": {
        "id": "d334afd3"
      },
      "outputs": [],
      "source": [
        "df['lat'] = df['lat'].astype(\"string\")\n",
        "df['lon'] = df['lon'].astype(\"string\")\n",
        "df['coordinates'] = df['lat'] + ',' + df['lon']"
      ]
    },
    {
      "cell_type": "code",
      "execution_count": null,
      "id": "94ebdf0c",
      "metadata": {
        "id": "94ebdf0c",
        "outputId": "25f8db50-c41b-43c3-e0d9-4f94807e89d2"
      },
      "outputs": [
        {
          "data": {
            "text/plain": [
              "1708"
            ]
          },
          "execution_count": 4,
          "metadata": {},
          "output_type": "execute_result"
        }
      ],
      "source": [
        "len(df['coordinates'].unique())"
      ]
    },
    {
      "cell_type": "code",
      "execution_count": null,
      "id": "0782eeac",
      "metadata": {
        "id": "0782eeac"
      },
      "outputs": [],
      "source": [
        "antenas = df['coordinates'].unique()"
      ]
    },
    {
      "cell_type": "code",
      "execution_count": null,
      "id": "121b991e",
      "metadata": {
        "id": "121b991e",
        "outputId": "0c68b74a-dc70-4840-dc45-912575378de0"
      },
      "outputs": [
        {
          "data": {
            "text/plain": [
              "pandas.core.arrays.string_.StringArray"
            ]
          },
          "execution_count": 6,
          "metadata": {},
          "output_type": "execute_result"
        }
      ],
      "source": [
        "type(antenas)"
      ]
    },
    {
      "cell_type": "code",
      "execution_count": null,
      "id": "c22d8d7b",
      "metadata": {
        "id": "c22d8d7b"
      },
      "outputs": [],
      "source": [
        "df_antenas = pd.DataFrame(antenas, columns = ['coordinates'])"
      ]
    },
    {
      "cell_type": "code",
      "execution_count": null,
      "id": "7ab8f4bc",
      "metadata": {
        "id": "7ab8f4bc",
        "outputId": "febdd1e2-5ee2-4e43-cf9e-d3e2505031b1"
      },
      "outputs": [
        {
          "data": {
            "text/html": [
              "<div>\n",
              "<style scoped>\n",
              "    .dataframe tbody tr th:only-of-type {\n",
              "        vertical-align: middle;\n",
              "    }\n",
              "\n",
              "    .dataframe tbody tr th {\n",
              "        vertical-align: top;\n",
              "    }\n",
              "\n",
              "    .dataframe thead th {\n",
              "        text-align: right;\n",
              "    }\n",
              "</style>\n",
              "<table border=\"1\" class=\"dataframe\">\n",
              "  <thead>\n",
              "    <tr style=\"text-align: right;\">\n",
              "      <th></th>\n",
              "      <th>coordinates</th>\n",
              "    </tr>\n",
              "  </thead>\n",
              "  <tbody>\n",
              "    <tr>\n",
              "      <th>0</th>\n",
              "      <td>-33.3913,-70.6222</td>\n",
              "    </tr>\n",
              "    <tr>\n",
              "      <th>1</th>\n",
              "      <td>-33.5208,-70.5438</td>\n",
              "    </tr>\n",
              "    <tr>\n",
              "      <th>2</th>\n",
              "      <td>-33.9131,-70.7181</td>\n",
              "    </tr>\n",
              "    <tr>\n",
              "      <th>3</th>\n",
              "      <td>-33.5752,-70.661</td>\n",
              "    </tr>\n",
              "    <tr>\n",
              "      <th>4</th>\n",
              "      <td>-33.4124,-70.5219</td>\n",
              "    </tr>\n",
              "    <tr>\n",
              "      <th>...</th>\n",
              "      <td>...</td>\n",
              "    </tr>\n",
              "    <tr>\n",
              "      <th>1703</th>\n",
              "      <td>-33.4308,-70.6447</td>\n",
              "    </tr>\n",
              "    <tr>\n",
              "      <th>1704</th>\n",
              "      <td>-33.4055,-70.7055</td>\n",
              "    </tr>\n",
              "    <tr>\n",
              "      <th>1705</th>\n",
              "      <td>-33.4999,-70.6142</td>\n",
              "    </tr>\n",
              "    <tr>\n",
              "      <th>1706</th>\n",
              "      <td>-33.543,-70.7105</td>\n",
              "    </tr>\n",
              "    <tr>\n",
              "      <th>1707</th>\n",
              "      <td>-33.4145,-70.5971</td>\n",
              "    </tr>\n",
              "  </tbody>\n",
              "</table>\n",
              "<p>1708 rows × 1 columns</p>\n",
              "</div>"
            ],
            "text/plain": [
              "            coordinates\n",
              "0     -33.3913,-70.6222\n",
              "1     -33.5208,-70.5438\n",
              "2     -33.9131,-70.7181\n",
              "3      -33.5752,-70.661\n",
              "4     -33.4124,-70.5219\n",
              "...                 ...\n",
              "1703  -33.4308,-70.6447\n",
              "1704  -33.4055,-70.7055\n",
              "1705  -33.4999,-70.6142\n",
              "1706   -33.543,-70.7105\n",
              "1707  -33.4145,-70.5971\n",
              "\n",
              "[1708 rows x 1 columns]"
            ]
          },
          "execution_count": 8,
          "metadata": {},
          "output_type": "execute_result"
        }
      ],
      "source": [
        "df_antenas"
      ]
    },
    {
      "cell_type": "code",
      "execution_count": null,
      "id": "2b7fb70e",
      "metadata": {
        "id": "2b7fb70e"
      },
      "outputs": [],
      "source": [
        "from geopy.geocoders import Nominatim\n",
        "geolocator = Nominatim(user_agent=\"comunas\")\n",
        "\n",
        "df_antenas['direction'] = df_antenas['coordinates'].apply(geolocator.reverse)"
      ]
    },
    {
      "cell_type": "code",
      "execution_count": null,
      "id": "771aeab3",
      "metadata": {
        "id": "771aeab3"
      },
      "outputs": [],
      "source": [
        "df_antenas['direc'] = df_antenas['direction'].apply(lambda x: x.address)"
      ]
    },
    {
      "cell_type": "code",
      "execution_count": null,
      "id": "bc122ea5",
      "metadata": {
        "id": "bc122ea5"
      },
      "outputs": [],
      "source": [
        "comunas = ['Paine', 'Buin', 'Pudahuel', 'Cerro Navia', 'Colina', 'Tiltil', 'Lampa', \n",
        "           'Huechuraba', 'Conchalí', 'María Pinto', 'Curacaví', 'La Pintana', 'El Bosque', \n",
        "           'Estación Central', 'Pedro Aguirre Cerda', 'Recoleta', 'Independencia', 'Isla de Maipo', \n",
        "           'Lo Espejo', 'La Cisterna', 'La Florida', 'Peñalolén', 'Las Condes', 'La Reina', 'Lo Barnechea', \n",
        "           'Vitacura', 'Quinta Normal', 'Lo Prado', 'Cerrillos', 'Maipú', 'Macul', 'Ñuñoa', 'Peñaflor', \n",
        "           'Padre Hurtado', 'Puente Alto', 'Quilicura', 'Renca', 'Calera de Tango', 'San Bernardo', 'San José de Maipo', \n",
        "           'Pirque', 'San Joaquín', 'San Miguel', 'San Ramón', 'La Granja', 'Providencia', 'El Monte', \n",
        "           'San Pedro', 'Alhué', 'Talagante', 'Melipilla', 'Santiago']"
      ]
    },
    {
      "cell_type": "code",
      "execution_count": null,
      "id": "6bcb90ef",
      "metadata": {
        "id": "6bcb90ef"
      },
      "outputs": [],
      "source": [
        "def find_comun2(x):\n",
        "  for comuna in comunas:\n",
        "    result = x.find(comuna)\n",
        "    if result != -1:\n",
        "      return comuna"
      ]
    },
    {
      "cell_type": "code",
      "execution_count": null,
      "id": "7958223f",
      "metadata": {
        "id": "7958223f"
      },
      "outputs": [],
      "source": [
        "df_antenas['comuna'] = df_antenas['direc'].apply(find_comun2)"
      ]
    },
    {
      "cell_type": "code",
      "execution_count": null,
      "id": "30f7fa41",
      "metadata": {
        "id": "30f7fa41",
        "outputId": "ee737d47-d0ec-4c3a-fddc-64c2d7982484"
      },
      "outputs": [
        {
          "data": {
            "text/html": [
              "<div>\n",
              "<style scoped>\n",
              "    .dataframe tbody tr th:only-of-type {\n",
              "        vertical-align: middle;\n",
              "    }\n",
              "\n",
              "    .dataframe tbody tr th {\n",
              "        vertical-align: top;\n",
              "    }\n",
              "\n",
              "    .dataframe thead th {\n",
              "        text-align: right;\n",
              "    }\n",
              "</style>\n",
              "<table border=\"1\" class=\"dataframe\">\n",
              "  <thead>\n",
              "    <tr style=\"text-align: right;\">\n",
              "      <th></th>\n",
              "      <th>coordinates</th>\n",
              "      <th>direction</th>\n",
              "      <th>direc</th>\n",
              "      <th>comuna</th>\n",
              "    </tr>\n",
              "  </thead>\n",
              "  <tbody>\n",
              "    <tr>\n",
              "      <th>0</th>\n",
              "      <td>-33.3913,-70.6222</td>\n",
              "      <td>(Palacio Riesco, Ciudad Empresarial, Huechurab...</td>\n",
              "      <td>Palacio Riesco, Ciudad Empresarial, Huechuraba...</td>\n",
              "      <td>Huechuraba</td>\n",
              "    </tr>\n",
              "    <tr>\n",
              "      <th>1</th>\n",
              "      <td>-33.5208,-70.5438</td>\n",
              "      <td>(San Francisco, La Florida, Provincia de Santi...</td>\n",
              "      <td>San Francisco, La Florida, Provincia de Santia...</td>\n",
              "      <td>La Florida</td>\n",
              "    </tr>\n",
              "    <tr>\n",
              "      <th>2</th>\n",
              "      <td>-33.9131,-70.7181</td>\n",
              "      <td>(Caletera 5 Sur, Chita Que Lindo, Mostazal, Pr...</td>\n",
              "      <td>Caletera 5 Sur, Chita Que Lindo, Mostazal, Pro...</td>\n",
              "      <td>None</td>\n",
              "    </tr>\n",
              "    <tr>\n",
              "      <th>3</th>\n",
              "      <td>-33.5752,-70.661</td>\n",
              "      <td>(Nueva Carvajal / San Francisco, Avenida San F...</td>\n",
              "      <td>Nueva Carvajal / San Francisco, Avenida San Fr...</td>\n",
              "      <td>El Bosque</td>\n",
              "    </tr>\n",
              "    <tr>\n",
              "      <th>4</th>\n",
              "      <td>-33.4124,-70.5219</td>\n",
              "      <td>(10963, Atalaya, La Foresta, Las Condes, Provi...</td>\n",
              "      <td>10963, Atalaya, La Foresta, Las Condes, Provin...</td>\n",
              "      <td>Las Condes</td>\n",
              "    </tr>\n",
              "    <tr>\n",
              "      <th>...</th>\n",
              "      <td>...</td>\n",
              "      <td>...</td>\n",
              "      <td>...</td>\n",
              "      <td>...</td>\n",
              "    </tr>\n",
              "    <tr>\n",
              "      <th>1703</th>\n",
              "      <td>-33.4308,-70.6447</td>\n",
              "      <td>(408, Asunción, Patronato, Recoleta, Provincia...</td>\n",
              "      <td>408, Asunción, Patronato, Recoleta, Provincia ...</td>\n",
              "      <td>Recoleta</td>\n",
              "    </tr>\n",
              "    <tr>\n",
              "      <th>1704</th>\n",
              "      <td>-33.4055,-70.7055</td>\n",
              "      <td>(Valle del Elqui, 1206, Lautaro, Renca, Provin...</td>\n",
              "      <td>Valle del Elqui, 1206, Lautaro, Renca, Provinc...</td>\n",
              "      <td>Renca</td>\n",
              "    </tr>\n",
              "    <tr>\n",
              "      <th>1705</th>\n",
              "      <td>-33.4999,-70.6142</td>\n",
              "      <td>(Complejo Andrónico Luksic Abaroa, Avenida Vic...</td>\n",
              "      <td>Complejo Andrónico Luksic Abaroa, Avenida Vicu...</td>\n",
              "      <td>Macul</td>\n",
              "    </tr>\n",
              "    <tr>\n",
              "      <th>1706</th>\n",
              "      <td>-33.543,-70.7105</td>\n",
              "      <td>(Empresas SB, 9981, Avenida General Velásquez,...</td>\n",
              "      <td>Empresas SB, 9981, Avenida General Velásquez, ...</td>\n",
              "      <td>San Bernardo</td>\n",
              "    </tr>\n",
              "    <tr>\n",
              "      <th>1707</th>\n",
              "      <td>-33.4145,-70.5971</td>\n",
              "      <td>(Tea Connection, 3185, Isidora Goyenechea, El ...</td>\n",
              "      <td>Tea Connection, 3185, Isidora Goyenechea, El G...</td>\n",
              "      <td>Las Condes</td>\n",
              "    </tr>\n",
              "  </tbody>\n",
              "</table>\n",
              "<p>1708 rows × 4 columns</p>\n",
              "</div>"
            ],
            "text/plain": [
              "            coordinates                                          direction  \\\n",
              "0     -33.3913,-70.6222  (Palacio Riesco, Ciudad Empresarial, Huechurab...   \n",
              "1     -33.5208,-70.5438  (San Francisco, La Florida, Provincia de Santi...   \n",
              "2     -33.9131,-70.7181  (Caletera 5 Sur, Chita Que Lindo, Mostazal, Pr...   \n",
              "3      -33.5752,-70.661  (Nueva Carvajal / San Francisco, Avenida San F...   \n",
              "4     -33.4124,-70.5219  (10963, Atalaya, La Foresta, Las Condes, Provi...   \n",
              "...                 ...                                                ...   \n",
              "1703  -33.4308,-70.6447  (408, Asunción, Patronato, Recoleta, Provincia...   \n",
              "1704  -33.4055,-70.7055  (Valle del Elqui, 1206, Lautaro, Renca, Provin...   \n",
              "1705  -33.4999,-70.6142  (Complejo Andrónico Luksic Abaroa, Avenida Vic...   \n",
              "1706   -33.543,-70.7105  (Empresas SB, 9981, Avenida General Velásquez,...   \n",
              "1707  -33.4145,-70.5971  (Tea Connection, 3185, Isidora Goyenechea, El ...   \n",
              "\n",
              "                                                  direc        comuna  \n",
              "0     Palacio Riesco, Ciudad Empresarial, Huechuraba...    Huechuraba  \n",
              "1     San Francisco, La Florida, Provincia de Santia...    La Florida  \n",
              "2     Caletera 5 Sur, Chita Que Lindo, Mostazal, Pro...          None  \n",
              "3     Nueva Carvajal / San Francisco, Avenida San Fr...     El Bosque  \n",
              "4     10963, Atalaya, La Foresta, Las Condes, Provin...    Las Condes  \n",
              "...                                                 ...           ...  \n",
              "1703  408, Asunción, Patronato, Recoleta, Provincia ...      Recoleta  \n",
              "1704  Valle del Elqui, 1206, Lautaro, Renca, Provinc...         Renca  \n",
              "1705  Complejo Andrónico Luksic Abaroa, Avenida Vicu...         Macul  \n",
              "1706  Empresas SB, 9981, Avenida General Velásquez, ...  San Bernardo  \n",
              "1707  Tea Connection, 3185, Isidora Goyenechea, El G...    Las Condes  \n",
              "\n",
              "[1708 rows x 4 columns]"
            ]
          },
          "execution_count": 14,
          "metadata": {},
          "output_type": "execute_result"
        }
      ],
      "source": [
        "df_antenas"
      ]
    },
    {
      "cell_type": "code",
      "execution_count": null,
      "id": "bf218045",
      "metadata": {
        "id": "bf218045"
      },
      "outputs": [],
      "source": [
        "df_antenas = df_antenas.drop(['direction', 'direc'], axis = 1)"
      ]
    },
    {
      "cell_type": "code",
      "execution_count": null,
      "id": "981d8b39",
      "metadata": {
        "id": "981d8b39",
        "outputId": "08e797ee-ba84-48fd-e90f-093b46943c92"
      },
      "outputs": [
        {
          "data": {
            "text/html": [
              "<div>\n",
              "<style scoped>\n",
              "    .dataframe tbody tr th:only-of-type {\n",
              "        vertical-align: middle;\n",
              "    }\n",
              "\n",
              "    .dataframe tbody tr th {\n",
              "        vertical-align: top;\n",
              "    }\n",
              "\n",
              "    .dataframe thead th {\n",
              "        text-align: right;\n",
              "    }\n",
              "</style>\n",
              "<table border=\"1\" class=\"dataframe\">\n",
              "  <thead>\n",
              "    <tr style=\"text-align: right;\">\n",
              "      <th></th>\n",
              "      <th>coordinates</th>\n",
              "      <th>comuna</th>\n",
              "    </tr>\n",
              "  </thead>\n",
              "  <tbody>\n",
              "    <tr>\n",
              "      <th>0</th>\n",
              "      <td>-33.3913,-70.6222</td>\n",
              "      <td>Huechuraba</td>\n",
              "    </tr>\n",
              "    <tr>\n",
              "      <th>1</th>\n",
              "      <td>-33.5208,-70.5438</td>\n",
              "      <td>La Florida</td>\n",
              "    </tr>\n",
              "    <tr>\n",
              "      <th>2</th>\n",
              "      <td>-33.9131,-70.7181</td>\n",
              "      <td>None</td>\n",
              "    </tr>\n",
              "    <tr>\n",
              "      <th>3</th>\n",
              "      <td>-33.5752,-70.661</td>\n",
              "      <td>El Bosque</td>\n",
              "    </tr>\n",
              "    <tr>\n",
              "      <th>4</th>\n",
              "      <td>-33.4124,-70.5219</td>\n",
              "      <td>Las Condes</td>\n",
              "    </tr>\n",
              "    <tr>\n",
              "      <th>...</th>\n",
              "      <td>...</td>\n",
              "      <td>...</td>\n",
              "    </tr>\n",
              "    <tr>\n",
              "      <th>1703</th>\n",
              "      <td>-33.4308,-70.6447</td>\n",
              "      <td>Recoleta</td>\n",
              "    </tr>\n",
              "    <tr>\n",
              "      <th>1704</th>\n",
              "      <td>-33.4055,-70.7055</td>\n",
              "      <td>Renca</td>\n",
              "    </tr>\n",
              "    <tr>\n",
              "      <th>1705</th>\n",
              "      <td>-33.4999,-70.6142</td>\n",
              "      <td>Macul</td>\n",
              "    </tr>\n",
              "    <tr>\n",
              "      <th>1706</th>\n",
              "      <td>-33.543,-70.7105</td>\n",
              "      <td>San Bernardo</td>\n",
              "    </tr>\n",
              "    <tr>\n",
              "      <th>1707</th>\n",
              "      <td>-33.4145,-70.5971</td>\n",
              "      <td>Las Condes</td>\n",
              "    </tr>\n",
              "  </tbody>\n",
              "</table>\n",
              "<p>1708 rows × 2 columns</p>\n",
              "</div>"
            ],
            "text/plain": [
              "            coordinates        comuna\n",
              "0     -33.3913,-70.6222    Huechuraba\n",
              "1     -33.5208,-70.5438    La Florida\n",
              "2     -33.9131,-70.7181          None\n",
              "3      -33.5752,-70.661     El Bosque\n",
              "4     -33.4124,-70.5219    Las Condes\n",
              "...                 ...           ...\n",
              "1703  -33.4308,-70.6447      Recoleta\n",
              "1704  -33.4055,-70.7055         Renca\n",
              "1705  -33.4999,-70.6142         Macul\n",
              "1706   -33.543,-70.7105  San Bernardo\n",
              "1707  -33.4145,-70.5971    Las Condes\n",
              "\n",
              "[1708 rows x 2 columns]"
            ]
          },
          "execution_count": 16,
          "metadata": {},
          "output_type": "execute_result"
        }
      ],
      "source": [
        "df_antenas"
      ]
    },
    {
      "cell_type": "code",
      "execution_count": null,
      "id": "57df1784",
      "metadata": {
        "id": "57df1784",
        "outputId": "792d79f8-4fe9-4328-f426-f1e56bcffd23"
      },
      "outputs": [
        {
          "name": "stdout",
          "output_type": "stream",
          "text": [
            "2\n",
            "1\n"
          ]
        }
      ],
      "source": [
        "cont = 0\n",
        "contn = 0\n",
        "for i in df_antenas['comuna']:\n",
        "    if i == None:\n",
        "        cont += 1\n",
        "        print(contn)\n",
        "    contn += 1\n",
        "print(cont)"
      ]
    },
    {
      "cell_type": "code",
      "execution_count": null,
      "id": "7afb91ee",
      "metadata": {
        "id": "7afb91ee",
        "outputId": "4e081c0e-2bc5-4fd7-8a44-c946491cd92c"
      },
      "outputs": [
        {
          "data": {
            "text/html": [
              "<div>\n",
              "<style scoped>\n",
              "    .dataframe tbody tr th:only-of-type {\n",
              "        vertical-align: middle;\n",
              "    }\n",
              "\n",
              "    .dataframe tbody tr th {\n",
              "        vertical-align: top;\n",
              "    }\n",
              "\n",
              "    .dataframe thead th {\n",
              "        text-align: right;\n",
              "    }\n",
              "</style>\n",
              "<table border=\"1\" class=\"dataframe\">\n",
              "  <thead>\n",
              "    <tr style=\"text-align: right;\">\n",
              "      <th></th>\n",
              "      <th>coordinates</th>\n",
              "      <th>comuna</th>\n",
              "    </tr>\n",
              "  </thead>\n",
              "  <tbody>\n",
              "    <tr>\n",
              "      <th>2</th>\n",
              "      <td>-33.9131,-70.7181</td>\n",
              "      <td>None</td>\n",
              "    </tr>\n",
              "  </tbody>\n",
              "</table>\n",
              "</div>"
            ],
            "text/plain": [
              "         coordinates comuna\n",
              "2  -33.9131,-70.7181   None"
            ]
          },
          "execution_count": 19,
          "metadata": {},
          "output_type": "execute_result"
        }
      ],
      "source": [
        "df_antenas[2:3]"
      ]
    },
    {
      "cell_type": "code",
      "execution_count": null,
      "id": "33d98dc2",
      "metadata": {
        "id": "33d98dc2",
        "outputId": "d05b3aa1-43a6-4ac0-94ea-f197c2a7f7c0"
      },
      "outputs": [
        {
          "name": "stderr",
          "output_type": "stream",
          "text": [
            "C:\\Users\\leo20\\AppData\\Local\\Temp\\ipykernel_14212\\4106414509.py:1: SettingWithCopyWarning: \n",
            "A value is trying to be set on a copy of a slice from a DataFrame\n",
            "\n",
            "See the caveats in the documentation: https://pandas.pydata.org/pandas-docs/stable/user_guide/indexing.html#returning-a-view-versus-a-copy\n",
            "  df_antenas['comuna'][2:3] = 'Paine'\n"
          ]
        }
      ],
      "source": [
        "df_antenas['comuna'][2:3] = 'Paine'"
      ]
    },
    {
      "cell_type": "code",
      "execution_count": null,
      "id": "1ba13487",
      "metadata": {
        "id": "1ba13487",
        "outputId": "2d0adfd4-f5e1-4802-8e3b-7ed2b3c40b9e"
      },
      "outputs": [
        {
          "data": {
            "text/html": [
              "<div>\n",
              "<style scoped>\n",
              "    .dataframe tbody tr th:only-of-type {\n",
              "        vertical-align: middle;\n",
              "    }\n",
              "\n",
              "    .dataframe tbody tr th {\n",
              "        vertical-align: top;\n",
              "    }\n",
              "\n",
              "    .dataframe thead th {\n",
              "        text-align: right;\n",
              "    }\n",
              "</style>\n",
              "<table border=\"1\" class=\"dataframe\">\n",
              "  <thead>\n",
              "    <tr style=\"text-align: right;\">\n",
              "      <th></th>\n",
              "      <th>coordinates</th>\n",
              "      <th>comuna</th>\n",
              "    </tr>\n",
              "  </thead>\n",
              "  <tbody>\n",
              "    <tr>\n",
              "      <th>2</th>\n",
              "      <td>-33.9131,-70.7181</td>\n",
              "      <td>Paine</td>\n",
              "    </tr>\n",
              "  </tbody>\n",
              "</table>\n",
              "</div>"
            ],
            "text/plain": [
              "         coordinates comuna\n",
              "2  -33.9131,-70.7181  Paine"
            ]
          },
          "execution_count": 21,
          "metadata": {},
          "output_type": "execute_result"
        }
      ],
      "source": [
        "df_antenas[2:3]"
      ]
    },
    {
      "cell_type": "code",
      "execution_count": null,
      "id": "b18e5c15",
      "metadata": {
        "id": "b18e5c15"
      },
      "outputs": [],
      "source": [
        "df_antenas.to_csv('antenas.csv', encoding='utf-8')"
      ]
    },
    {
      "cell_type": "code",
      "execution_count": null,
      "id": "ef78403f",
      "metadata": {
        "id": "ef78403f"
      },
      "outputs": [],
      "source": []
    }
  ],
  "metadata": {
    "kernelspec": {
      "display_name": "Python 3 (ipykernel)",
      "language": "python",
      "name": "python3"
    },
    "language_info": {
      "codemirror_mode": {
        "name": "ipython",
        "version": 3
      },
      "file_extension": ".py",
      "mimetype": "text/x-python",
      "name": "python",
      "nbconvert_exporter": "python",
      "pygments_lexer": "ipython3",
      "version": "3.9.12"
    },
    "colab": {
      "provenance": []
    }
  },
  "nbformat": 4,
  "nbformat_minor": 5
}