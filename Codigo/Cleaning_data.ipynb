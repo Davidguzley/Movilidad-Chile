{
  "cells": [
    {
      "cell_type": "code",
      "execution_count": null,
      "id": "a046f5f7",
      "metadata": {
        "id": "a046f5f7"
      },
      "outputs": [],
      "source": [
        "import pandas as pd\n",
        "import numpy as np\n",
        "df = pd.read_csv('moving_data.csv')"
      ]
    },
    {
      "cell_type": "code",
      "execution_count": null,
      "id": "8c4b691a",
      "metadata": {
        "id": "8c4b691a"
      },
      "outputs": [],
      "source": [
        "df[\"timestamp\"] = pd.to_datetime(df[\"timestamp\"])"
      ]
    },
    {
      "cell_type": "code",
      "execution_count": null,
      "id": "6b0813f3",
      "metadata": {
        "id": "6b0813f3"
      },
      "outputs": [],
      "source": [
        "df2 = df.sort_values(by = ['PHONE_ID', 'timestamp'])"
      ]
    },
    {
      "cell_type": "code",
      "execution_count": null,
      "id": "531290d2",
      "metadata": {
        "id": "531290d2"
      },
      "outputs": [],
      "source": [
        "def dis(lat1, lon1, lat2, lon2):\n",
        "  R = 6378.137\n",
        "  dlat = (lat2 * np.pi / 180) - (lat1 * np.pi / 180)\n",
        "  dlon = (lon2 * np.pi / 180) - (lon1 * np.pi / 180)\n",
        "  a = (np.sin(dlat / 2) * np.sin(dlat / 2)) + np.cos(lat1 * np.pi / 180) * np.cos(lat2 * np.pi / 180) * (np.sin(dlon / 2) * np.sin(dlon / 2))\n",
        "  c = 2 * np.arctan2(np.sqrt(a), np.sqrt(1 - a))\n",
        "  return R * c"
      ]
    },
    {
      "cell_type": "code",
      "execution_count": null,
      "id": "5dd1a119",
      "metadata": {
        "id": "5dd1a119"
      },
      "outputs": [],
      "source": [
        "def tiemp(t1, t2):\n",
        "  return (t1 - t2) / pd.Timedelta(hours=1)"
      ]
    },
    {
      "cell_type": "code",
      "execution_count": null,
      "id": "23004b4e",
      "metadata": {
        "id": "23004b4e"
      },
      "outputs": [],
      "source": [
        "def vel(d, t):\n",
        "  return d / t"
      ]
    },
    {
      "cell_type": "code",
      "execution_count": null,
      "id": "506fd33e",
      "metadata": {
        "id": "506fd33e"
      },
      "outputs": [],
      "source": [
        "df2['drop'] = 0"
      ]
    },
    {
      "cell_type": "code",
      "execution_count": null,
      "id": "2b197316",
      "metadata": {
        "id": "2b197316",
        "outputId": "1ef6f357-3a0b-4410-8292-695991b10320"
      },
      "outputs": [
        {
          "data": {
            "text/html": [
              "<div>\n",
              "<style scoped>\n",
              "    .dataframe tbody tr th:only-of-type {\n",
              "        vertical-align: middle;\n",
              "    }\n",
              "\n",
              "    .dataframe tbody tr th {\n",
              "        vertical-align: top;\n",
              "    }\n",
              "\n",
              "    .dataframe thead th {\n",
              "        text-align: right;\n",
              "    }\n",
              "</style>\n",
              "<table border=\"1\" class=\"dataframe\">\n",
              "  <thead>\n",
              "    <tr style=\"text-align: right;\">\n",
              "      <th></th>\n",
              "      <th>Unnamed: 0</th>\n",
              "      <th>PHONE_ID</th>\n",
              "      <th>timestamp</th>\n",
              "      <th>bts_id</th>\n",
              "      <th>lat</th>\n",
              "      <th>lon</th>\n",
              "      <th>drop</th>\n",
              "    </tr>\n",
              "  </thead>\n",
              "  <tbody>\n",
              "    <tr>\n",
              "      <th>0</th>\n",
              "      <td>0</td>\n",
              "      <td>00000000e3fc09803d408609f55cbf905120d3a41db564...</td>\n",
              "      <td>2021-01-01 00:09:15-03:00</td>\n",
              "      <td>ECROF</td>\n",
              "      <td>-33.3844</td>\n",
              "      <td>-70.5534</td>\n",
              "      <td>0</td>\n",
              "    </tr>\n",
              "    <tr>\n",
              "      <th>1</th>\n",
              "      <td>1</td>\n",
              "      <td>00000000e3fc09803d408609f55cbf905120d3a41db564...</td>\n",
              "      <td>2021-01-01 00:16:37-03:00</td>\n",
              "      <td>VTAND</td>\n",
              "      <td>-33.3806</td>\n",
              "      <td>-70.5419</td>\n",
              "      <td>0</td>\n",
              "    </tr>\n",
              "    <tr>\n",
              "      <th>2</th>\n",
              "      <td>2</td>\n",
              "      <td>00000000e3fc09803d408609f55cbf905120d3a41db564...</td>\n",
              "      <td>2021-01-01 00:18:36-03:00</td>\n",
              "      <td>VTAND</td>\n",
              "      <td>-33.3806</td>\n",
              "      <td>-70.5419</td>\n",
              "      <td>0</td>\n",
              "    </tr>\n",
              "    <tr>\n",
              "      <th>3</th>\n",
              "      <td>3</td>\n",
              "      <td>00000000e3fc09803d408609f55cbf905120d3a41db564...</td>\n",
              "      <td>2021-01-01 00:39:15-03:00</td>\n",
              "      <td>MANNE</td>\n",
              "      <td>-33.3994</td>\n",
              "      <td>-70.5699</td>\n",
              "      <td>0</td>\n",
              "    </tr>\n",
              "    <tr>\n",
              "      <th>4</th>\n",
              "      <td>4</td>\n",
              "      <td>00000000e3fc09803d408609f55cbf905120d3a41db564...</td>\n",
              "      <td>2021-01-01 00:48:36-03:00</td>\n",
              "      <td>LCPHU</td>\n",
              "      <td>-33.3972</td>\n",
              "      <td>-70.5499</td>\n",
              "      <td>0</td>\n",
              "    </tr>\n",
              "  </tbody>\n",
              "</table>\n",
              "</div>"
            ],
            "text/plain": [
              "   Unnamed: 0                                           PHONE_ID  \\\n",
              "0           0  00000000e3fc09803d408609f55cbf905120d3a41db564...   \n",
              "1           1  00000000e3fc09803d408609f55cbf905120d3a41db564...   \n",
              "2           2  00000000e3fc09803d408609f55cbf905120d3a41db564...   \n",
              "3           3  00000000e3fc09803d408609f55cbf905120d3a41db564...   \n",
              "4           4  00000000e3fc09803d408609f55cbf905120d3a41db564...   \n",
              "\n",
              "                  timestamp bts_id      lat      lon  drop  \n",
              "0 2021-01-01 00:09:15-03:00  ECROF -33.3844 -70.5534     0  \n",
              "1 2021-01-01 00:16:37-03:00  VTAND -33.3806 -70.5419     0  \n",
              "2 2021-01-01 00:18:36-03:00  VTAND -33.3806 -70.5419     0  \n",
              "3 2021-01-01 00:39:15-03:00  MANNE -33.3994 -70.5699     0  \n",
              "4 2021-01-01 00:48:36-03:00  LCPHU -33.3972 -70.5499     0  "
            ]
          },
          "execution_count": 8,
          "metadata": {},
          "output_type": "execute_result"
        }
      ],
      "source": [
        "df2.head()"
      ]
    },
    {
      "cell_type": "code",
      "execution_count": null,
      "id": "1b04d78c",
      "metadata": {
        "id": "1b04d78c",
        "outputId": "f0a5824a-957d-4278-b36e-8999af3c03c1"
      },
      "outputs": [
        {
          "name": "stderr",
          "output_type": "stream",
          "text": [
            "C:\\Users\\leo20\\AppData\\Local\\Temp\\ipykernel_18888\\979869614.py:15: SettingWithCopyWarning: \n",
            "A value is trying to be set on a copy of a slice from a DataFrame\n",
            "\n",
            "See the caveats in the documentation: https://pandas.pydata.org/pandas-docs/stable/user_guide/indexing.html#returning-a-view-versus-a-copy\n",
            "  df2[\"drop\"][i] = 1\n",
            "C:\\Users\\leo20\\AppData\\Local\\Temp\\ipykernel_18888\\1049004936.py:2: RuntimeWarning: invalid value encountered in double_scalars\n",
            "  return d / t\n",
            "C:\\Users\\leo20\\AppData\\Local\\Temp\\ipykernel_18888\\1049004936.py:2: RuntimeWarning: divide by zero encountered in double_scalars\n",
            "  return d / t\n"
          ]
        }
      ],
      "source": [
        "index = []\n",
        "j = 1\n",
        "for i in range(1, len(df2)):\n",
        "    if df2['PHONE_ID'][i] == df2['PHONE_ID'][i-1]:\n",
        "        while df2['drop'][i - j] == 1:\n",
        "            j = j + 1\n",
        "        distancia = dis(df2['lat'][i], df2['lon'][i], df2['lat'][i - j], df2['lon'][i - j]) \n",
        "        tiempo = tiemp(df2['timestamp'][i], df2['timestamp'][i - j])\n",
        "        velocidad = vel(distancia, tiempo)\n",
        "        j = 1\n",
        "        if velocidad > 150:\n",
        "            #index.append(i)\n",
        "            #df2.set_value(i, 'drop', 1)\n",
        "            #df2 = df2.assign(drop =  1)\n",
        "            df2[\"drop\"][i] = 1\n"
      ]
    },
    {
      "cell_type": "code",
      "execution_count": null,
      "id": "e12d4ca4",
      "metadata": {
        "id": "e12d4ca4"
      },
      "outputs": [],
      "source": [
        "df_mask = df2['drop'] == 0"
      ]
    },
    {
      "cell_type": "code",
      "execution_count": null,
      "id": "b52b51aa",
      "metadata": {
        "id": "b52b51aa",
        "outputId": "30063d83-087a-4ec1-c77b-920a8ee9bd13"
      },
      "outputs": [
        {
          "data": {
            "text/plain": [
              "array([37732985,   313922], dtype=int64)"
            ]
          },
          "execution_count": 14,
          "metadata": {},
          "output_type": "execute_result"
        }
      ],
      "source": [
        "df_mask.value_counts().values"
      ]
    },
    {
      "cell_type": "code",
      "execution_count": null,
      "id": "6032d420",
      "metadata": {
        "id": "6032d420"
      },
      "outputs": [],
      "source": [
        "df2 = df2[df_mask]"
      ]
    },
    {
      "cell_type": "code",
      "execution_count": null,
      "id": "f4a24dee",
      "metadata": {
        "id": "f4a24dee",
        "outputId": "47f2d7ba-9d90-4236-aed9-48ab6fa1171f"
      },
      "outputs": [
        {
          "data": {
            "text/html": [
              "<div>\n",
              "<style scoped>\n",
              "    .dataframe tbody tr th:only-of-type {\n",
              "        vertical-align: middle;\n",
              "    }\n",
              "\n",
              "    .dataframe tbody tr th {\n",
              "        vertical-align: top;\n",
              "    }\n",
              "\n",
              "    .dataframe thead th {\n",
              "        text-align: right;\n",
              "    }\n",
              "</style>\n",
              "<table border=\"1\" class=\"dataframe\">\n",
              "  <thead>\n",
              "    <tr style=\"text-align: right;\">\n",
              "      <th></th>\n",
              "      <th>Unnamed: 0</th>\n",
              "      <th>PHONE_ID</th>\n",
              "      <th>timestamp</th>\n",
              "      <th>bts_id</th>\n",
              "      <th>lat</th>\n",
              "      <th>lon</th>\n",
              "      <th>drop</th>\n",
              "    </tr>\n",
              "  </thead>\n",
              "  <tbody>\n",
              "    <tr>\n",
              "      <th>0</th>\n",
              "      <td>0</td>\n",
              "      <td>00000000e3fc09803d408609f55cbf905120d3a41db564...</td>\n",
              "      <td>2021-01-01 00:09:15-03:00</td>\n",
              "      <td>ECROF</td>\n",
              "      <td>-33.3844</td>\n",
              "      <td>-70.5534</td>\n",
              "      <td>0</td>\n",
              "    </tr>\n",
              "    <tr>\n",
              "      <th>1</th>\n",
              "      <td>1</td>\n",
              "      <td>00000000e3fc09803d408609f55cbf905120d3a41db564...</td>\n",
              "      <td>2021-01-01 00:16:37-03:00</td>\n",
              "      <td>VTAND</td>\n",
              "      <td>-33.3806</td>\n",
              "      <td>-70.5419</td>\n",
              "      <td>0</td>\n",
              "    </tr>\n",
              "    <tr>\n",
              "      <th>2</th>\n",
              "      <td>2</td>\n",
              "      <td>00000000e3fc09803d408609f55cbf905120d3a41db564...</td>\n",
              "      <td>2021-01-01 00:18:36-03:00</td>\n",
              "      <td>VTAND</td>\n",
              "      <td>-33.3806</td>\n",
              "      <td>-70.5419</td>\n",
              "      <td>0</td>\n",
              "    </tr>\n",
              "    <tr>\n",
              "      <th>3</th>\n",
              "      <td>3</td>\n",
              "      <td>00000000e3fc09803d408609f55cbf905120d3a41db564...</td>\n",
              "      <td>2021-01-01 00:39:15-03:00</td>\n",
              "      <td>MANNE</td>\n",
              "      <td>-33.3994</td>\n",
              "      <td>-70.5699</td>\n",
              "      <td>0</td>\n",
              "    </tr>\n",
              "    <tr>\n",
              "      <th>4</th>\n",
              "      <td>4</td>\n",
              "      <td>00000000e3fc09803d408609f55cbf905120d3a41db564...</td>\n",
              "      <td>2021-01-01 00:48:36-03:00</td>\n",
              "      <td>LCPHU</td>\n",
              "      <td>-33.3972</td>\n",
              "      <td>-70.5499</td>\n",
              "      <td>0</td>\n",
              "    </tr>\n",
              "    <tr>\n",
              "      <th>...</th>\n",
              "      <td>...</td>\n",
              "      <td>...</td>\n",
              "      <td>...</td>\n",
              "      <td>...</td>\n",
              "      <td>...</td>\n",
              "      <td>...</td>\n",
              "      <td>...</td>\n",
              "    </tr>\n",
              "    <tr>\n",
              "      <th>38046902</th>\n",
              "      <td>38046902</td>\n",
              "      <td>ffffea064367ea293c32db026f6dee34efa6c464375ac9...</td>\n",
              "      <td>2021-01-01 21:32:20-03:00</td>\n",
              "      <td>MFAR3</td>\n",
              "      <td>-33.4034</td>\n",
              "      <td>-70.5584</td>\n",
              "      <td>0</td>\n",
              "    </tr>\n",
              "    <tr>\n",
              "      <th>38046903</th>\n",
              "      <td>38046903</td>\n",
              "      <td>ffffea064367ea293c32db026f6dee34efa6c464375ac9...</td>\n",
              "      <td>2021-01-01 22:02:20-03:00</td>\n",
              "      <td>MFAR3</td>\n",
              "      <td>-33.4034</td>\n",
              "      <td>-70.5584</td>\n",
              "      <td>0</td>\n",
              "    </tr>\n",
              "    <tr>\n",
              "      <th>38046904</th>\n",
              "      <td>38046904</td>\n",
              "      <td>ffffea064367ea293c32db026f6dee34efa6c464375ac9...</td>\n",
              "      <td>2021-01-01 22:32:20-03:00</td>\n",
              "      <td>MFAR3</td>\n",
              "      <td>-33.4034</td>\n",
              "      <td>-70.5584</td>\n",
              "      <td>0</td>\n",
              "    </tr>\n",
              "    <tr>\n",
              "      <th>38046905</th>\n",
              "      <td>38046905</td>\n",
              "      <td>ffffea064367ea293c32db026f6dee34efa6c464375ac9...</td>\n",
              "      <td>2021-01-01 23:02:20-03:00</td>\n",
              "      <td>MFAR3</td>\n",
              "      <td>-33.4034</td>\n",
              "      <td>-70.5584</td>\n",
              "      <td>0</td>\n",
              "    </tr>\n",
              "    <tr>\n",
              "      <th>38046906</th>\n",
              "      <td>38046906</td>\n",
              "      <td>ffffea064367ea293c32db026f6dee34efa6c464375ac9...</td>\n",
              "      <td>2021-01-01 23:32:20-03:00</td>\n",
              "      <td>MFAR3</td>\n",
              "      <td>-33.4034</td>\n",
              "      <td>-70.5584</td>\n",
              "      <td>0</td>\n",
              "    </tr>\n",
              "  </tbody>\n",
              "</table>\n",
              "<p>37732985 rows × 7 columns</p>\n",
              "</div>"
            ],
            "text/plain": [
              "          Unnamed: 0                                           PHONE_ID  \\\n",
              "0                  0  00000000e3fc09803d408609f55cbf905120d3a41db564...   \n",
              "1                  1  00000000e3fc09803d408609f55cbf905120d3a41db564...   \n",
              "2                  2  00000000e3fc09803d408609f55cbf905120d3a41db564...   \n",
              "3                  3  00000000e3fc09803d408609f55cbf905120d3a41db564...   \n",
              "4                  4  00000000e3fc09803d408609f55cbf905120d3a41db564...   \n",
              "...              ...                                                ...   \n",
              "38046902    38046902  ffffea064367ea293c32db026f6dee34efa6c464375ac9...   \n",
              "38046903    38046903  ffffea064367ea293c32db026f6dee34efa6c464375ac9...   \n",
              "38046904    38046904  ffffea064367ea293c32db026f6dee34efa6c464375ac9...   \n",
              "38046905    38046905  ffffea064367ea293c32db026f6dee34efa6c464375ac9...   \n",
              "38046906    38046906  ffffea064367ea293c32db026f6dee34efa6c464375ac9...   \n",
              "\n",
              "                         timestamp bts_id      lat      lon  drop  \n",
              "0        2021-01-01 00:09:15-03:00  ECROF -33.3844 -70.5534     0  \n",
              "1        2021-01-01 00:16:37-03:00  VTAND -33.3806 -70.5419     0  \n",
              "2        2021-01-01 00:18:36-03:00  VTAND -33.3806 -70.5419     0  \n",
              "3        2021-01-01 00:39:15-03:00  MANNE -33.3994 -70.5699     0  \n",
              "4        2021-01-01 00:48:36-03:00  LCPHU -33.3972 -70.5499     0  \n",
              "...                            ...    ...      ...      ...   ...  \n",
              "38046902 2021-01-01 21:32:20-03:00  MFAR3 -33.4034 -70.5584     0  \n",
              "38046903 2021-01-01 22:02:20-03:00  MFAR3 -33.4034 -70.5584     0  \n",
              "38046904 2021-01-01 22:32:20-03:00  MFAR3 -33.4034 -70.5584     0  \n",
              "38046905 2021-01-01 23:02:20-03:00  MFAR3 -33.4034 -70.5584     0  \n",
              "38046906 2021-01-01 23:32:20-03:00  MFAR3 -33.4034 -70.5584     0  \n",
              "\n",
              "[37732985 rows x 7 columns]"
            ]
          },
          "execution_count": 16,
          "metadata": {},
          "output_type": "execute_result"
        }
      ],
      "source": [
        "df2"
      ]
    },
    {
      "cell_type": "code",
      "execution_count": null,
      "id": "4da7cd9d",
      "metadata": {
        "id": "4da7cd9d"
      },
      "outputs": [],
      "source": [
        "#flag = 0\n",
        "#while flag == 0:\n",
        "#  flag = 1\n",
        "#  df2['dis_trans'] = dis(df2.groupby(['PHONE_ID'])['lat'].shift(1), df2.groupby(['PHONE_ID'])['lon'].shift(1), df2['lat'], df2['lon'])\n",
        "# df2['tiempo_trans'] = tiempo(df2['timestamp'], df2.groupby(['PHONE_ID'])['timestamp'].shift(1))\n",
        "#  df2['velocidad'] = vel(df2['dis_trans'], df2['tiempo_trans'])\n",
        "#  df2['velocidad'] = df2['velocidad'].fillna(-1)\n",
        "#  df_mask = df2['velocidad'] <= 150\n",
        "#  if len(df_mask.value_counts().values) > 1:\n",
        "#    df2 = df2[df_mask]\n",
        "#    flag = 0"
      ]
    },
    {
      "cell_type": "code",
      "execution_count": null,
      "id": "2c5e47b4",
      "metadata": {
        "id": "2c5e47b4"
      },
      "outputs": [],
      "source": [
        "df2 = df2.reset_index()\n",
        "df2 = df2.drop(['index'], axis = 1)"
      ]
    },
    {
      "cell_type": "code",
      "execution_count": null,
      "id": "d69a70bc",
      "metadata": {
        "scrolled": false,
        "id": "d69a70bc"
      },
      "outputs": [],
      "source": [
        "df2 = df2.drop(['Unnamed: 0'], axis = 1)"
      ]
    },
    {
      "cell_type": "code",
      "execution_count": null,
      "id": "8b7e623c",
      "metadata": {
        "id": "8b7e623c",
        "outputId": "e290e1da-630b-47e9-ab73-1d79dd447152"
      },
      "outputs": [
        {
          "data": {
            "text/html": [
              "<div>\n",
              "<style scoped>\n",
              "    .dataframe tbody tr th:only-of-type {\n",
              "        vertical-align: middle;\n",
              "    }\n",
              "\n",
              "    .dataframe tbody tr th {\n",
              "        vertical-align: top;\n",
              "    }\n",
              "\n",
              "    .dataframe thead th {\n",
              "        text-align: right;\n",
              "    }\n",
              "</style>\n",
              "<table border=\"1\" class=\"dataframe\">\n",
              "  <thead>\n",
              "    <tr style=\"text-align: right;\">\n",
              "      <th></th>\n",
              "      <th>PHONE_ID</th>\n",
              "      <th>timestamp</th>\n",
              "      <th>bts_id</th>\n",
              "      <th>lat</th>\n",
              "      <th>lon</th>\n",
              "      <th>drop</th>\n",
              "    </tr>\n",
              "  </thead>\n",
              "  <tbody>\n",
              "    <tr>\n",
              "      <th>0</th>\n",
              "      <td>00000000e3fc09803d408609f55cbf905120d3a41db564...</td>\n",
              "      <td>2021-01-01 00:09:15-03:00</td>\n",
              "      <td>ECROF</td>\n",
              "      <td>-33.3844</td>\n",
              "      <td>-70.5534</td>\n",
              "      <td>0</td>\n",
              "    </tr>\n",
              "    <tr>\n",
              "      <th>1</th>\n",
              "      <td>00000000e3fc09803d408609f55cbf905120d3a41db564...</td>\n",
              "      <td>2021-01-01 00:16:37-03:00</td>\n",
              "      <td>VTAND</td>\n",
              "      <td>-33.3806</td>\n",
              "      <td>-70.5419</td>\n",
              "      <td>0</td>\n",
              "    </tr>\n",
              "    <tr>\n",
              "      <th>2</th>\n",
              "      <td>00000000e3fc09803d408609f55cbf905120d3a41db564...</td>\n",
              "      <td>2021-01-01 00:18:36-03:00</td>\n",
              "      <td>VTAND</td>\n",
              "      <td>-33.3806</td>\n",
              "      <td>-70.5419</td>\n",
              "      <td>0</td>\n",
              "    </tr>\n",
              "    <tr>\n",
              "      <th>3</th>\n",
              "      <td>00000000e3fc09803d408609f55cbf905120d3a41db564...</td>\n",
              "      <td>2021-01-01 00:39:15-03:00</td>\n",
              "      <td>MANNE</td>\n",
              "      <td>-33.3994</td>\n",
              "      <td>-70.5699</td>\n",
              "      <td>0</td>\n",
              "    </tr>\n",
              "    <tr>\n",
              "      <th>4</th>\n",
              "      <td>00000000e3fc09803d408609f55cbf905120d3a41db564...</td>\n",
              "      <td>2021-01-01 00:48:36-03:00</td>\n",
              "      <td>LCPHU</td>\n",
              "      <td>-33.3972</td>\n",
              "      <td>-70.5499</td>\n",
              "      <td>0</td>\n",
              "    </tr>\n",
              "    <tr>\n",
              "      <th>...</th>\n",
              "      <td>...</td>\n",
              "      <td>...</td>\n",
              "      <td>...</td>\n",
              "      <td>...</td>\n",
              "      <td>...</td>\n",
              "      <td>...</td>\n",
              "    </tr>\n",
              "    <tr>\n",
              "      <th>37732980</th>\n",
              "      <td>ffffea064367ea293c32db026f6dee34efa6c464375ac9...</td>\n",
              "      <td>2021-01-01 21:32:20-03:00</td>\n",
              "      <td>MFAR3</td>\n",
              "      <td>-33.4034</td>\n",
              "      <td>-70.5584</td>\n",
              "      <td>0</td>\n",
              "    </tr>\n",
              "    <tr>\n",
              "      <th>37732981</th>\n",
              "      <td>ffffea064367ea293c32db026f6dee34efa6c464375ac9...</td>\n",
              "      <td>2021-01-01 22:02:20-03:00</td>\n",
              "      <td>MFAR3</td>\n",
              "      <td>-33.4034</td>\n",
              "      <td>-70.5584</td>\n",
              "      <td>0</td>\n",
              "    </tr>\n",
              "    <tr>\n",
              "      <th>37732982</th>\n",
              "      <td>ffffea064367ea293c32db026f6dee34efa6c464375ac9...</td>\n",
              "      <td>2021-01-01 22:32:20-03:00</td>\n",
              "      <td>MFAR3</td>\n",
              "      <td>-33.4034</td>\n",
              "      <td>-70.5584</td>\n",
              "      <td>0</td>\n",
              "    </tr>\n",
              "    <tr>\n",
              "      <th>37732983</th>\n",
              "      <td>ffffea064367ea293c32db026f6dee34efa6c464375ac9...</td>\n",
              "      <td>2021-01-01 23:02:20-03:00</td>\n",
              "      <td>MFAR3</td>\n",
              "      <td>-33.4034</td>\n",
              "      <td>-70.5584</td>\n",
              "      <td>0</td>\n",
              "    </tr>\n",
              "    <tr>\n",
              "      <th>37732984</th>\n",
              "      <td>ffffea064367ea293c32db026f6dee34efa6c464375ac9...</td>\n",
              "      <td>2021-01-01 23:32:20-03:00</td>\n",
              "      <td>MFAR3</td>\n",
              "      <td>-33.4034</td>\n",
              "      <td>-70.5584</td>\n",
              "      <td>0</td>\n",
              "    </tr>\n",
              "  </tbody>\n",
              "</table>\n",
              "<p>37732985 rows × 6 columns</p>\n",
              "</div>"
            ],
            "text/plain": [
              "                                                   PHONE_ID  \\\n",
              "0         00000000e3fc09803d408609f55cbf905120d3a41db564...   \n",
              "1         00000000e3fc09803d408609f55cbf905120d3a41db564...   \n",
              "2         00000000e3fc09803d408609f55cbf905120d3a41db564...   \n",
              "3         00000000e3fc09803d408609f55cbf905120d3a41db564...   \n",
              "4         00000000e3fc09803d408609f55cbf905120d3a41db564...   \n",
              "...                                                     ...   \n",
              "37732980  ffffea064367ea293c32db026f6dee34efa6c464375ac9...   \n",
              "37732981  ffffea064367ea293c32db026f6dee34efa6c464375ac9...   \n",
              "37732982  ffffea064367ea293c32db026f6dee34efa6c464375ac9...   \n",
              "37732983  ffffea064367ea293c32db026f6dee34efa6c464375ac9...   \n",
              "37732984  ffffea064367ea293c32db026f6dee34efa6c464375ac9...   \n",
              "\n",
              "                         timestamp bts_id      lat      lon  drop  \n",
              "0        2021-01-01 00:09:15-03:00  ECROF -33.3844 -70.5534     0  \n",
              "1        2021-01-01 00:16:37-03:00  VTAND -33.3806 -70.5419     0  \n",
              "2        2021-01-01 00:18:36-03:00  VTAND -33.3806 -70.5419     0  \n",
              "3        2021-01-01 00:39:15-03:00  MANNE -33.3994 -70.5699     0  \n",
              "4        2021-01-01 00:48:36-03:00  LCPHU -33.3972 -70.5499     0  \n",
              "...                            ...    ...      ...      ...   ...  \n",
              "37732980 2021-01-01 21:32:20-03:00  MFAR3 -33.4034 -70.5584     0  \n",
              "37732981 2021-01-01 22:02:20-03:00  MFAR3 -33.4034 -70.5584     0  \n",
              "37732982 2021-01-01 22:32:20-03:00  MFAR3 -33.4034 -70.5584     0  \n",
              "37732983 2021-01-01 23:02:20-03:00  MFAR3 -33.4034 -70.5584     0  \n",
              "37732984 2021-01-01 23:32:20-03:00  MFAR3 -33.4034 -70.5584     0  \n",
              "\n",
              "[37732985 rows x 6 columns]"
            ]
          },
          "execution_count": 20,
          "metadata": {},
          "output_type": "execute_result"
        }
      ],
      "source": [
        "df2"
      ]
    },
    {
      "cell_type": "code",
      "execution_count": null,
      "id": "a722f5f6",
      "metadata": {
        "id": "a722f5f6"
      },
      "outputs": [],
      "source": [
        "df2.to_csv('loreto_idea_clean.csv', encoding='utf-8')"
      ]
    },
    {
      "cell_type": "code",
      "execution_count": null,
      "id": "b84f8949",
      "metadata": {
        "id": "b84f8949"
      },
      "outputs": [],
      "source": [
        "df_test = df2.copy()"
      ]
    },
    {
      "cell_type": "code",
      "execution_count": null,
      "id": "e4b0a03a",
      "metadata": {
        "id": "e4b0a03a",
        "outputId": "5fa21342-ca73-4228-d689-e87c3be4186f"
      },
      "outputs": [
        {
          "data": {
            "text/html": [
              "<div>\n",
              "<style scoped>\n",
              "    .dataframe tbody tr th:only-of-type {\n",
              "        vertical-align: middle;\n",
              "    }\n",
              "\n",
              "    .dataframe tbody tr th {\n",
              "        vertical-align: top;\n",
              "    }\n",
              "\n",
              "    .dataframe thead th {\n",
              "        text-align: right;\n",
              "    }\n",
              "</style>\n",
              "<table border=\"1\" class=\"dataframe\">\n",
              "  <thead>\n",
              "    <tr style=\"text-align: right;\">\n",
              "      <th></th>\n",
              "      <th>PHONE_ID</th>\n",
              "      <th>timestamp</th>\n",
              "      <th>bts_id</th>\n",
              "      <th>lat</th>\n",
              "      <th>lon</th>\n",
              "      <th>drop</th>\n",
              "    </tr>\n",
              "  </thead>\n",
              "  <tbody>\n",
              "    <tr>\n",
              "      <th>0</th>\n",
              "      <td>00000000e3fc09803d408609f55cbf905120d3a41db564...</td>\n",
              "      <td>2021-01-01 00:09:15-03:00</td>\n",
              "      <td>ECROF</td>\n",
              "      <td>-33.3844</td>\n",
              "      <td>-70.5534</td>\n",
              "      <td>0</td>\n",
              "    </tr>\n",
              "    <tr>\n",
              "      <th>1</th>\n",
              "      <td>00000000e3fc09803d408609f55cbf905120d3a41db564...</td>\n",
              "      <td>2021-01-01 00:16:37-03:00</td>\n",
              "      <td>VTAND</td>\n",
              "      <td>-33.3806</td>\n",
              "      <td>-70.5419</td>\n",
              "      <td>0</td>\n",
              "    </tr>\n",
              "    <tr>\n",
              "      <th>2</th>\n",
              "      <td>00000000e3fc09803d408609f55cbf905120d3a41db564...</td>\n",
              "      <td>2021-01-01 00:18:36-03:00</td>\n",
              "      <td>VTAND</td>\n",
              "      <td>-33.3806</td>\n",
              "      <td>-70.5419</td>\n",
              "      <td>0</td>\n",
              "    </tr>\n",
              "    <tr>\n",
              "      <th>3</th>\n",
              "      <td>00000000e3fc09803d408609f55cbf905120d3a41db564...</td>\n",
              "      <td>2021-01-01 00:39:15-03:00</td>\n",
              "      <td>MANNE</td>\n",
              "      <td>-33.3994</td>\n",
              "      <td>-70.5699</td>\n",
              "      <td>0</td>\n",
              "    </tr>\n",
              "    <tr>\n",
              "      <th>4</th>\n",
              "      <td>00000000e3fc09803d408609f55cbf905120d3a41db564...</td>\n",
              "      <td>2021-01-01 00:48:36-03:00</td>\n",
              "      <td>LCPHU</td>\n",
              "      <td>-33.3972</td>\n",
              "      <td>-70.5499</td>\n",
              "      <td>0</td>\n",
              "    </tr>\n",
              "    <tr>\n",
              "      <th>...</th>\n",
              "      <td>...</td>\n",
              "      <td>...</td>\n",
              "      <td>...</td>\n",
              "      <td>...</td>\n",
              "      <td>...</td>\n",
              "      <td>...</td>\n",
              "    </tr>\n",
              "    <tr>\n",
              "      <th>37732980</th>\n",
              "      <td>ffffea064367ea293c32db026f6dee34efa6c464375ac9...</td>\n",
              "      <td>2021-01-01 21:32:20-03:00</td>\n",
              "      <td>MFAR3</td>\n",
              "      <td>-33.4034</td>\n",
              "      <td>-70.5584</td>\n",
              "      <td>0</td>\n",
              "    </tr>\n",
              "    <tr>\n",
              "      <th>37732981</th>\n",
              "      <td>ffffea064367ea293c32db026f6dee34efa6c464375ac9...</td>\n",
              "      <td>2021-01-01 22:02:20-03:00</td>\n",
              "      <td>MFAR3</td>\n",
              "      <td>-33.4034</td>\n",
              "      <td>-70.5584</td>\n",
              "      <td>0</td>\n",
              "    </tr>\n",
              "    <tr>\n",
              "      <th>37732982</th>\n",
              "      <td>ffffea064367ea293c32db026f6dee34efa6c464375ac9...</td>\n",
              "      <td>2021-01-01 22:32:20-03:00</td>\n",
              "      <td>MFAR3</td>\n",
              "      <td>-33.4034</td>\n",
              "      <td>-70.5584</td>\n",
              "      <td>0</td>\n",
              "    </tr>\n",
              "    <tr>\n",
              "      <th>37732983</th>\n",
              "      <td>ffffea064367ea293c32db026f6dee34efa6c464375ac9...</td>\n",
              "      <td>2021-01-01 23:02:20-03:00</td>\n",
              "      <td>MFAR3</td>\n",
              "      <td>-33.4034</td>\n",
              "      <td>-70.5584</td>\n",
              "      <td>0</td>\n",
              "    </tr>\n",
              "    <tr>\n",
              "      <th>37732984</th>\n",
              "      <td>ffffea064367ea293c32db026f6dee34efa6c464375ac9...</td>\n",
              "      <td>2021-01-01 23:32:20-03:00</td>\n",
              "      <td>MFAR3</td>\n",
              "      <td>-33.4034</td>\n",
              "      <td>-70.5584</td>\n",
              "      <td>0</td>\n",
              "    </tr>\n",
              "  </tbody>\n",
              "</table>\n",
              "<p>37732985 rows × 6 columns</p>\n",
              "</div>"
            ],
            "text/plain": [
              "                                                   PHONE_ID  \\\n",
              "0         00000000e3fc09803d408609f55cbf905120d3a41db564...   \n",
              "1         00000000e3fc09803d408609f55cbf905120d3a41db564...   \n",
              "2         00000000e3fc09803d408609f55cbf905120d3a41db564...   \n",
              "3         00000000e3fc09803d408609f55cbf905120d3a41db564...   \n",
              "4         00000000e3fc09803d408609f55cbf905120d3a41db564...   \n",
              "...                                                     ...   \n",
              "37732980  ffffea064367ea293c32db026f6dee34efa6c464375ac9...   \n",
              "37732981  ffffea064367ea293c32db026f6dee34efa6c464375ac9...   \n",
              "37732982  ffffea064367ea293c32db026f6dee34efa6c464375ac9...   \n",
              "37732983  ffffea064367ea293c32db026f6dee34efa6c464375ac9...   \n",
              "37732984  ffffea064367ea293c32db026f6dee34efa6c464375ac9...   \n",
              "\n",
              "                         timestamp bts_id      lat      lon  drop  \n",
              "0        2021-01-01 00:09:15-03:00  ECROF -33.3844 -70.5534     0  \n",
              "1        2021-01-01 00:16:37-03:00  VTAND -33.3806 -70.5419     0  \n",
              "2        2021-01-01 00:18:36-03:00  VTAND -33.3806 -70.5419     0  \n",
              "3        2021-01-01 00:39:15-03:00  MANNE -33.3994 -70.5699     0  \n",
              "4        2021-01-01 00:48:36-03:00  LCPHU -33.3972 -70.5499     0  \n",
              "...                            ...    ...      ...      ...   ...  \n",
              "37732980 2021-01-01 21:32:20-03:00  MFAR3 -33.4034 -70.5584     0  \n",
              "37732981 2021-01-01 22:02:20-03:00  MFAR3 -33.4034 -70.5584     0  \n",
              "37732982 2021-01-01 22:32:20-03:00  MFAR3 -33.4034 -70.5584     0  \n",
              "37732983 2021-01-01 23:02:20-03:00  MFAR3 -33.4034 -70.5584     0  \n",
              "37732984 2021-01-01 23:32:20-03:00  MFAR3 -33.4034 -70.5584     0  \n",
              "\n",
              "[37732985 rows x 6 columns]"
            ]
          },
          "execution_count": 23,
          "metadata": {},
          "output_type": "execute_result"
        }
      ],
      "source": [
        "df_test"
      ]
    },
    {
      "cell_type": "code",
      "execution_count": null,
      "id": "2eff9842",
      "metadata": {
        "id": "2eff9842"
      },
      "outputs": [],
      "source": [
        "df_test['vel'] = dis(df2.groupby(['PHONE_ID'])['lat'].shift(1), df2.groupby(['PHONE_ID'])['lon'].shift(1), df2['lat'], df2['lon'])"
      ]
    },
    {
      "cell_type": "code",
      "execution_count": null,
      "id": "c93a794a",
      "metadata": {
        "id": "c93a794a",
        "outputId": "31013d18-c1a5-4e98-c43a-4b90d2894f8e"
      },
      "outputs": [
        {
          "data": {
            "text/plain": [
              "array([37732985], dtype=int64)"
            ]
          },
          "execution_count": 26,
          "metadata": {},
          "output_type": "execute_result"
        }
      ],
      "source": [
        "df_mask2 = df_test['vel'] > 150\n",
        "df_mask2.value_counts().values"
      ]
    },
    {
      "cell_type": "code",
      "execution_count": null,
      "id": "6bb4ab9f",
      "metadata": {
        "id": "6bb4ab9f"
      },
      "outputs": [],
      "source": []
    }
  ],
  "metadata": {
    "kernelspec": {
      "display_name": "Python 3 (ipykernel)",
      "language": "python",
      "name": "python3"
    },
    "language_info": {
      "codemirror_mode": {
        "name": "ipython",
        "version": 3
      },
      "file_extension": ".py",
      "mimetype": "text/x-python",
      "name": "python",
      "nbconvert_exporter": "python",
      "pygments_lexer": "ipython3",
      "version": "3.9.12"
    },
    "colab": {
      "provenance": []
    }
  },
  "nbformat": 4,
  "nbformat_minor": 5
}