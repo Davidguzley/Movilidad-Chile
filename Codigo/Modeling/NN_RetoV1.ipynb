{
 "cells": [
  {
   "cell_type": "code",
   "execution_count": 1,
   "metadata": {},
   "outputs": [],
   "source": [
    "# Import lbraries\n",
    "import numpy as np\n",
    "import pandas as pd\n",
    "import tensorflow as tf\n",
    "import matplotlib.pyplot as plt\n",
    "from tensorflow.keras import Model\n",
    "from sklearn.metrics import r2_score\n",
    "from tensorflow.keras import Sequential\n",
    "from tensorflow.keras.optimizers import Adam\n",
    "from sklearn.preprocessing import StandardScaler\n",
    "from tensorflow.keras.layers import Dense, Dropout\n",
    "from sklearn.model_selection import train_test_split\n",
    "from tensorflow.keras.losses import MeanSquaredError\n",
    "from tensorflow.keras.losses import MeanAbsoluteError\n",
    "from tensorflow.keras.metrics import RootMeanSquaredError"
   ]
  },
  {
   "cell_type": "code",
   "execution_count": 2,
   "metadata": {},
   "outputs": [
    {
     "data": {
      "text/html": [
       "<div>\n",
       "<style scoped>\n",
       "    .dataframe tbody tr th:only-of-type {\n",
       "        vertical-align: middle;\n",
       "    }\n",
       "\n",
       "    .dataframe tbody tr th {\n",
       "        vertical-align: top;\n",
       "    }\n",
       "\n",
       "    .dataframe thead th {\n",
       "        text-align: right;\n",
       "    }\n",
       "</style>\n",
       "<table border=\"1\" class=\"dataframe\">\n",
       "  <thead>\n",
       "    <tr style=\"text-align: right;\">\n",
       "      <th></th>\n",
       "      <th>Unnamed: 0</th>\n",
       "      <th>%_of_homeoffice</th>\n",
       "      <th>Cantidad de Conexiones de internet fijas</th>\n",
       "      <th>Numero de empresas sin ventas</th>\n",
       "      <th>Cantidad de trabajadores en empresas sin ventas</th>\n",
       "      <th>Numero de empresas Micro 1</th>\n",
       "      <th>Cantidad de trabajadores en empresas Micro 1</th>\n",
       "      <th>Numero de empresas Pequeña 1</th>\n",
       "      <th>Cantidad de trabajadores en empresas Pequeña 1</th>\n",
       "      <th>Numero de empresas Mediana 1</th>\n",
       "      <th>Cantidad de trabajadores en empresas Mediana 1</th>\n",
       "      <th>Numero de empresas Grande 1</th>\n",
       "      <th>Cantidad de trabajadores en empresas Grande 1</th>\n",
       "      <th>Consumo de Electricidad en Servicios Comunitarios en M$</th>\n",
       "      <th>Consumo de Electricidad en M$</th>\n",
       "      <th>Consumo de Electricidad Dependencias Municipales en M$</th>\n",
       "      <th>Empresas informaticas</th>\n",
       "      <th>Empresas no informaticas</th>\n",
       "      <th>Trabajadores en empresas informaticas</th>\n",
       "      <th>Trabajadores en empresas no informaticas</th>\n",
       "    </tr>\n",
       "  </thead>\n",
       "  <tbody>\n",
       "    <tr>\n",
       "      <th>0</th>\n",
       "      <td>Las Condes</td>\n",
       "      <td>61.260607</td>\n",
       "      <td>123359.0</td>\n",
       "      <td>13507.0</td>\n",
       "      <td>15727.0</td>\n",
       "      <td>11934.0</td>\n",
       "      <td>2533.0</td>\n",
       "      <td>6200.0</td>\n",
       "      <td>17716.0</td>\n",
       "      <td>2102.0</td>\n",
       "      <td>44293.0</td>\n",
       "      <td>980.0</td>\n",
       "      <td>68487.0</td>\n",
       "      <td>1608421.0</td>\n",
       "      <td>375540.0</td>\n",
       "      <td>1232881.0</td>\n",
       "      <td>32101.0</td>\n",
       "      <td>33332.0</td>\n",
       "      <td>368675.0</td>\n",
       "      <td>651272.0</td>\n",
       "    </tr>\n",
       "    <tr>\n",
       "      <th>1</th>\n",
       "      <td>Santiago</td>\n",
       "      <td>58.401903</td>\n",
       "      <td>171687.0</td>\n",
       "      <td>15587.0</td>\n",
       "      <td>207904.0</td>\n",
       "      <td>16220.0</td>\n",
       "      <td>59506.0</td>\n",
       "      <td>5769.0</td>\n",
       "      <td>26065.0</td>\n",
       "      <td>1449.0</td>\n",
       "      <td>52774.0</td>\n",
       "      <td>424.0</td>\n",
       "      <td>54314.0</td>\n",
       "      <td>3035099.0</td>\n",
       "      <td>420817.0</td>\n",
       "      <td>2614282.0</td>\n",
       "      <td>23551.0</td>\n",
       "      <td>47660.0</td>\n",
       "      <td>367621.0</td>\n",
       "      <td>711310.0</td>\n",
       "    </tr>\n",
       "    <tr>\n",
       "      <th>2</th>\n",
       "      <td>El Monte</td>\n",
       "      <td>59.689753</td>\n",
       "      <td>5635.0</td>\n",
       "      <td>306.0</td>\n",
       "      <td>804.0</td>\n",
       "      <td>491.0</td>\n",
       "      <td>1478.0</td>\n",
       "      <td>121.0</td>\n",
       "      <td>386.0</td>\n",
       "      <td>15.0</td>\n",
       "      <td>593.0</td>\n",
       "      <td>3.0</td>\n",
       "      <td>125.0</td>\n",
       "      <td>227620.0</td>\n",
       "      <td>227620.0</td>\n",
       "      <td>0.0</td>\n",
       "      <td>221.0</td>\n",
       "      <td>1466.0</td>\n",
       "      <td>192.0</td>\n",
       "      <td>5683.0</td>\n",
       "    </tr>\n",
       "    <tr>\n",
       "      <th>3</th>\n",
       "      <td>Estación Central</td>\n",
       "      <td>59.541304</td>\n",
       "      <td>52799.0</td>\n",
       "      <td>1410.0</td>\n",
       "      <td>1737.0</td>\n",
       "      <td>2130.0</td>\n",
       "      <td>358.0</td>\n",
       "      <td>595.0</td>\n",
       "      <td>3050.0</td>\n",
       "      <td>118.0</td>\n",
       "      <td>6091.0</td>\n",
       "      <td>43.0</td>\n",
       "      <td>12435.0</td>\n",
       "      <td>1807185.0</td>\n",
       "      <td>68539.0</td>\n",
       "      <td>1738646.0</td>\n",
       "      <td>1640.0</td>\n",
       "      <td>6324.0</td>\n",
       "      <td>10333.0</td>\n",
       "      <td>61895.0</td>\n",
       "    </tr>\n",
       "    <tr>\n",
       "      <th>4</th>\n",
       "      <td>Recoleta</td>\n",
       "      <td>60.146239</td>\n",
       "      <td>39371.0</td>\n",
       "      <td>2102.0</td>\n",
       "      <td>2038.0</td>\n",
       "      <td>3161.0</td>\n",
       "      <td>503.0</td>\n",
       "      <td>1095.0</td>\n",
       "      <td>4811.0</td>\n",
       "      <td>353.0</td>\n",
       "      <td>8464.0</td>\n",
       "      <td>99.0</td>\n",
       "      <td>5706.0</td>\n",
       "      <td>602111.0</td>\n",
       "      <td>183891.0</td>\n",
       "      <td>417268.0</td>\n",
       "      <td>2891.0</td>\n",
       "      <td>10288.0</td>\n",
       "      <td>25591.0</td>\n",
       "      <td>52594.0</td>\n",
       "    </tr>\n",
       "  </tbody>\n",
       "</table>\n",
       "</div>"
      ],
      "text/plain": [
       "         Unnamed: 0  %_of_homeoffice  \\\n",
       "0        Las Condes        61.260607   \n",
       "1          Santiago        58.401903   \n",
       "2          El Monte        59.689753   \n",
       "3  Estación Central        59.541304   \n",
       "4          Recoleta        60.146239   \n",
       "\n",
       "   Cantidad de Conexiones de internet fijas  Numero de empresas sin ventas  \\\n",
       "0                                  123359.0                        13507.0   \n",
       "1                                  171687.0                        15587.0   \n",
       "2                                    5635.0                          306.0   \n",
       "3                                   52799.0                         1410.0   \n",
       "4                                   39371.0                         2102.0   \n",
       "\n",
       "   Cantidad de trabajadores en empresas sin ventas  \\\n",
       "0                                          15727.0   \n",
       "1                                         207904.0   \n",
       "2                                            804.0   \n",
       "3                                           1737.0   \n",
       "4                                           2038.0   \n",
       "\n",
       "   Numero de empresas Micro 1  Cantidad de trabajadores en empresas Micro 1  \\\n",
       "0                     11934.0                                        2533.0   \n",
       "1                     16220.0                                       59506.0   \n",
       "2                       491.0                                        1478.0   \n",
       "3                      2130.0                                         358.0   \n",
       "4                      3161.0                                         503.0   \n",
       "\n",
       "   Numero de empresas Pequeña 1  \\\n",
       "0                        6200.0   \n",
       "1                        5769.0   \n",
       "2                         121.0   \n",
       "3                         595.0   \n",
       "4                        1095.0   \n",
       "\n",
       "   Cantidad de trabajadores en empresas Pequeña 1  \\\n",
       "0                                         17716.0   \n",
       "1                                         26065.0   \n",
       "2                                           386.0   \n",
       "3                                          3050.0   \n",
       "4                                          4811.0   \n",
       "\n",
       "   Numero de empresas Mediana 1  \\\n",
       "0                        2102.0   \n",
       "1                        1449.0   \n",
       "2                          15.0   \n",
       "3                         118.0   \n",
       "4                         353.0   \n",
       "\n",
       "   Cantidad de trabajadores en empresas Mediana 1  \\\n",
       "0                                         44293.0   \n",
       "1                                         52774.0   \n",
       "2                                           593.0   \n",
       "3                                          6091.0   \n",
       "4                                          8464.0   \n",
       "\n",
       "   Numero de empresas Grande 1  Cantidad de trabajadores en empresas Grande 1  \\\n",
       "0                        980.0                                        68487.0   \n",
       "1                        424.0                                        54314.0   \n",
       "2                          3.0                                          125.0   \n",
       "3                         43.0                                        12435.0   \n",
       "4                         99.0                                         5706.0   \n",
       "\n",
       "  Consumo de Electricidad en Servicios Comunitarios en M$  \\\n",
       "0                                          1608421.0        \n",
       "1                                          3035099.0        \n",
       "2                                           227620.0        \n",
       "3                                          1807185.0        \n",
       "4                                           602111.0        \n",
       "\n",
       "  Consumo de Electricidad en M$  \\\n",
       "0                      375540.0   \n",
       "1                      420817.0   \n",
       "2                      227620.0   \n",
       "3                       68539.0   \n",
       "4                      183891.0   \n",
       "\n",
       "  Consumo de Electricidad Dependencias Municipales en M$  \\\n",
       "0                                          1232881.0       \n",
       "1                                          2614282.0       \n",
       "2                                                0.0       \n",
       "3                                          1738646.0       \n",
       "4                                           417268.0       \n",
       "\n",
       "   Empresas informaticas  Empresas no informaticas  \\\n",
       "0                32101.0                   33332.0   \n",
       "1                23551.0                   47660.0   \n",
       "2                  221.0                    1466.0   \n",
       "3                 1640.0                    6324.0   \n",
       "4                 2891.0                   10288.0   \n",
       "\n",
       "   Trabajadores en empresas informaticas  \\\n",
       "0                               368675.0   \n",
       "1                               367621.0   \n",
       "2                                  192.0   \n",
       "3                                10333.0   \n",
       "4                                25591.0   \n",
       "\n",
       "   Trabajadores en empresas no informaticas  \n",
       "0                                  651272.0  \n",
       "1                                  711310.0  \n",
       "2                                    5683.0  \n",
       "3                                   61895.0  \n",
       "4                                   52594.0  "
      ]
     },
     "execution_count": 2,
     "metadata": {},
     "output_type": "execute_result"
    }
   ],
   "source": [
    "# Read csv file and transform it into a DataFrame\n",
    "data = pd.read_csv('final.csv')\n",
    "data = data.replace(' -', 0)\n",
    "data.head()"
   ]
  },
  {
   "cell_type": "code",
   "execution_count": 3,
   "metadata": {},
   "outputs": [],
   "source": [
    "# Separate data in X's and y\n",
    "x_data, y_data = data.drop([\"%_of_homeoffice\", \"Unnamed: 0\"], axis=1), data[\"%_of_homeoffice\"]\n",
    "\n",
    "x_data = np.asarray(x_data).astype(np.float32)\n",
    "y_data = np.asarray(y_data).astype(np.float32)\n",
    "\n",
    "# Split data into train and test\n",
    "x_train, x_test, y_train, y_test = train_test_split(x_data, y_data, random_state=42, test_size=0.1, shuffle=True)"
   ]
  },
  {
   "cell_type": "code",
   "execution_count": 4,
   "metadata": {},
   "outputs": [],
   "source": [
    "learning_rate = 0.01\n",
    "\n",
    "# Creating model using the Sequential in tensorflow\n",
    "def build_model_using_sequential():\n",
    "  model = Sequential([\n",
    "    Dense(180, activation='relu'),\n",
    "    Dropout(0.2),\n",
    "    Dense(512, activation='relu'),\n",
    "    Dropout(0.2),\n",
    "    Dense(256, activation='relu'),\n",
    "    Dense(1, activation='linear')\n",
    "  ])\n",
    "  return model\n",
    "# build the model\n",
    "model = build_model_using_sequential()"
   ]
  },
  {
   "cell_type": "code",
   "execution_count": 5,
   "metadata": {},
   "outputs": [],
   "source": [
    "# loss function\n",
    "mse = MeanSquaredError()\n",
    "rmse = RootMeanSquaredError()\n",
    "mae = MeanAbsoluteError()\n",
    "\n",
    "model.compile(\n",
    "    loss=mse, \n",
    "    optimizer=Adam(learning_rate=learning_rate), \n",
    "    metrics=[mse, rmse, mae]\n",
    ")"
   ]
  },
  {
   "cell_type": "code",
   "execution_count": 6,
   "metadata": {},
   "outputs": [
    {
     "name": "stdout",
     "output_type": "stream",
     "text": [
      "Epoch 1/10\n",
      "1/1 [==============================] - 2s 2s/step - loss: 4181206784.0000 - mean_squared_error: 4181206784.0000 - root_mean_squared_error: 64662.2500 - mean_absolute_error: 29668.3379 - val_loss: 174512193536.0000 - val_mean_squared_error: 174512193536.0000 - val_root_mean_squared_error: 417746.5625 - val_mean_absolute_error: 326231.0938\n",
      "Epoch 2/10\n",
      "1/1 [==============================] - 0s 30ms/step - loss: 486997524480.0000 - mean_squared_error: 486997524480.0000 - root_mean_squared_error: 697852.0625 - mean_absolute_error: 510264.5000 - val_loss: 1299091947520.0000 - val_mean_squared_error: 1299091947520.0000 - val_root_mean_squared_error: 1139777.1250 - val_mean_absolute_error: 931521.6250\n",
      "Epoch 3/10\n",
      "1/1 [==============================] - 0s 28ms/step - loss: 8706406219776.0000 - mean_squared_error: 8706406219776.0000 - root_mean_squared_error: 2950662.0000 - mean_absolute_error: 1869116.6250 - val_loss: 75576131584.0000 - val_mean_squared_error: 75576131584.0000 - val_root_mean_squared_error: 274911.1250 - val_mean_absolute_error: 226766.1562\n",
      "Epoch 4/10\n",
      "1/1 [==============================] - 0s 32ms/step - loss: 1019529920512.0000 - mean_squared_error: 1019529920512.0000 - root_mean_squared_error: 1009717.7500 - mean_absolute_error: 521575.2812 - val_loss: 4479609344.0000 - val_mean_squared_error: 4479609344.0000 - val_root_mean_squared_error: 66929.8828 - val_mean_absolute_error: 53373.3047\n",
      "Epoch 5/10\n",
      "1/1 [==============================] - 0s 36ms/step - loss: 21429407744.0000 - mean_squared_error: 21429407744.0000 - root_mean_squared_error: 146387.8750 - mean_absolute_error: 90079.7656 - val_loss: 10929545216.0000 - val_mean_squared_error: 10929545216.0000 - val_root_mean_squared_error: 104544.4609 - val_mean_absolute_error: 84467.6406\n",
      "Epoch 6/10\n",
      "1/1 [==============================] - 0s 29ms/step - loss: 122301366272.0000 - mean_squared_error: 122301366272.0000 - root_mean_squared_error: 349716.1250 - mean_absolute_error: 183013.6250 - val_loss: 8224012800.0000 - val_mean_squared_error: 8224012800.0000 - val_root_mean_squared_error: 90686.3438 - val_mean_absolute_error: 73085.0781\n",
      "Epoch 7/10\n",
      "1/1 [==============================] - 0s 35ms/step - loss: 74968358912.0000 - mean_squared_error: 74968358912.0000 - root_mean_squared_error: 273803.5000 - mean_absolute_error: 156099.3906 - val_loss: 5011615744.0000 - val_mean_squared_error: 5011615744.0000 - val_root_mean_squared_error: 70792.7656 - val_mean_absolute_error: 56983.1328\n",
      "Epoch 8/10\n",
      "1/1 [==============================] - 0s 30ms/step - loss: 46326317056.0000 - mean_squared_error: 46326317056.0000 - root_mean_squared_error: 215235.4844 - mean_absolute_error: 122947.8281 - val_loss: 2801337088.0000 - val_mean_squared_error: 2801337088.0000 - val_root_mean_squared_error: 52927.6562 - val_mean_absolute_error: 42566.7891\n",
      "Epoch 9/10\n",
      "1/1 [==============================] - 0s 33ms/step - loss: 25097897984.0000 - mean_squared_error: 25097897984.0000 - root_mean_squared_error: 158423.1562 - mean_absolute_error: 89185.0859 - val_loss: 1342162944.0000 - val_mean_squared_error: 1342162944.0000 - val_root_mean_squared_error: 36635.5430 - val_mean_absolute_error: 29394.4805\n",
      "Epoch 10/10\n",
      "1/1 [==============================] - 0s 33ms/step - loss: 16083295232.0000 - mean_squared_error: 16083295232.0000 - root_mean_squared_error: 126819.9297 - mean_absolute_error: 65093.2422 - val_loss: 459499616.0000 - val_mean_squared_error: 459499616.0000 - val_root_mean_squared_error: 21435.9414 - val_mean_absolute_error: 17197.4883\n"
     ]
    }
   ],
   "source": [
    "# train the model\n",
    "history = model.fit(\n",
    "    x_train, \n",
    "    y_train, \n",
    "    epochs=10, \n",
    "    batch_size=64,\n",
    "    validation_split=0.1\n",
    ")"
   ]
  },
  {
   "cell_type": "code",
   "execution_count": 7,
   "metadata": {},
   "outputs": [
    {
     "name": "stdout",
     "output_type": "stream",
     "text": [
      "Model: \"sequential\"\n",
      "_________________________________________________________________\n",
      "Layer (type)                 Output Shape              Param #   \n",
      "=================================================================\n",
      "dense (Dense)                (None, 180)               3420      \n",
      "_________________________________________________________________\n",
      "dropout (Dropout)            (None, 180)               0         \n",
      "_________________________________________________________________\n",
      "dense_1 (Dense)              (None, 512)               92672     \n",
      "_________________________________________________________________\n",
      "dropout_1 (Dropout)          (None, 512)               0         \n",
      "_________________________________________________________________\n",
      "dense_2 (Dense)              (None, 256)               131328    \n",
      "_________________________________________________________________\n",
      "dense_3 (Dense)              (None, 1)                 257       \n",
      "=================================================================\n",
      "Total params: 227,677\n",
      "Trainable params: 227,677\n",
      "Non-trainable params: 0\n",
      "_________________________________________________________________\n"
     ]
    }
   ],
   "source": [
    "model.summary()"
   ]
  },
  {
   "cell_type": "code",
   "execution_count": 8,
   "metadata": {},
   "outputs": [],
   "source": [
    "# Function to plot the metrics\n",
    "def plot_history(history, key):\n",
    "    plt.plot(history.history[key])\n",
    "    plt.plot(history.history['val_'+key])\n",
    "    plt.xlabel(\"Epochs\")\n",
    "    plt.ylabel(key)\n",
    "    plt.legend([key, 'val_'+key])\n",
    "    plt.show()"
   ]
  },
  {
   "cell_type": "markdown",
   "metadata": {},
   "source": [
    "#### Plot the Mean Squared Error"
   ]
  },
  {
   "cell_type": "code",
   "execution_count": 9,
   "metadata": {},
   "outputs": [
    {
     "data": {
      "image/png": "[encoded data removed]",
      "text/plain": [
       "<Figure size 432x288 with 1 Axes>"
      ]
     },
     "metadata": {
      "needs_background": "light"
     },
     "output_type": "display_data"
    }
   ],
   "source": [
    "plot_history(history, 'mean_squared_error')"
   ]
  },
  {
   "cell_type": "markdown",
   "metadata": {},
   "source": [
    "#### Plot the Root Mean Squared Error"
   ]
  },
  {
   "cell_type": "code",
   "execution_count": 10,
   "metadata": {},
   "outputs": [
    {
     "data": {
      "image/png": "[encoded data removed]",
      "text/plain": [
       "<Figure size 432x288 with 1 Axes>"
      ]
     },
     "metadata": {
      "needs_background": "light"
     },
     "output_type": "display_data"
    }
   ],
   "source": [
    "plot_history(history, 'root_mean_squared_error')"
   ]
  },
  {
   "cell_type": "markdown",
   "metadata": {},
   "source": [
    "#### Plot the Root Mean Absolute Error"
   ]
  },
  {
   "cell_type": "code",
   "execution_count": 11,
   "metadata": {},
   "outputs": [
    {
     "data": {
      "image/png": "[encoded data removed]",
      "text/plain": [
       "<Figure size 432x288 with 1 Axes>"
      ]
     },
     "metadata": {
      "needs_background": "light"
     },
     "output_type": "display_data"
    }
   ],
   "source": [
    "plot_history(history, 'mean_absolute_error')"
   ]
  },
  {
   "cell_type": "markdown",
   "metadata": {},
   "source": [
    "#### Model Rsquared score"
   ]
  },
  {
   "cell_type": "code",
   "execution_count": 12,
   "metadata": {},
   "outputs": [
    {
     "data": {
      "text/plain": [
       "-1941478980.3054454"
      ]
     },
     "execution_count": 12,
     "metadata": {},
     "output_type": "execute_result"
    }
   ],
   "source": [
    "y_pred = model.predict(x_test) \n",
    "\n",
    "r2 = r2_score(y_test, y_pred)\n",
    "r2"
   ]
  },
  {
   "cell_type": "markdown",
   "metadata": {},
   "source": [
    "#### Show Evaluation"
   ]
  },
  {
   "cell_type": "code",
   "execution_count": 13,
   "metadata": {},
   "outputs": [
    {
     "name": "stdout",
     "output_type": "stream",
     "text": [
      "RMSE: 52380.125\n",
      "MSE: 4647275008.0\n",
      "MAE: 42886.359375\n",
      "r2: -1941478980.3054454\n"
     ]
    }
   ],
   "source": [
    "Mse = mse(y_test, y_pred).numpy()\n",
    "Rmse = rmse(y_test, y_pred).numpy()\n",
    "Mae = mae(y_test, y_pred).numpy()\n",
    "\n",
    "print(f\"RMSE: {Rmse}\")\n",
    "print(f\"MSE: {Mse}\")\n",
    "print(f\"MAE: {Mae}\")\n",
    "print(f\"r2: {r2}\")"
   ]
  },
  {
   "cell_type": "code",
   "execution_count": null,
   "metadata": {},
   "outputs": [],
   "source": []
  }
 ],
 "metadata": {
  "kernelspec": {
   "display_name": "Python 3.9.13 ('tf-gpu')",
   "language": "python",
   "name": "python3"
  },
  "language_info": {
   "codemirror_mode": {
    "name": "ipython",
    "version": 3
   },
   "file_extension": ".py",
   "mimetype": "text/x-python",
   "name": "python",
   "nbconvert_exporter": "python",
   "pygments_lexer": "ipython3",
   "version": "3.9.13"
  },
  "orig_nbformat": 4,
  "vscode": {
   "interpreter": {
    "hash": "745095b1cf661a57d350590e07a7b92e2b9ee4490c52a493110747fe34eccf47"
   }
  }
 },
 "nbformat": 4,
 "nbformat_minor": 2
}
