{
 "cells": [
  {
   "cell_type": "code",
   "execution_count": 1,
   "metadata": {},
   "outputs": [],
   "source": [
    "# Import lbraries\n",
    "import numpy as np\n",
    "import pandas as pd\n",
    "import tensorflow as tf\n",
    "import matplotlib.pyplot as plt\n",
    "from tensorflow.keras import Model\n",
    "from sklearn.metrics import r2_score\n",
    "from tensorflow.keras import Sequential\n",
    "from tensorflow.keras.optimizers import Adam\n",
    "from sklearn.preprocessing import StandardScaler\n",
    "from tensorflow.keras.layers import Dense, Dropout\n",
    "from sklearn.model_selection import train_test_split\n",
    "from tensorflow.keras.losses import MeanSquaredError\n",
    "from tensorflow.keras.losses import MeanAbsoluteError\n",
    "from tensorflow.keras.metrics import RootMeanSquaredError"
   ]
  },
  {
   "cell_type": "code",
   "execution_count": 2,
   "metadata": {},
   "outputs": [
    {
     "data": {
      "text/html": [
       "<div>\n",
       "<style scoped>\n",
       "    .dataframe tbody tr th:only-of-type {\n",
       "        vertical-align: middle;\n",
       "    }\n",
       "\n",
       "    .dataframe tbody tr th {\n",
       "        vertical-align: top;\n",
       "    }\n",
       "\n",
       "    .dataframe thead th {\n",
       "        text-align: right;\n",
       "    }\n",
       "</style>\n",
       "<table border=\"1\" class=\"dataframe\">\n",
       "  <thead>\n",
       "    <tr style=\"text-align: right;\">\n",
       "      <th></th>\n",
       "      <th>Unnamed: 0</th>\n",
       "      <th>%_of_homeoffice</th>\n",
       "      <th>Cantidad de Conexiones de internet fijas</th>\n",
       "      <th>Numero de empresas sin ventas</th>\n",
       "      <th>Cantidad de trabajadores en empresas sin ventas</th>\n",
       "      <th>Numero de empresas Micro 1</th>\n",
       "      <th>Cantidad de trabajadores en empresas Micro 1</th>\n",
       "      <th>Numero de empresas Pequeña 1</th>\n",
       "      <th>Cantidad de trabajadores en empresas Pequeña 1</th>\n",
       "      <th>Numero de empresas Mediana 1</th>\n",
       "      <th>Cantidad de trabajadores en empresas Mediana 1</th>\n",
       "      <th>Numero de empresas Grande 1</th>\n",
       "      <th>Cantidad de trabajadores en empresas Grande 1</th>\n",
       "      <th>Consumo de Electricidad en Servicios Comunitarios en M$</th>\n",
       "      <th>Consumo de Electricidad en M$</th>\n",
       "      <th>Consumo de Electricidad Dependencias Municipales en M$</th>\n",
       "      <th>Empresas informaticas</th>\n",
       "      <th>Empresas no informaticas</th>\n",
       "      <th>Trabajadores en empresas informaticas</th>\n",
       "      <th>Trabajadores en empresas no informaticas</th>\n",
       "    </tr>\n",
       "  </thead>\n",
       "  <tbody>\n",
       "    <tr>\n",
       "      <th>0</th>\n",
       "      <td>Las Condes</td>\n",
       "      <td>61.260607</td>\n",
       "      <td>123359.0</td>\n",
       "      <td>13507.0</td>\n",
       "      <td>15727.0</td>\n",
       "      <td>11934.0</td>\n",
       "      <td>2533.0</td>\n",
       "      <td>6200.0</td>\n",
       "      <td>17716.0</td>\n",
       "      <td>2102.0</td>\n",
       "      <td>44293.0</td>\n",
       "      <td>980.0</td>\n",
       "      <td>68487.0</td>\n",
       "      <td>1608421.0</td>\n",
       "      <td>375540.0</td>\n",
       "      <td>1232881.0</td>\n",
       "      <td>32101.0</td>\n",
       "      <td>33332.0</td>\n",
       "      <td>368675.0</td>\n",
       "      <td>651272.0</td>\n",
       "    </tr>\n",
       "    <tr>\n",
       "      <th>1</th>\n",
       "      <td>Santiago</td>\n",
       "      <td>58.401903</td>\n",
       "      <td>171687.0</td>\n",
       "      <td>15587.0</td>\n",
       "      <td>207904.0</td>\n",
       "      <td>16220.0</td>\n",
       "      <td>59506.0</td>\n",
       "      <td>5769.0</td>\n",
       "      <td>26065.0</td>\n",
       "      <td>1449.0</td>\n",
       "      <td>52774.0</td>\n",
       "      <td>424.0</td>\n",
       "      <td>54314.0</td>\n",
       "      <td>3035099.0</td>\n",
       "      <td>420817.0</td>\n",
       "      <td>2614282.0</td>\n",
       "      <td>23551.0</td>\n",
       "      <td>47660.0</td>\n",
       "      <td>367621.0</td>\n",
       "      <td>711310.0</td>\n",
       "    </tr>\n",
       "    <tr>\n",
       "      <th>2</th>\n",
       "      <td>El Monte</td>\n",
       "      <td>59.689753</td>\n",
       "      <td>5635.0</td>\n",
       "      <td>306.0</td>\n",
       "      <td>804.0</td>\n",
       "      <td>491.0</td>\n",
       "      <td>1478.0</td>\n",
       "      <td>121.0</td>\n",
       "      <td>386.0</td>\n",
       "      <td>15.0</td>\n",
       "      <td>593.0</td>\n",
       "      <td>3.0</td>\n",
       "      <td>125.0</td>\n",
       "      <td>227620.0</td>\n",
       "      <td>227620.0</td>\n",
       "      <td>0.0</td>\n",
       "      <td>221.0</td>\n",
       "      <td>1466.0</td>\n",
       "      <td>192.0</td>\n",
       "      <td>5683.0</td>\n",
       "    </tr>\n",
       "    <tr>\n",
       "      <th>3</th>\n",
       "      <td>Estación Central</td>\n",
       "      <td>59.541304</td>\n",
       "      <td>52799.0</td>\n",
       "      <td>1410.0</td>\n",
       "      <td>1737.0</td>\n",
       "      <td>2130.0</td>\n",
       "      <td>358.0</td>\n",
       "      <td>595.0</td>\n",
       "      <td>3050.0</td>\n",
       "      <td>118.0</td>\n",
       "      <td>6091.0</td>\n",
       "      <td>43.0</td>\n",
       "      <td>12435.0</td>\n",
       "      <td>1807185.0</td>\n",
       "      <td>68539.0</td>\n",
       "      <td>1738646.0</td>\n",
       "      <td>1640.0</td>\n",
       "      <td>6324.0</td>\n",
       "      <td>10333.0</td>\n",
       "      <td>61895.0</td>\n",
       "    </tr>\n",
       "    <tr>\n",
       "      <th>4</th>\n",
       "      <td>Recoleta</td>\n",
       "      <td>60.146239</td>\n",
       "      <td>39371.0</td>\n",
       "      <td>2102.0</td>\n",
       "      <td>2038.0</td>\n",
       "      <td>3161.0</td>\n",
       "      <td>503.0</td>\n",
       "      <td>1095.0</td>\n",
       "      <td>4811.0</td>\n",
       "      <td>353.0</td>\n",
       "      <td>8464.0</td>\n",
       "      <td>99.0</td>\n",
       "      <td>5706.0</td>\n",
       "      <td>602111.0</td>\n",
       "      <td>183891.0</td>\n",
       "      <td>417268.0</td>\n",
       "      <td>2891.0</td>\n",
       "      <td>10288.0</td>\n",
       "      <td>25591.0</td>\n",
       "      <td>52594.0</td>\n",
       "    </tr>\n",
       "  </tbody>\n",
       "</table>\n",
       "</div>"
      ],
      "text/plain": [
       "         Unnamed: 0  %_of_homeoffice  \\\n",
       "0        Las Condes        61.260607   \n",
       "1          Santiago        58.401903   \n",
       "2          El Monte        59.689753   \n",
       "3  Estación Central        59.541304   \n",
       "4          Recoleta        60.146239   \n",
       "\n",
       "   Cantidad de Conexiones de internet fijas  Numero de empresas sin ventas  \\\n",
       "0                                  123359.0                        13507.0   \n",
       "1                                  171687.0                        15587.0   \n",
       "2                                    5635.0                          306.0   \n",
       "3                                   52799.0                         1410.0   \n",
       "4                                   39371.0                         2102.0   \n",
       "\n",
       "   Cantidad de trabajadores en empresas sin ventas  \\\n",
       "0                                          15727.0   \n",
       "1                                         207904.0   \n",
       "2                                            804.0   \n",
       "3                                           1737.0   \n",
       "4                                           2038.0   \n",
       "\n",
       "   Numero de empresas Micro 1  Cantidad de trabajadores en empresas Micro 1  \\\n",
       "0                     11934.0                                        2533.0   \n",
       "1                     16220.0                                       59506.0   \n",
       "2                       491.0                                        1478.0   \n",
       "3                      2130.0                                         358.0   \n",
       "4                      3161.0                                         503.0   \n",
       "\n",
       "   Numero de empresas Pequeña 1  \\\n",
       "0                        6200.0   \n",
       "1                        5769.0   \n",
       "2                         121.0   \n",
       "3                         595.0   \n",
       "4                        1095.0   \n",
       "\n",
       "   Cantidad de trabajadores en empresas Pequeña 1  \\\n",
       "0                                         17716.0   \n",
       "1                                         26065.0   \n",
       "2                                           386.0   \n",
       "3                                          3050.0   \n",
       "4                                          4811.0   \n",
       "\n",
       "   Numero de empresas Mediana 1  \\\n",
       "0                        2102.0   \n",
       "1                        1449.0   \n",
       "2                          15.0   \n",
       "3                         118.0   \n",
       "4                         353.0   \n",
       "\n",
       "   Cantidad de trabajadores en empresas Mediana 1  \\\n",
       "0                                         44293.0   \n",
       "1                                         52774.0   \n",
       "2                                           593.0   \n",
       "3                                          6091.0   \n",
       "4                                          8464.0   \n",
       "\n",
       "   Numero de empresas Grande 1  Cantidad de trabajadores en empresas Grande 1  \\\n",
       "0                        980.0                                        68487.0   \n",
       "1                        424.0                                        54314.0   \n",
       "2                          3.0                                          125.0   \n",
       "3                         43.0                                        12435.0   \n",
       "4                         99.0                                         5706.0   \n",
       "\n",
       "  Consumo de Electricidad en Servicios Comunitarios en M$  \\\n",
       "0                                          1608421.0        \n",
       "1                                          3035099.0        \n",
       "2                                           227620.0        \n",
       "3                                          1807185.0        \n",
       "4                                           602111.0        \n",
       "\n",
       "  Consumo de Electricidad en M$  \\\n",
       "0                      375540.0   \n",
       "1                      420817.0   \n",
       "2                      227620.0   \n",
       "3                       68539.0   \n",
       "4                      183891.0   \n",
       "\n",
       "  Consumo de Electricidad Dependencias Municipales en M$  \\\n",
       "0                                          1232881.0       \n",
       "1                                          2614282.0       \n",
       "2                                                0.0       \n",
       "3                                          1738646.0       \n",
       "4                                           417268.0       \n",
       "\n",
       "   Empresas informaticas  Empresas no informaticas  \\\n",
       "0                32101.0                   33332.0   \n",
       "1                23551.0                   47660.0   \n",
       "2                  221.0                    1466.0   \n",
       "3                 1640.0                    6324.0   \n",
       "4                 2891.0                   10288.0   \n",
       "\n",
       "   Trabajadores en empresas informaticas  \\\n",
       "0                               368675.0   \n",
       "1                               367621.0   \n",
       "2                                  192.0   \n",
       "3                                10333.0   \n",
       "4                                25591.0   \n",
       "\n",
       "   Trabajadores en empresas no informaticas  \n",
       "0                                  651272.0  \n",
       "1                                  711310.0  \n",
       "2                                    5683.0  \n",
       "3                                   61895.0  \n",
       "4                                   52594.0  "
      ]
     },
     "execution_count": 2,
     "metadata": {},
     "output_type": "execute_result"
    }
   ],
   "source": [
    "# Read csv file and transform it into a DataFrame\n",
    "data = pd.read_csv('final.csv')\n",
    "data = data.replace(' -', 0)\n",
    "data.head()"
   ]
  },
  {
   "cell_type": "code",
   "execution_count": 3,
   "metadata": {},
   "outputs": [],
   "source": [
    "# Separate data in X's and y\n",
    "x_data, y_data = data.drop([\"%_of_homeoffice\", \"Unnamed: 0\"], axis=1), data[\"%_of_homeoffice\"]\n",
    "\n",
    "x_data = np.asarray(x_data).astype(np.float32)\n",
    "y_data = np.asarray(y_data).astype(np.float32)\n",
    "\n",
    "# Split data into train and test\n",
    "x_train, x_test, y_train, y_test = train_test_split(x_data, y_data, random_state=42, test_size=0.1, shuffle=True)"
   ]
  },
  {
   "cell_type": "code",
   "execution_count": 4,
   "metadata": {},
   "outputs": [],
   "source": [
    "learning_rate = 0.001\n",
    "\n",
    "# Creating model using the Sequential in tensorflow\n",
    "def build_model_using_sequential():\n",
    "  model = Sequential([\n",
    "    Dense(160, activation='relu'),\n",
    "    Dropout(0.2),\n",
    "    Dense(480, activation='relu'),\n",
    "    Dropout(0.2),\n",
    "    Dense(256, activation='relu'),\n",
    "    Dense(1, activation='linear')\n",
    "  ])\n",
    "  return model\n",
    "# build the model\n",
    "model = build_model_using_sequential()"
   ]
  },
  {
   "cell_type": "code",
   "execution_count": 5,
   "metadata": {},
   "outputs": [],
   "source": [
    "# loss function\n",
    "mse = MeanSquaredError()\n",
    "rmse = RootMeanSquaredError()\n",
    "mae = MeanAbsoluteError()\n",
    "\n",
    "model.compile(\n",
    "    loss=mse, \n",
    "    optimizer=Adam(learning_rate=learning_rate), \n",
    "    metrics=[mse, rmse, mae]\n",
    ")"
   ]
  },
  {
   "cell_type": "code",
   "execution_count": 6,
   "metadata": {},
   "outputs": [
    {
     "name": "stdout",
     "output_type": "stream",
     "text": [
      "Epoch 1/20\n",
      "1/1 [==============================] - 2s 2s/step - loss: 1907783552.0000 - mean_squared_error: 1907783552.0000 - root_mean_squared_error: 43678.1797 - mean_absolute_error: 24360.4941 - val_loss: 98717200.0000 - val_mean_squared_error: 98717200.0000 - val_root_mean_squared_error: 9935.6523 - val_mean_absolute_error: 8024.7812\n",
      "Epoch 2/20\n",
      "1/1 [==============================] - 0s 33ms/step - loss: 8215611392.0000 - mean_squared_error: 8215611392.0000 - root_mean_squared_error: 90640.0078 - mean_absolute_error: 35439.3828 - val_loss: 2213835264.0000 - val_mean_squared_error: 2213835264.0000 - val_root_mean_squared_error: 47051.4102 - val_mean_absolute_error: 37360.5195\n",
      "Epoch 3/20\n",
      "1/1 [==============================] - 0s 34ms/step - loss: 6670746624.0000 - mean_squared_error: 6670746624.0000 - root_mean_squared_error: 81674.6406 - mean_absolute_error: 62897.4141 - val_loss: 708656512.0000 - val_mean_squared_error: 708656512.0000 - val_root_mean_squared_error: 26620.6035 - val_mean_absolute_error: 20761.3086\n",
      "Epoch 4/20\n",
      "1/1 [==============================] - 0s 35ms/step - loss: 4721613824.0000 - mean_squared_error: 4721613824.0000 - root_mean_squared_error: 68714.0000 - mean_absolute_error: 43579.2812 - val_loss: 28750266.0000 - val_mean_squared_error: 28750266.0000 - val_root_mean_squared_error: 5361.9272 - val_mean_absolute_error: 4933.4639\n",
      "Epoch 5/20\n",
      "1/1 [==============================] - 0s 31ms/step - loss: 1190520320.0000 - mean_squared_error: 1190520320.0000 - root_mean_squared_error: 34503.9180 - mean_absolute_error: 21391.7930 - val_loss: 450271552.0000 - val_mean_squared_error: 450271552.0000 - val_root_mean_squared_error: 21219.6035 - val_mean_absolute_error: 17874.3086\n",
      "Epoch 6/20\n",
      "1/1 [==============================] - 0s 33ms/step - loss: 10188505088.0000 - mean_squared_error: 10188505088.0000 - root_mean_squared_error: 100938.1250 - mean_absolute_error: 43831.1484 - val_loss: 64560780.0000 - val_mean_squared_error: 64560780.0000 - val_root_mean_squared_error: 8034.9722 - val_mean_absolute_error: 6860.2998\n",
      "Epoch 7/20\n",
      "1/1 [==============================] - 0s 30ms/step - loss: 1900687232.0000 - mean_squared_error: 1900687232.0000 - root_mean_squared_error: 43596.8711 - mean_absolute_error: 23931.7617 - val_loss: 184137392.0000 - val_mean_squared_error: 184137392.0000 - val_root_mean_squared_error: 13569.7236 - val_mean_absolute_error: 10823.0967\n",
      "Epoch 8/20\n",
      "1/1 [==============================] - 0s 33ms/step - loss: 5019446784.0000 - mean_squared_error: 5019446784.0000 - root_mean_squared_error: 70848.0547 - mean_absolute_error: 32517.3047 - val_loss: 333065792.0000 - val_mean_squared_error: 333065792.0000 - val_root_mean_squared_error: 18250.0898 - val_mean_absolute_error: 14777.2188\n",
      "Epoch 9/20\n",
      "1/1 [==============================] - 0s 33ms/step - loss: 8208207360.0000 - mean_squared_error: 8208207360.0000 - root_mean_squared_error: 90599.1562 - mean_absolute_error: 37391.4531 - val_loss: 73087224.0000 - val_mean_squared_error: 73087224.0000 - val_root_mean_squared_error: 8549.1064 - val_mean_absolute_error: 6885.0117\n",
      "Epoch 10/20\n",
      "1/1 [==============================] - 0s 34ms/step - loss: 1201431296.0000 - mean_squared_error: 1201431296.0000 - root_mean_squared_error: 34661.6680 - mean_absolute_error: 24086.1426 - val_loss: 25703134.0000 - val_mean_squared_error: 25703134.0000 - val_root_mean_squared_error: 5069.8257 - val_mean_absolute_error: 4054.1548\n",
      "Epoch 11/20\n",
      "1/1 [==============================] - 0s 42ms/step - loss: 1173219840.0000 - mean_squared_error: 1173219840.0000 - root_mean_squared_error: 34252.2969 - mean_absolute_error: 21487.0332 - val_loss: 216630944.0000 - val_mean_squared_error: 216630944.0000 - val_root_mean_squared_error: 14718.3877 - val_mean_absolute_error: 11822.6348\n",
      "Epoch 12/20\n",
      "1/1 [==============================] - 0s 32ms/step - loss: 1718160896.0000 - mean_squared_error: 1718160896.0000 - root_mean_squared_error: 41450.7031 - mean_absolute_error: 28361.3750 - val_loss: 470327456.0000 - val_mean_squared_error: 470327456.0000 - val_root_mean_squared_error: 21687.0332 - val_mean_absolute_error: 17561.4902\n",
      "Epoch 13/20\n",
      "1/1 [==============================] - 0s 36ms/step - loss: 3542588928.0000 - mean_squared_error: 3542588928.0000 - root_mean_squared_error: 59519.6523 - mean_absolute_error: 36797.4883 - val_loss: 313851072.0000 - val_mean_squared_error: 313851072.0000 - val_root_mean_squared_error: 17715.8418 - val_mean_absolute_error: 14353.2344\n",
      "Epoch 14/20\n",
      "1/1 [==============================] - 0s 40ms/step - loss: 7344417280.0000 - mean_squared_error: 7344417280.0000 - root_mean_squared_error: 85699.5781 - mean_absolute_error: 42579.1602 - val_loss: 208720000.0000 - val_mean_squared_error: 208720000.0000 - val_root_mean_squared_error: 14447.1445 - val_mean_absolute_error: 11682.6855\n",
      "Epoch 15/20\n",
      "1/1 [==============================] - 0s 35ms/step - loss: 752924736.0000 - mean_squared_error: 752924736.0000 - root_mean_squared_error: 27439.4746 - mean_absolute_error: 19588.7871 - val_loss: 65986216.0000 - val_mean_squared_error: 65986216.0000 - val_root_mean_squared_error: 8123.1899 - val_mean_absolute_error: 6529.5483\n",
      "Epoch 16/20\n",
      "1/1 [==============================] - 0s 31ms/step - loss: 2567378432.0000 - mean_squared_error: 2567378432.0000 - root_mean_squared_error: 50669.3047 - mean_absolute_error: 26847.9629 - val_loss: 20853196.0000 - val_mean_squared_error: 20853196.0000 - val_root_mean_squared_error: 4566.5298 - val_mean_absolute_error: 3712.7065\n",
      "Epoch 17/20\n",
      "1/1 [==============================] - 0s 32ms/step - loss: 571990336.0000 - mean_squared_error: 571990336.0000 - root_mean_squared_error: 23916.3184 - mean_absolute_error: 17326.4277 - val_loss: 206038528.0000 - val_mean_squared_error: 206038528.0000 - val_root_mean_squared_error: 14354.0420 - val_mean_absolute_error: 11638.8936\n",
      "Epoch 18/20\n",
      "1/1 [==============================] - 0s 32ms/step - loss: 1255832960.0000 - mean_squared_error: 1255832960.0000 - root_mean_squared_error: 35437.7344 - mean_absolute_error: 23439.7129 - val_loss: 383811168.0000 - val_mean_squared_error: 383811168.0000 - val_root_mean_squared_error: 19591.0996 - val_mean_absolute_error: 15873.3311\n",
      "Epoch 19/20\n",
      "1/1 [==============================] - 0s 29ms/step - loss: 1785402624.0000 - mean_squared_error: 1785402624.0000 - root_mean_squared_error: 42254.0234 - mean_absolute_error: 28997.3711 - val_loss: 387171488.0000 - val_mean_squared_error: 387171488.0000 - val_root_mean_squared_error: 19676.6738 - val_mean_absolute_error: 15971.6436\n",
      "Epoch 20/20\n",
      "1/1 [==============================] - 0s 28ms/step - loss: 4168353024.0000 - mean_squared_error: 4168353024.0000 - root_mean_squared_error: 64562.7812 - mean_absolute_error: 35241.8125 - val_loss: 164404048.0000 - val_mean_squared_error: 164404048.0000 - val_root_mean_squared_error: 12822.0137 - val_mean_absolute_error: 10459.1514\n"
     ]
    }
   ],
   "source": [
    "# train the model\n",
    "history = model.fit(\n",
    "    x_train, \n",
    "    y_train, \n",
    "    epochs=20, \n",
    "    batch_size=64,\n",
    "    validation_split=0.1\n",
    ")"
   ]
  },
  {
   "cell_type": "code",
   "execution_count": 7,
   "metadata": {},
   "outputs": [
    {
     "name": "stdout",
     "output_type": "stream",
     "text": [
      "Model: \"sequential\"\n",
      "_________________________________________________________________\n",
      "Layer (type)                 Output Shape              Param #   \n",
      "=================================================================\n",
      "dense (Dense)                (None, 160)               3040      \n",
      "_________________________________________________________________\n",
      "dropout (Dropout)            (None, 160)               0         \n",
      "_________________________________________________________________\n",
      "dense_1 (Dense)              (None, 480)               77280     \n",
      "_________________________________________________________________\n",
      "dropout_1 (Dropout)          (None, 480)               0         \n",
      "_________________________________________________________________\n",
      "dense_2 (Dense)              (None, 256)               123136    \n",
      "_________________________________________________________________\n",
      "dense_3 (Dense)              (None, 1)                 257       \n",
      "=================================================================\n",
      "Total params: 203,713\n",
      "Trainable params: 203,713\n",
      "Non-trainable params: 0\n",
      "_________________________________________________________________\n"
     ]
    }
   ],
   "source": [
    "model.summary()"
   ]
  },
  {
   "cell_type": "code",
   "execution_count": 8,
   "metadata": {},
   "outputs": [],
   "source": [
    "# Function to plot the metrics\n",
    "def plot_history(history, key):\n",
    "    plt.plot(history.history[key])\n",
    "    plt.plot(history.history['val_'+key])\n",
    "    plt.xlabel(\"Epochs\")\n",
    "    plt.ylabel(key)\n",
    "    plt.legend([key, 'val_'+key])\n",
    "    plt.show()"
   ]
  },
  {
   "cell_type": "markdown",
   "metadata": {},
   "source": [
    "#### Plot the Mean Squared Error"
   ]
  },
  {
   "cell_type": "code",
   "execution_count": 9,
   "metadata": {},
   "outputs": [
    {
     "data": {
      "image/png": "[encoded data removed]",
      "text/plain": [
       "<Figure size 432x288 with 1 Axes>"
      ]
     },
     "metadata": {
      "needs_background": "light"
     },
     "output_type": "display_data"
    }
   ],
   "source": [
    "plot_history(history, 'mean_squared_error')"
   ]
  },
  {
   "cell_type": "markdown",
   "metadata": {},
   "source": [
    "#### Plot the Root Mean Squared Error"
   ]
  },
  {
   "cell_type": "code",
   "execution_count": 10,
   "metadata": {},
   "outputs": [
    {
     "data": {
      "image/png": "[encoded data removed]",
      "text/plain": [
       "<Figure size 432x288 with 1 Axes>"
      ]
     },
     "metadata": {
      "needs_background": "light"
     },
     "output_type": "display_data"
    }
   ],
   "source": [
    "plot_history(history, 'root_mean_squared_error')"
   ]
  },
  {
   "cell_type": "markdown",
   "metadata": {},
   "source": [
    "#### Plot the Root Mean Absolute Error"
   ]
  },
  {
   "cell_type": "code",
   "execution_count": 11,
   "metadata": {},
   "outputs": [
    {
     "data": {
      "image/png": "[encoded data removed]",
      "text/plain": [
       "<Figure size 432x288 with 1 Axes>"
      ]
     },
     "metadata": {
      "needs_background": "light"
     },
     "output_type": "display_data"
    }
   ],
   "source": [
    "plot_history(history, 'mean_absolute_error')"
   ]
  },
  {
   "cell_type": "markdown",
   "metadata": {},
   "source": [
    "#### Model Rsquared score"
   ]
  },
  {
   "cell_type": "code",
   "execution_count": 12,
   "metadata": {},
   "outputs": [
    {
     "data": {
      "text/plain": [
       "-660986423.0481906"
      ]
     },
     "execution_count": 12,
     "metadata": {},
     "output_type": "execute_result"
    }
   ],
   "source": [
    "y_pred = model.predict(x_test) \n",
    "\n",
    "r2 = r2_score(y_test, y_pred)\n",
    "r2"
   ]
  },
  {
   "cell_type": "markdown",
   "metadata": {},
   "source": [
    "#### Show Evaluation"
   ]
  },
  {
   "cell_type": "code",
   "execution_count": 13,
   "metadata": {},
   "outputs": [
    {
     "name": "stdout",
     "output_type": "stream",
     "text": [
      "RMSE: 30622.205078125\n",
      "MSE: 1582216320.0\n",
      "MAE: 25411.759765625\n",
      "r2: -660986423.0481906\n"
     ]
    }
   ],
   "source": [
    "Mse = mse(y_test, y_pred).numpy()\n",
    "Rmse = rmse(y_test, y_pred).numpy()\n",
    "Mae = mae(y_test, y_pred).numpy()\n",
    "\n",
    "print(f\"RMSE: {Rmse}\")\n",
    "print(f\"MSE: {Mse}\")\n",
    "print(f\"MAE: {Mae}\")\n",
    "print(f\"r2: {r2}\")"
   ]
  },
  {
   "cell_type": "code",
   "execution_count": null,
   "metadata": {},
   "outputs": [],
   "source": []
  }
 ],
 "metadata": {
  "kernelspec": {
   "display_name": "Python 3.9.13 ('tf-gpu')",
   "language": "python",
   "name": "python3"
  },
  "language_info": {
   "codemirror_mode": {
    "name": "ipython",
    "version": 3
   },
   "file_extension": ".py",
   "mimetype": "text/x-python",
   "name": "python",
   "nbconvert_exporter": "python",
   "pygments_lexer": "ipython3",
   "version": "3.9.13"
  },
  "orig_nbformat": 4,
  "vscode": {
   "interpreter": {
    "hash": "745095b1cf661a57d350590e07a7b92e2b9ee4490c52a493110747fe34eccf47"
   }
  }
 },
 "nbformat": 4,
 "nbformat_minor": 2
}
