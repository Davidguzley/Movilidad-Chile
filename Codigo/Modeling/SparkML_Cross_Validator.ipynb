{
  "nbformat": 4,
  "nbformat_minor": 0,
  "metadata": {
    "colab": {
      "provenance": [],
      "toc_visible": true
    },
    "kernelspec": {
      "name": "python3",
      "display_name": "Python 3"
    },
    "language_info": {
      "name": "python"
    },
    "accelerator": "GPU"
  },
  "cells": [
    {
      "cell_type": "markdown",
      "source": [
        "# Imports"
      ],
      "metadata": {
        "id": "4bU6sqFTomMa"
      }
    },
    {
      "cell_type": "code",
      "execution_count": null,
      "metadata": {
        "colab": {
          "base_uri": "https://localhost:8080/"
        },
        "id": "bsAqItQpm5Ft",
        "outputId": "7c195345-cc8f-4081-f09d-0acc82b3e845"
      },
      "outputs": [
        {
          "output_type": "stream",
          "name": "stdout",
          "text": [
            "Drive already mounted at /content/gdrive; to attempt to forcibly remount, call drive.mount(\"/content/gdrive\", force_remount=True).\n"
          ]
        }
      ],
      "source": [
        "from google.colab import drive\n",
        "drive.mount(\"/content/gdrive\")  "
      ]
    },
    {
      "cell_type": "markdown",
      "source": [
        "# Acesso a los datos"
      ],
      "metadata": {
        "id": "V9_kNqRVopgx"
      }
    },
    {
      "cell_type": "code",
      "source": [
        "%cd \"/content/gdrive/Shareddrives/Cortesanas de IA/Reto/Modelado_v2\"\n",
        "!ls"
      ],
      "metadata": {
        "colab": {
          "base_uri": "https://localhost:8080/"
        },
        "id": "OtiVeZSknKvb",
        "outputId": "3b17faca-4c5e-46d8-d8f9-de30537a7a14"
      },
      "execution_count": null,
      "outputs": [
        {
          "output_type": "stream",
          "name": "stdout",
          "text": [
            "/content/gdrive/Shareddrives/Cortesanas de IA/Reto/Modelado_v2\n",
            "antenas.csv\t\t   NN_RetoV1.ipynb\n",
            "datasets\t\t   NN_RetoV2.ipynb\n",
            "final.csv\t\t   obtain_data_Chile.ipynb\n",
            "Get_%_of_homeoffice.ipynb  spark-3.2.2-bin-hadoop3.2\n",
            "Getting_model.ipynb\t   spark-3.2.2-bin-hadoop3.2.tgz\n",
            "HomeOffice.csv\t\t   spark-3.2.2-bin-hadoop3.2.tgz.1\n",
            "merge_data_Chile.ipynb\t   SparkML.ipynb\n",
            "new_train.csv\n"
          ]
        }
      ]
    },
    {
      "cell_type": "markdown",
      "source": [
        "# PySpark"
      ],
      "metadata": {
        "id": "7xuMjOO4fCA9"
      }
    },
    {
      "cell_type": "markdown",
      "source": [
        "## Configuracion"
      ],
      "metadata": {
        "id": "kWzd1xi-ivZh"
      }
    },
    {
      "cell_type": "code",
      "source": [
        "#Bibliotecas para poder trabajar con Spark\n",
        "!sudo apt update\n",
        "!apt-get install openjdk-8-jdk-headless -qq > /dev/null\n",
        "#!wget -q https://downloads.apache.org/spark/spark-3.2.2/spark-3.2.2-bin-hadoop3.2.tgz\n",
        "!tar xf spark-3.2.2-bin-hadoop3.2.tgz  \n",
        "#Configuración de Spark con Python\n",
        "!pip install -q findspark\n",
        "!pip install pyspark\n",
        "\n",
        "#Estableciendo variable de entorno\n",
        "import os\n",
        "os.environ[\"JAVA_HOME\"] = \"/usr/lib/jvm/java-8-openjdk-amd64\"\n",
        "os.environ[\"SPARK_HOME\"] = \"spark-3.2.2-bin-hadoop3.2\"\n",
        "\n",
        "#Buscando e inicializando la instalación de Spark\n",
        "import findspark\n",
        "findspark.init()\n",
        "findspark.find()"
      ],
      "metadata": {
        "colab": {
          "base_uri": "https://localhost:8080/",
          "height": 385
        },
        "id": "ULKMCxGefGY8",
        "outputId": "a7c68997-fd4f-4730-aaf0-bb549402f038"
      },
      "execution_count": null,
      "outputs": [
        {
          "output_type": "stream",
          "name": "stdout",
          "text": [
            "\u001b[33m\r0% [Working]\u001b[0m\r            \rHit:1 http://security.ubuntu.com/ubuntu bionic-security InRelease\n",
            "\u001b[33m\r0% [Waiting for headers] [Connected to cloud.r-project.org (108.157.162.43)] [C\u001b[0m\r                                                                               \rHit:2 http://archive.ubuntu.com/ubuntu bionic InRelease\n",
            "\u001b[33m\r0% [Waiting for headers] [Connected to cloud.r-project.org (108.157.162.43)] [C\u001b[0m\u001b[33m\r0% [1 InRelease gpgv 88.7 kB] [Waiting for headers] [Connected to cloud.r-proje\u001b[0m\r                                                                               \rHit:3 http://archive.ubuntu.com/ubuntu bionic-updates InRelease\n",
            "\u001b[33m\r0% [1 InRelease gpgv 88.7 kB] [Waiting for headers] [Connected to cloud.r-proje\u001b[0m\r                                                                               \rHit:4 http://archive.ubuntu.com/ubuntu bionic-backports InRelease\n",
            "\u001b[33m\r0% [1 InRelease gpgv 88.7 kB] [Waiting for headers] [Waiting for headers] [Wait\u001b[0m\r                                                                               \rHit:5 https://cloud.r-project.org/bin/linux/ubuntu bionic-cran40/ InRelease\n",
            "\u001b[33m\r                                                                               \r0% [1 InRelease gpgv 88.7 kB] [Waiting for headers] [Waiting for headers]\u001b[0m\r                                                                         \rHit:6 http://ppa.launchpad.net/c2d4u.team/c2d4u4.0+/ubuntu bionic InRelease\n",
            "\u001b[33m\r0% [1 InRelease gpgv 88.7 kB] [Waiting for headers] [Connecting to ppa.launchpa\u001b[0m\r                                                                               \rIgn:7 https://developer.download.nvidia.com/compute/machine-learning/repos/ubuntu1804/x86_64  InRelease\n",
            "\u001b[33m\r0% [1 InRelease gpgv 88.7 kB] [Waiting for headers] [Connecting to ppa.launchpa\u001b[0m\r                                                                               \rHit:8 https://developer.download.nvidia.com/compute/cuda/repos/ubuntu1804/x86_64  InRelease\n",
            "Hit:9 https://developer.download.nvidia.com/compute/machine-learning/repos/ubuntu1804/x86_64  Release\n",
            "Hit:10 http://ppa.launchpad.net/cran/libgit2/ubuntu bionic InRelease\n",
            "Hit:11 http://ppa.launchpad.net/deadsnakes/ppa/ubuntu bionic InRelease\n",
            "Hit:12 http://ppa.launchpad.net/graphics-drivers/ppa/ubuntu bionic InRelease\n",
            "Reading package lists... Done\n",
            "Building dependency tree       \n",
            "Reading state information... Done\n",
            "14 packages can be upgraded. Run 'apt list --upgradable' to see them.\n",
            "Looking in indexes: https://pypi.org/simple, https://us-python.pkg.dev/colab-wheels/public/simple/\n",
            "Requirement already satisfied: pyspark in /usr/local/lib/python3.8/dist-packages (3.3.1)\n",
            "Requirement already satisfied: py4j==0.10.9.5 in /usr/local/lib/python3.8/dist-packages (from pyspark) (0.10.9.5)\n"
          ]
        },
        {
          "output_type": "execute_result",
          "data": {
            "text/plain": [
              "'spark-3.2.2-bin-hadoop3.2'"
            ],
            "application/vnd.google.colaboratory.intrinsic+json": {
              "type": "string"
            }
          },
          "metadata": {},
          "execution_count": 3
        }
      ]
    },
    {
      "cell_type": "markdown",
      "source": [
        "Now, we can import SparkSession from pyspark.sql and create a SparkSession, which is the entry point to Spark."
      ],
      "metadata": {
        "id": "RdSedX-IgpVf"
      }
    },
    {
      "cell_type": "markdown",
      "source": [
        "You can give a name to the session using appName() and add some configurations with config() if you wish."
      ],
      "metadata": {
        "id": "35V9AID5gqSO"
      }
    },
    {
      "cell_type": "code",
      "source": [
        "from pyspark.sql import SparkSession\n",
        "\n",
        "spark = SparkSession.builder\\\n",
        "        .master(\"local\")\\\n",
        "        .appName(\"SparkML\")\\\n",
        "        .getOrCreate()"
      ],
      "metadata": {
        "id": "LZlSWt9rgMd-"
      },
      "execution_count": null,
      "outputs": []
    },
    {
      "cell_type": "code",
      "source": [
        "spark"
      ],
      "metadata": {
        "colab": {
          "base_uri": "https://localhost:8080/",
          "height": 219
        },
        "id": "XDLLI6cAg4ed",
        "outputId": "fc6d3dee-59a8-4ee4-c9ba-ca86b3b7f9a2"
      },
      "execution_count": null,
      "outputs": [
        {
          "output_type": "execute_result",
          "data": {
            "text/plain": [
              "<pyspark.sql.session.SparkSession at 0x7f5689583e50>"
            ],
            "text/html": [
              "\n",
              "            <div>\n",
              "                <p><b>SparkSession - in-memory</b></p>\n",
              "                \n",
              "        <div>\n",
              "            <p><b>SparkContext</b></p>\n",
              "\n",
              "            <p><a href=\"http://78dda8d620da:4040\">Spark UI</a></p>\n",
              "\n",
              "            <dl>\n",
              "              <dt>Version</dt>\n",
              "                <dd><code>v3.2.2</code></dd>\n",
              "              <dt>Master</dt>\n",
              "                <dd><code>local</code></dd>\n",
              "              <dt>AppName</dt>\n",
              "                <dd><code>SparkML</code></dd>\n",
              "            </dl>\n",
              "        </div>\n",
              "        \n",
              "            </div>\n",
              "        "
            ]
          },
          "metadata": {},
          "execution_count": 5
        }
      ]
    },
    {
      "cell_type": "markdown",
      "source": [
        "## Loading data into Spark"
      ],
      "metadata": {
        "id": "x1obFdDUi2bv"
      }
    },
    {
      "cell_type": "code",
      "source": [
        "df = spark.read.csv(\"final.csv\", header=True, inferSchema=True)"
      ],
      "metadata": {
        "id": "EMibZWNOkLqT"
      },
      "execution_count": null,
      "outputs": []
    },
    {
      "cell_type": "markdown",
      "source": [
        "## Exploring Data"
      ],
      "metadata": {
        "id": "ss6HywF4_Egl"
      }
    },
    {
      "cell_type": "code",
      "source": [
        "# Show column detail\n",
        "df.printSchema()"
      ],
      "metadata": {
        "colab": {
          "base_uri": "https://localhost:8080/"
        },
        "id": "UCrYrm3-lFhl",
        "outputId": "529f348f-c158-4fa8-c5cc-1691b2c31901"
      },
      "execution_count": null,
      "outputs": [
        {
          "output_type": "stream",
          "name": "stdout",
          "text": [
            "root\n",
            " |-- Unnamed: 0: string (nullable = true)\n",
            " |-- %_of_homeoffice: double (nullable = true)\n",
            " |-- Cantidad de Conexiones de internet fijas: double (nullable = true)\n",
            " |-- Numero de empresas sin ventas: double (nullable = true)\n",
            " |-- Cantidad de trabajadores en empresas sin ventas: double (nullable = true)\n",
            " |-- Numero de empresas Micro 1: double (nullable = true)\n",
            " |-- Cantidad de trabajadores en empresas Micro 1: double (nullable = true)\n",
            " |-- Numero de empresas Pequeña 1: double (nullable = true)\n",
            " |-- Cantidad de trabajadores en empresas Pequeña 1: double (nullable = true)\n",
            " |-- Numero de empresas Mediana 1: double (nullable = true)\n",
            " |-- Cantidad de trabajadores en empresas Mediana 1: double (nullable = true)\n",
            " |-- Numero de empresas Grande 1: double (nullable = true)\n",
            " |-- Cantidad de trabajadores en empresas Grande 1: double (nullable = true)\n",
            " |-- Consumo de Electricidad en Servicios Comunitarios en M$: string (nullable = true)\n",
            " |-- Consumo de Electricidad en M$: string (nullable = true)\n",
            " |-- Consumo de Electricidad Dependencias Municipales en M$: string (nullable = true)\n",
            " |-- Empresas informaticas: double (nullable = true)\n",
            " |-- Empresas no informaticas: double (nullable = true)\n",
            " |-- Trabajadores en empresas informaticas: double (nullable = true)\n",
            " |-- Trabajadores en empresas no informaticas: double (nullable = true)\n",
            "\n"
          ]
        }
      ]
    },
    {
      "cell_type": "code",
      "source": [
        "# Display Rows\n",
        "df.show(5)"
      ],
      "metadata": {
        "colab": {
          "base_uri": "https://localhost:8080/"
        },
        "id": "M2f6mYcOlkYx",
        "outputId": "15147326-986a-4749-d289-e6be14444ff5"
      },
      "execution_count": null,
      "outputs": [
        {
          "output_type": "stream",
          "name": "stdout",
          "text": [
            "+----------------+------------------+----------------------------------------+-----------------------------+-----------------------------------------------+--------------------------+--------------------------------------------+----------------------------+----------------------------------------------+----------------------------+----------------------------------------------+---------------------------+---------------------------------------------+-------------------------------------------------------+-----------------------------+------------------------------------------------------+---------------------+------------------------+-------------------------------------+----------------------------------------+\n",
            "|      Unnamed: 0|   %_of_homeoffice|Cantidad de Conexiones de internet fijas|Numero de empresas sin ventas|Cantidad de trabajadores en empresas sin ventas|Numero de empresas Micro 1|Cantidad de trabajadores en empresas Micro 1|Numero de empresas Pequeña 1|Cantidad de trabajadores en empresas Pequeña 1|Numero de empresas Mediana 1|Cantidad de trabajadores en empresas Mediana 1|Numero de empresas Grande 1|Cantidad de trabajadores en empresas Grande 1|Consumo de Electricidad en Servicios Comunitarios en M$|Consumo de Electricidad en M$|Consumo de Electricidad Dependencias Municipales en M$|Empresas informaticas|Empresas no informaticas|Trabajadores en empresas informaticas|Trabajadores en empresas no informaticas|\n",
            "+----------------+------------------+----------------------------------------+-----------------------------+-----------------------------------------------+--------------------------+--------------------------------------------+----------------------------+----------------------------------------------+----------------------------+----------------------------------------------+---------------------------+---------------------------------------------+-------------------------------------------------------+-----------------------------+------------------------------------------------------+---------------------+------------------------+-------------------------------------+----------------------------------------+\n",
            "|      Las Condes| 61.26060706653665|                                123359.0|                      13507.0|                                        15727.0|                   11934.0|                                      2533.0|                      6200.0|                                       17716.0|                      2102.0|                                       44293.0|                      980.0|                                      68487.0|                                              1608421.0|                     375540.0|                                             1232881.0|              32101.0|                 33332.0|                             368675.0|                                651272.0|\n",
            "|        Santiago|58.401903053464885|                                171687.0|                      15587.0|                                       207904.0|                   16220.0|                                     59506.0|                      5769.0|                                       26065.0|                      1449.0|                                       52774.0|                      424.0|                                      54314.0|                                              3035099.0|                     420817.0|                                             2614282.0|              23551.0|                 47660.0|                             367621.0|                                711310.0|\n",
            "|        El Monte| 59.68975311339305|                                  5635.0|                        306.0|                                          804.0|                     491.0|                                      1478.0|                       121.0|                                         386.0|                        15.0|                                         593.0|                        3.0|                                        125.0|                                               227620.0|                     227620.0|                                                   0.0|                221.0|                  1466.0|                                192.0|                                  5683.0|\n",
            "|Estación Central| 59.54130366327281|                                 52799.0|                       1410.0|                                         1737.0|                    2130.0|                                       358.0|                       595.0|                                        3050.0|                       118.0|                                        6091.0|                       43.0|                                      12435.0|                                              1807185.0|                      68539.0|                                             1738646.0|               1640.0|                  6324.0|                              10333.0|                                 61895.0|\n",
            "|        Recoleta| 60.14623850444746|                                 39371.0|                       2102.0|                                         2038.0|                    3161.0|                                       503.0|                      1095.0|                                        4811.0|                       353.0|                                        8464.0|                       99.0|                                       5706.0|                                               602111.0|                     183891.0|                                              417268.0|               2891.0|                 10288.0|                              25591.0|                                 52594.0|\n",
            "+----------------+------------------+----------------------------------------+-----------------------------+-----------------------------------------------+--------------------------+--------------------------------------------+----------------------------+----------------------------------------------+----------------------------+----------------------------------------------+---------------------------+---------------------------------------------+-------------------------------------------------------+-----------------------------+------------------------------------------------------+---------------------+------------------------+-------------------------------------+----------------------------------------+\n",
            "only showing top 5 rows\n",
            "\n"
          ]
        }
      ]
    },
    {
      "cell_type": "code",
      "source": [
        "# Describing the columns\n",
        "df.describe().show()"
      ],
      "metadata": {
        "colab": {
          "base_uri": "https://localhost:8080/"
        },
        "id": "VYliZKaGmjud",
        "outputId": "4cd6ab13-1bab-4235-dc01-01d3e91b5cf0"
      },
      "execution_count": null,
      "outputs": [
        {
          "output_type": "stream",
          "name": "stdout",
          "text": [
            "+-------+----------+------------------+----------------------------------------+-----------------------------+-----------------------------------------------+--------------------------+--------------------------------------------+----------------------------+----------------------------------------------+----------------------------+----------------------------------------------+---------------------------+---------------------------------------------+-------------------------------------------------------+-----------------------------+------------------------------------------------------+---------------------+------------------------+-------------------------------------+----------------------------------------+\n",
            "|summary|Unnamed: 0|   %_of_homeoffice|Cantidad de Conexiones de internet fijas|Numero de empresas sin ventas|Cantidad de trabajadores en empresas sin ventas|Numero de empresas Micro 1|Cantidad de trabajadores en empresas Micro 1|Numero de empresas Pequeña 1|Cantidad de trabajadores en empresas Pequeña 1|Numero de empresas Mediana 1|Cantidad de trabajadores en empresas Mediana 1|Numero de empresas Grande 1|Cantidad de trabajadores en empresas Grande 1|Consumo de Electricidad en Servicios Comunitarios en M$|Consumo de Electricidad en M$|Consumo de Electricidad Dependencias Municipales en M$|Empresas informaticas|Empresas no informaticas|Trabajadores en empresas informaticas|Trabajadores en empresas no informaticas|\n",
            "+-------+----------+------------------+----------------------------------------+-----------------------------+-----------------------------------------------+--------------------------+--------------------------------------------+----------------------------+----------------------------------------------+----------------------------+----------------------------------------------+---------------------------+---------------------------------------------+-------------------------------------------------------+-----------------------------+------------------------------------------------------+---------------------+------------------------+-------------------------------------+----------------------------------------+\n",
            "|  count|        52|                52|                                      52|                           52|                                             52|                        52|                                          52|                          52|                                            52|                          52|                                            52|                         52|                                           52|                                                     52|                           52|                                                    52|                   52|                      52|                                   52|                                      52|\n",
            "|   mean|      null|60.915447306897185|                      38336.807692307695|           2040.4038461538462|                              7114.096153846154|         2520.153846153846|                          1668.5576923076924|           864.3461538461538|                            3497.0384615384614|          207.69230769230768|                             6282.076923076923|          76.88461538461539|                            7571.846153846154|                                               944874.8|                    231342.12|                                              712747.8|   3202.4423076923076|                 7382.25|                   31498.884615384617|                       72827.36538461539|\n",
            "| stddev|      null| 3.601304824749145|                        41151.7094710981|            3114.232214317166|                             28636.096466412982|         3120.266205238512|                            8209.17927500401|          1296.9344683070753|                             5046.772659135887|            391.178738468573|                             11261.62019452492|         161.31027875861633|                            16531.65154126319|                                     1174802.9545295096|             722475.674396727|                                      742650.006155645|     6367.15156067502|       8672.154586466311|                    84751.27139578563|                       141403.2186034423|\n",
            "|    min|     Alhué| 46.66666666666666|                                    52.0|                         76.0|                                           69.0|                     114.0|                                        18.0|                        29.0|                                         175.0|                         5.0|                                          78.0|                        1.0|                                          5.0|                                                      -|                            -|                                                     -|                 33.0|                   360.0|                                 48.0|                                  2093.0|\n",
            "|    max|     Ñuñoa| 73.49726775956285|                                171687.0|                      15587.0|                                       207904.0|                   16220.0|                                     59506.0|                      6200.0|                                       26065.0|                      2102.0|                                       52774.0|                      980.0|                                      86654.0|                                               958618.0|                      94561.0|                                               98247.0|              32101.0|                 47660.0|                             368675.0|                                711310.0|\n",
            "+-------+----------+------------------+----------------------------------------+-----------------------------+-----------------------------------------------+--------------------------+--------------------------------------------+----------------------------+----------------------------------------------+----------------------------+----------------------------------------------+---------------------------+---------------------------------------------+-------------------------------------------------------+-----------------------------+------------------------------------------------------+---------------------+------------------------+-------------------------------------+----------------------------------------+\n",
            "\n"
          ]
        }
      ]
    },
    {
      "cell_type": "markdown",
      "source": [
        "## Preprocessing Data"
      ],
      "metadata": {
        "id": "RMJXJdLiffwn"
      }
    },
    {
      "cell_type": "code",
      "source": [
        "from pyspark.sql.functions import col\n",
        "df = df.withColumn(\"Consumo de Electricidad en Servicios Comunitarios en M$\",col(\"Consumo de Electricidad en Servicios Comunitarios en M$\").cast('double'))\n",
        "df = df.withColumn(\"Consumo de Electricidad en M$\",col(\"Consumo de Electricidad en M$\").cast('double'))\n",
        "df = df.withColumn(\"Consumo de Electricidad Dependencias Municipales en M$\",col(\"Consumo de Electricidad Dependencias Municipales en M$\").cast('double'))"
      ],
      "metadata": {
        "id": "5oQIVmE-ffP6"
      },
      "execution_count": null,
      "outputs": []
    },
    {
      "cell_type": "code",
      "source": [
        "# Show column detail\n",
        "df.printSchema()"
      ],
      "metadata": {
        "colab": {
          "base_uri": "https://localhost:8080/"
        },
        "id": "M7e1VKFUhKVF",
        "outputId": "04ecff6c-c7a2-4c7f-bd10-12b850d27346"
      },
      "execution_count": null,
      "outputs": [
        {
          "output_type": "stream",
          "name": "stdout",
          "text": [
            "root\n",
            " |-- Unnamed: 0: string (nullable = true)\n",
            " |-- %_of_homeoffice: double (nullable = true)\n",
            " |-- Cantidad de Conexiones de internet fijas: double (nullable = true)\n",
            " |-- Numero de empresas sin ventas: double (nullable = true)\n",
            " |-- Cantidad de trabajadores en empresas sin ventas: double (nullable = true)\n",
            " |-- Numero de empresas Micro 1: double (nullable = true)\n",
            " |-- Cantidad de trabajadores en empresas Micro 1: double (nullable = true)\n",
            " |-- Numero de empresas Pequeña 1: double (nullable = true)\n",
            " |-- Cantidad de trabajadores en empresas Pequeña 1: double (nullable = true)\n",
            " |-- Numero de empresas Mediana 1: double (nullable = true)\n",
            " |-- Cantidad de trabajadores en empresas Mediana 1: double (nullable = true)\n",
            " |-- Numero de empresas Grande 1: double (nullable = true)\n",
            " |-- Cantidad de trabajadores en empresas Grande 1: double (nullable = true)\n",
            " |-- Consumo de Electricidad en Servicios Comunitarios en M$: double (nullable = true)\n",
            " |-- Consumo de Electricidad en M$: double (nullable = true)\n",
            " |-- Consumo de Electricidad Dependencias Municipales en M$: double (nullable = true)\n",
            " |-- Empresas informaticas: double (nullable = true)\n",
            " |-- Empresas no informaticas: double (nullable = true)\n",
            " |-- Trabajadores en empresas informaticas: double (nullable = true)\n",
            " |-- Trabajadores en empresas no informaticas: double (nullable = true)\n",
            "\n"
          ]
        }
      ]
    },
    {
      "cell_type": "code",
      "source": [
        "df = df.na.fill(0)"
      ],
      "metadata": {
        "id": "8qpTnLgpqRN8"
      },
      "execution_count": null,
      "outputs": []
    },
    {
      "cell_type": "code",
      "source": [
        "# Describing the columns\n",
        "df.describe().show()"
      ],
      "metadata": {
        "colab": {
          "base_uri": "https://localhost:8080/"
        },
        "id": "polS932Fqf0g",
        "outputId": "9552b35c-8dca-499e-98dc-a32fddca2289"
      },
      "execution_count": null,
      "outputs": [
        {
          "output_type": "stream",
          "name": "stdout",
          "text": [
            "+-------+----------+------------------+----------------------------------------+-----------------------------+-----------------------------------------------+--------------------------+--------------------------------------------+----------------------------+----------------------------------------------+----------------------------+----------------------------------------------+---------------------------+---------------------------------------------+-------------------------------------------------------+-----------------------------+------------------------------------------------------+---------------------+------------------------+-------------------------------------+----------------------------------------+\n",
            "|summary|Unnamed: 0|   %_of_homeoffice|Cantidad de Conexiones de internet fijas|Numero de empresas sin ventas|Cantidad de trabajadores en empresas sin ventas|Numero de empresas Micro 1|Cantidad de trabajadores en empresas Micro 1|Numero de empresas Pequeña 1|Cantidad de trabajadores en empresas Pequeña 1|Numero de empresas Mediana 1|Cantidad de trabajadores en empresas Mediana 1|Numero de empresas Grande 1|Cantidad de trabajadores en empresas Grande 1|Consumo de Electricidad en Servicios Comunitarios en M$|Consumo de Electricidad en M$|Consumo de Electricidad Dependencias Municipales en M$|Empresas informaticas|Empresas no informaticas|Trabajadores en empresas informaticas|Trabajadores en empresas no informaticas|\n",
            "+-------+----------+------------------+----------------------------------------+-----------------------------+-----------------------------------------------+--------------------------+--------------------------------------------+----------------------------+----------------------------------------------+----------------------------+----------------------------------------------+---------------------------+---------------------------------------------+-------------------------------------------------------+-----------------------------+------------------------------------------------------+---------------------+------------------------+-------------------------------------+----------------------------------------+\n",
            "|  count|        52|                52|                                      52|                           52|                                             52|                        52|                                          52|                          52|                                            52|                          52|                                            52|                         52|                                           52|                                                     52|                           52|                                                    52|                   52|                      52|                                   52|                                      52|\n",
            "|   mean|      null|60.915447306897185|                      38336.807692307695|           2040.4038461538462|                              7114.096153846154|         2520.153846153846|                          1668.5576923076924|           864.3461538461538|                            3497.0384615384614|          207.69230769230768|                             6282.076923076923|          76.88461538461539|                            7571.846153846154|                                      908533.4615384615|           222444.34615384616|                                     685334.4230769231|   3202.4423076923076|                 7382.25|                   31498.884615384617|                       72827.36538461539|\n",
            "| stddev|      null| 3.601304824749145|                        41151.7094710981|            3114.232214317166|                             28636.096466412982|         3120.266205238512|                            8209.17927500401|          1296.9344683070753|                             5046.772659135887|            391.178738468573|                             11261.62019452492|         161.31027875861633|                            16531.65154126319|                                      1166062.907041829|            709591.2299939098|                                     740983.2333200166|     6367.15156067502|       8672.154586466311|                    84751.27139578563|                       141403.2186034423|\n",
            "|    min|     Alhué| 46.66666666666666|                                    52.0|                         76.0|                                           69.0|                     114.0|                                        18.0|                        29.0|                                         175.0|                         5.0|                                          78.0|                        1.0|                                          5.0|                                                    0.0|                          0.0|                                                   0.0|                 33.0|                   360.0|                                 48.0|                                  2093.0|\n",
            "|    max|     Ñuñoa| 73.49726775956285|                                171687.0|                      15587.0|                                       207904.0|                   16220.0|                                     59506.0|                      6200.0|                                       26065.0|                      2102.0|                                       52774.0|                      980.0|                                      86654.0|                                              7051796.0|                    5087456.0|                                             4026394.0|              32101.0|                 47660.0|                             368675.0|                                711310.0|\n",
            "+-------+----------+------------------+----------------------------------------+-----------------------------+-----------------------------------------------+--------------------------+--------------------------------------------+----------------------------+----------------------------------------------+----------------------------+----------------------------------------------+---------------------------+---------------------------------------------+-------------------------------------------------------+-----------------------------+------------------------------------------------------+---------------------+------------------------+-------------------------------------+----------------------------------------+\n",
            "\n"
          ]
        }
      ]
    },
    {
      "cell_type": "markdown",
      "source": [
        "## Models"
      ],
      "metadata": {
        "id": "oAUUJ13lPYGM"
      }
    },
    {
      "cell_type": "code",
      "source": [
        "modelsResults = [['Model','RMSE','MSE','MAE','R2']]"
      ],
      "metadata": {
        "id": "23Z0PsYF3Glp"
      },
      "execution_count": null,
      "outputs": []
    },
    {
      "cell_type": "code",
      "source": [
        "# Imports\n",
        "from pyspark.ml.evaluation import RegressionEvaluator\n",
        "from pyspark.ml.tuning import ParamGridBuilder, CrossValidator\n",
        "from pyspark.ml.feature import VectorAssembler"
      ],
      "metadata": {
        "id": "nvq9wUijqDPW"
      },
      "execution_count": null,
      "outputs": []
    },
    {
      "cell_type": "code",
      "source": [
        "# Using VectorAssembler\n",
        "assembler = VectorAssembler(inputCols = ['Cantidad de Conexiones de internet fijas', 'Numero de empresas sin ventas', 'Cantidad de trabajadores en empresas sin ventas', 'Numero de empresas Micro 1', 'Cantidad de trabajadores en empresas Micro 1', 'Numero de empresas Pequeña 1','Cantidad de trabajadores en empresas Pequeña 1','Numero de empresas Mediana 1','Cantidad de trabajadores en empresas Mediana 1','Numero de empresas Grande 1','Cantidad de trabajadores en empresas Grande 1','Consumo de Electricidad en Servicios Comunitarios en M$','Consumo de Electricidad en M$','Consumo de Electricidad Dependencias Municipales en M$','Empresas informaticas','Empresas no informaticas','Trabajadores en empresas informaticas','Trabajadores en empresas no informaticas'], outputCol='features')\n",
        "output = assembler.transform(df)"
      ],
      "metadata": {
        "id": "GsNW_dt8bPjZ"
      },
      "execution_count": null,
      "outputs": []
    },
    {
      "cell_type": "code",
      "source": [
        "output.show()"
      ],
      "metadata": {
        "colab": {
          "base_uri": "https://localhost:8080/"
        },
        "id": "4RcSmBQ4qbMC",
        "outputId": "4d11f8f6-7763-4dc0-d428-6ed61ac0fb94"
      },
      "execution_count": null,
      "outputs": [
        {
          "output_type": "stream",
          "name": "stdout",
          "text": [
            "+-----------------+------------------+----------------------------------------+-----------------------------+-----------------------------------------------+--------------------------+--------------------------------------------+----------------------------+----------------------------------------------+----------------------------+----------------------------------------------+---------------------------+---------------------------------------------+-------------------------------------------------------+-----------------------------+------------------------------------------------------+---------------------+------------------------+-------------------------------------+----------------------------------------+--------------------+\n",
            "|       Unnamed: 0|   %_of_homeoffice|Cantidad de Conexiones de internet fijas|Numero de empresas sin ventas|Cantidad de trabajadores en empresas sin ventas|Numero de empresas Micro 1|Cantidad de trabajadores en empresas Micro 1|Numero de empresas Pequeña 1|Cantidad de trabajadores en empresas Pequeña 1|Numero de empresas Mediana 1|Cantidad de trabajadores en empresas Mediana 1|Numero de empresas Grande 1|Cantidad de trabajadores en empresas Grande 1|Consumo de Electricidad en Servicios Comunitarios en M$|Consumo de Electricidad en M$|Consumo de Electricidad Dependencias Municipales en M$|Empresas informaticas|Empresas no informaticas|Trabajadores en empresas informaticas|Trabajadores en empresas no informaticas|            features|\n",
            "+-----------------+------------------+----------------------------------------+-----------------------------+-----------------------------------------------+--------------------------+--------------------------------------------+----------------------------+----------------------------------------------+----------------------------+----------------------------------------------+---------------------------+---------------------------------------------+-------------------------------------------------------+-----------------------------+------------------------------------------------------+---------------------+------------------------+-------------------------------------+----------------------------------------+--------------------+\n",
            "|       Las Condes| 61.26060706653665|                                123359.0|                      13507.0|                                        15727.0|                   11934.0|                                      2533.0|                      6200.0|                                       17716.0|                      2102.0|                                       44293.0|                      980.0|                                      68487.0|                                              1608421.0|                     375540.0|                                             1232881.0|              32101.0|                 33332.0|                             368675.0|                                651272.0|[123359.0,13507.0...|\n",
            "|         Santiago|58.401903053464885|                                171687.0|                      15587.0|                                       207904.0|                   16220.0|                                     59506.0|                      5769.0|                                       26065.0|                      1449.0|                                       52774.0|                      424.0|                                      54314.0|                                              3035099.0|                     420817.0|                                             2614282.0|              23551.0|                 47660.0|                             367621.0|                                711310.0|[171687.0,15587.0...|\n",
            "|         El Monte| 59.68975311339305|                                  5635.0|                        306.0|                                          804.0|                     491.0|                                      1478.0|                       121.0|                                         386.0|                        15.0|                                         593.0|                        3.0|                                        125.0|                                               227620.0|                     227620.0|                                                   0.0|                221.0|                  1466.0|                                192.0|                                  5683.0|[5635.0,306.0,804...|\n",
            "| Estación Central| 59.54130366327281|                                 52799.0|                       1410.0|                                         1737.0|                    2130.0|                                       358.0|                       595.0|                                        3050.0|                       118.0|                                        6091.0|                       43.0|                                      12435.0|                                              1807185.0|                      68539.0|                                             1738646.0|               1640.0|                  6324.0|                              10333.0|                                 61895.0|[52799.0,1410.0,1...|\n",
            "|         Recoleta| 60.14623850444746|                                 39371.0|                       2102.0|                                         2038.0|                    3161.0|                                       503.0|                      1095.0|                                        4811.0|                       353.0|                                        8464.0|                       99.0|                                       5706.0|                                               602111.0|                     183891.0|                                              417268.0|               2891.0|                 10288.0|                              25591.0|                                 52594.0|[39371.0,2102.0,2...|\n",
            "|            Macul| 59.12806539509537|                                 41276.0|                       1288.0|                                         1991.0|                    1656.0|                                      1056.0|                       480.0|                                        2087.0|                       144.0|                                        3856.0|                       38.0|                                       5142.0|                                               322022.0|                      34971.0|                                              287051.0|               1738.0|                  4767.0|                              18051.0|                                 44837.0|[41276.0,1288.0,1...|\n",
            "|         Peñaflor|  61.9877800407332|                                 22192.0|                        981.0|                                         1963.0|                    1375.0|                                       185.0|                       350.0|                                        1251.0|                        41.0|                                        1430.0|                       16.0|                                        629.0|                                               531145.0|                      54449.0|                                              476696.0|                818.0|                  4059.0|                               1901.0|                                 13742.0|[22192.0,981.0,19...|\n",
            "|         Pudahuel|  59.7819850831899|                                 61302.0|                       1827.0|                                         2001.0|                    2774.0|                                       514.0|                       745.0|                                        2869.0|                       189.0|                                        8464.0|                      103.0|                                      10078.0|                                               335143.0|                      69208.0|                                              265935.0|               2088.0|                  8664.0|                              19092.0|                                 78834.0|[61302.0,1827.0,2...|\n",
            "|         La Reina| 62.19272369714847|                                 28820.0|                       1509.0|                                         2844.0|                    1650.0|                                       353.0|                       730.0|                                        1943.0|                       105.0|                                        3243.0|                       38.0|                                       3264.0|                                               663786.0|                      43019.0|                                              620767.0|               2930.0|                  4528.0|                              11896.0|                                 25326.0|[28820.0,1509.0,2...|\n",
            "|            Renca|62.821141057052856|                                 29817.0|                        976.0|                                         3331.0|                    1585.0|                                       143.0|                       411.0|                                        1602.0|                       133.0|                                        4049.0|                       54.0|                                       3808.0|                                               674909.0|                      46577.0|                                              628332.0|               1017.0|                  5295.0|                              14407.0|                                 62577.0|[29817.0,976.0,33...|\n",
            "|     Lo Barnechea| 61.35646687697161|                                 27202.0|                       2248.0|                                         2608.0|                    2150.0|                                       502.0|                      1338.0|                                        2443.0|                       353.0|                                        4948.0|                      145.0|                                       7122.0|                                              1776268.0|                     320217.0|                                             1456051.0|               6298.0|                  5914.0|                              10176.0|                                 53032.0|[27202.0,2248.0,2...|\n",
            "|            Maipú| 62.48118269193654|                                158938.0|                       4554.0|                                         8315.0|                    6906.0|                                       751.0|                      1699.0|                                        6702.0|                       216.0|                                        9707.0|                       59.0|                                       4132.0|                                              7051796.0|                    5087456.0|                                             1964340.0|               5043.0|                 19928.0|                              16590.0|                                 78133.0|[158938.0,4554.0,...|\n",
            "|             Buin| 61.83663283979371|                                 21439.0|                       1152.0|                                          961.0|                    1749.0|                                       311.0|                       528.0|                                        3684.0|                        66.0|                                        2069.0|                       20.0|                                       1453.0|                                               653066.0|                      94211.0|                                              558855.0|               1125.0|                  5387.0|                               3896.0|                                 29739.0|[21439.0,1152.0,9...|\n",
            "|        Quilicura| 61.85176414870945|                                 51909.0|                       1788.0|                                         3940.0|                    2649.0|                                       321.0|                       814.0|                                        3159.0|                       253.0|                                        6466.0|                      166.0|                                      10201.0|                                               904973.0|                     438936.0|                                              466037.0|               2239.0|                  8624.0|                              18016.0|                                190032.0|[51909.0,1788.0,3...|\n",
            "|San José De Maipo|53.756994404476416|                                   873.0|                        229.0|                                         1565.0|                     389.0|                                        58.0|                        90.0|                                         353.0|                         7.0|                                         201.0|                        4.0|                                        165.0|                                               182784.0|                      45684.0|                                              137100.0|                223.0|                   974.0|                               1074.0|                                  3195.0|[873.0,229.0,1565...|\n",
            "|       La Florida|   60.703081232493|                                115763.0|                       3939.0|                                         7449.0|                    5460.0|                                       782.0|                      1336.0|                                        4890.0|                       178.0|                                        6777.0|                       45.0|                                       3735.0|                                              2094127.0|                     146319.0|                                             1947808.0|               4971.0|                 14293.0|                              16988.0|                                 52080.0|[115763.0,3939.0,...|\n",
            "|    Padre Hurtado|  58.6189683860233|                                 17607.0|                        585.0|                                         1100.0|                    1020.0|                                       231.0|                       276.0|                                        1109.0|                        33.0|                                        1170.0|                        9.0|                                        527.0|                                               520694.0|                       9054.0|                                              511640.0|                543.0|                  2971.0|                                910.0|                                 11351.0|[17607.0,585.0,11...|\n",
            "|         Vitacura| 61.22916666666666|                                 34864.0|                       3078.0|                                         4783.0|                    2890.0|                                       775.0|                      1775.0|                                        4112.0|                       526.0|                                       11003.0|                      224.0|                                      15372.0|                                              1430192.0|                     295732.0|                                             1134460.0|               7831.0|                  8825.0|                              35931.0|                                175188.0|[34864.0,3078.0,4...|\n",
            "|        Lo Espejo| 63.52806995311114|                                 13601.0|                        495.0|                                          461.0|                     963.0|                                        52.0|                       248.0|                                         862.0|                        27.0|                                         646.0|                       12.0|                                        629.0|                                               471183.0|                      66197.0|                                              404986.0|                426.0|                  2920.0|                               1195.0|                                  9207.0|[13601.0,495.0,46...|\n",
            "|      Puente Alto| 62.53512401265571|                                153696.0|                       4301.0|                                        11125.0|                    8369.0|                                       963.0|                      1455.0|                                        6570.0|                       115.0|                                        4954.0|                       31.0|                                       4457.0|                                              4254524.0|                     225458.0|                                             4026394.0|               5334.0|                 19150.0|                               9313.0|                                 58503.0|[153696.0,4301.0,...|\n",
            "+-----------------+------------------+----------------------------------------+-----------------------------+-----------------------------------------------+--------------------------+--------------------------------------------+----------------------------+----------------------------------------------+----------------------------+----------------------------------------------+---------------------------+---------------------------------------------+-------------------------------------------------------+-----------------------------+------------------------------------------------------+---------------------+------------------------+-------------------------------------+----------------------------------------+--------------------+\n",
            "only showing top 20 rows\n",
            "\n"
          ]
        }
      ]
    },
    {
      "cell_type": "code",
      "source": [
        "# Selecting the input and output columns for modeling\n",
        "finalised_data = output.select('%_of_homeoffice','features')\n",
        "finalised_data.show()"
      ],
      "metadata": {
        "colab": {
          "base_uri": "https://localhost:8080/"
        },
        "id": "klfJKf7tbcHL",
        "outputId": "a786c71b-8f92-4e42-fa09-2def2f19e30a"
      },
      "execution_count": null,
      "outputs": [
        {
          "output_type": "stream",
          "name": "stdout",
          "text": [
            "+------------------+--------------------+\n",
            "|   %_of_homeoffice|            features|\n",
            "+------------------+--------------------+\n",
            "| 61.26060706653665|[123359.0,13507.0...|\n",
            "|58.401903053464885|[171687.0,15587.0...|\n",
            "| 59.68975311339305|[5635.0,306.0,804...|\n",
            "| 59.54130366327281|[52799.0,1410.0,1...|\n",
            "| 60.14623850444746|[39371.0,2102.0,2...|\n",
            "| 59.12806539509537|[41276.0,1288.0,1...|\n",
            "|  61.9877800407332|[22192.0,981.0,19...|\n",
            "|  59.7819850831899|[61302.0,1827.0,2...|\n",
            "| 62.19272369714847|[28820.0,1509.0,2...|\n",
            "|62.821141057052856|[29817.0,976.0,33...|\n",
            "| 61.35646687697161|[27202.0,2248.0,2...|\n",
            "| 62.48118269193654|[158938.0,4554.0,...|\n",
            "| 61.83663283979371|[21439.0,1152.0,9...|\n",
            "| 61.85176414870945|[51909.0,1788.0,3...|\n",
            "|53.756994404476416|[873.0,229.0,1565...|\n",
            "|   60.703081232493|[115763.0,3939.0,...|\n",
            "|  58.6189683860233|[17607.0,585.0,11...|\n",
            "| 61.22916666666666|[34864.0,3078.0,4...|\n",
            "| 63.52806995311114|[13601.0,495.0,46...|\n",
            "| 62.53512401265571|[153696.0,4301.0,...|\n",
            "+------------------+--------------------+\n",
            "only showing top 20 rows\n",
            "\n"
          ]
        }
      ]
    },
    {
      "cell_type": "markdown",
      "source": [
        "###OLS"
      ],
      "metadata": {
        "id": "lAcfputvw8eT"
      }
    },
    {
      "cell_type": "code",
      "source": [
        "import pandas as pd\n",
        "import numpy as np\n",
        "df1 = pd.read_csv('final.csv')\n",
        "data = df1.replace(' -', 0)\n",
        "data3 = data.drop([\"Unnamed: 0\"], axis=1)\n",
        "data4 = np.asarray(data3).astype(np.float32)\n",
        "df = pd.DataFrame(data4, columns = ['Y','a','b','c','d','e','f','g','h','i','j','k','l','m','n','o','p','q','r'])\n",
        "df.head()"
      ],
      "metadata": {
        "colab": {
          "base_uri": "https://localhost:8080/"
        },
        "id": "p-iIk63gw_uR",
        "outputId": "5cdc6166-3468-47b7-ccf0-924cdea4aa78"
      },
      "execution_count": null,
      "outputs": [
        {
          "output_type": "execute_result",
          "data": {
            "text/plain": [
              "           Y         a        b         c        d        e       f        g  \\\n",
              "0  61.260609  123359.0  13507.0   15727.0  11934.0   2533.0  6200.0  17716.0   \n",
              "1  58.401901  171687.0  15587.0  207904.0  16220.0  59506.0  5769.0  26065.0   \n",
              "2  59.689754    5635.0    306.0     804.0    491.0   1478.0   121.0    386.0   \n",
              "3  59.541306   52799.0   1410.0    1737.0   2130.0    358.0   595.0   3050.0   \n",
              "4  60.146240   39371.0   2102.0    2038.0   3161.0    503.0  1095.0   4811.0   \n",
              "\n",
              "        h        i      j        k          l         m          n        o  \\\n",
              "0  2102.0  44293.0  980.0  68487.0  1608421.0  375540.0  1232881.0  32101.0   \n",
              "1  1449.0  52774.0  424.0  54314.0  3035099.0  420817.0  2614282.0  23551.0   \n",
              "2    15.0    593.0    3.0    125.0   227620.0  227620.0        0.0    221.0   \n",
              "3   118.0   6091.0   43.0  12435.0  1807185.0   68539.0  1738646.0   1640.0   \n",
              "4   353.0   8464.0   99.0   5706.0   602111.0  183891.0   417268.0   2891.0   \n",
              "\n",
              "         p         q         r  \n",
              "0  33332.0  368675.0  651272.0  \n",
              "1  47660.0  367621.0  711310.0  \n",
              "2   1466.0     192.0    5683.0  \n",
              "3   6324.0   10333.0   61895.0  \n",
              "4  10288.0   25591.0   52594.0  "
            ],
            "text/html": [
              "\n",
              "  <div id=\"df-dadd67eb-8b14-4c10-8f2b-c9c86c5f086f\">\n",
              "    <div class=\"colab-df-container\">\n",
              "      <div>\n",
              "<style scoped>\n",
              "    .dataframe tbody tr th:only-of-type {\n",
              "        vertical-align: middle;\n",
              "    }\n",
              "\n",
              "    .dataframe tbody tr th {\n",
              "        vertical-align: top;\n",
              "    }\n",
              "\n",
              "    .dataframe thead th {\n",
              "        text-align: right;\n",
              "    }\n",
              "</style>\n",
              "<table border=\"1\" class=\"dataframe\">\n",
              "  <thead>\n",
              "    <tr style=\"text-align: right;\">\n",
              "      <th></th>\n",
              "      <th>Y</th>\n",
              "      <th>a</th>\n",
              "      <th>b</th>\n",
              "      <th>c</th>\n",
              "      <th>d</th>\n",
              "      <th>e</th>\n",
              "      <th>f</th>\n",
              "      <th>g</th>\n",
              "      <th>h</th>\n",
              "      <th>i</th>\n",
              "      <th>j</th>\n",
              "      <th>k</th>\n",
              "      <th>l</th>\n",
              "      <th>m</th>\n",
              "      <th>n</th>\n",
              "      <th>o</th>\n",
              "      <th>p</th>\n",
              "      <th>q</th>\n",
              "      <th>r</th>\n",
              "    </tr>\n",
              "  </thead>\n",
              "  <tbody>\n",
              "    <tr>\n",
              "      <th>0</th>\n",
              "      <td>61.260609</td>\n",
              "      <td>123359.0</td>\n",
              "      <td>13507.0</td>\n",
              "      <td>15727.0</td>\n",
              "      <td>11934.0</td>\n",
              "      <td>2533.0</td>\n",
              "      <td>6200.0</td>\n",
              "      <td>17716.0</td>\n",
              "      <td>2102.0</td>\n",
              "      <td>44293.0</td>\n",
              "      <td>980.0</td>\n",
              "      <td>68487.0</td>\n",
              "      <td>1608421.0</td>\n",
              "      <td>375540.0</td>\n",
              "      <td>1232881.0</td>\n",
              "      <td>32101.0</td>\n",
              "      <td>33332.0</td>\n",
              "      <td>368675.0</td>\n",
              "      <td>651272.0</td>\n",
              "    </tr>\n",
              "    <tr>\n",
              "      <th>1</th>\n",
              "      <td>58.401901</td>\n",
              "      <td>171687.0</td>\n",
              "      <td>15587.0</td>\n",
              "      <td>207904.0</td>\n",
              "      <td>16220.0</td>\n",
              "      <td>59506.0</td>\n",
              "      <td>5769.0</td>\n",
              "      <td>26065.0</td>\n",
              "      <td>1449.0</td>\n",
              "      <td>52774.0</td>\n",
              "      <td>424.0</td>\n",
              "      <td>54314.0</td>\n",
              "      <td>3035099.0</td>\n",
              "      <td>420817.0</td>\n",
              "      <td>2614282.0</td>\n",
              "      <td>23551.0</td>\n",
              "      <td>47660.0</td>\n",
              "      <td>367621.0</td>\n",
              "      <td>711310.0</td>\n",
              "    </tr>\n",
              "    <tr>\n",
              "      <th>2</th>\n",
              "      <td>59.689754</td>\n",
              "      <td>5635.0</td>\n",
              "      <td>306.0</td>\n",
              "      <td>804.0</td>\n",
              "      <td>491.0</td>\n",
              "      <td>1478.0</td>\n",
              "      <td>121.0</td>\n",
              "      <td>386.0</td>\n",
              "      <td>15.0</td>\n",
              "      <td>593.0</td>\n",
              "      <td>3.0</td>\n",
              "      <td>125.0</td>\n",
              "      <td>227620.0</td>\n",
              "      <td>227620.0</td>\n",
              "      <td>0.0</td>\n",
              "      <td>221.0</td>\n",
              "      <td>1466.0</td>\n",
              "      <td>192.0</td>\n",
              "      <td>5683.0</td>\n",
              "    </tr>\n",
              "    <tr>\n",
              "      <th>3</th>\n",
              "      <td>59.541306</td>\n",
              "      <td>52799.0</td>\n",
              "      <td>1410.0</td>\n",
              "      <td>1737.0</td>\n",
              "      <td>2130.0</td>\n",
              "      <td>358.0</td>\n",
              "      <td>595.0</td>\n",
              "      <td>3050.0</td>\n",
              "      <td>118.0</td>\n",
              "      <td>6091.0</td>\n",
              "      <td>43.0</td>\n",
              "      <td>12435.0</td>\n",
              "      <td>1807185.0</td>\n",
              "      <td>68539.0</td>\n",
              "      <td>1738646.0</td>\n",
              "      <td>1640.0</td>\n",
              "      <td>6324.0</td>\n",
              "      <td>10333.0</td>\n",
              "      <td>61895.0</td>\n",
              "    </tr>\n",
              "    <tr>\n",
              "      <th>4</th>\n",
              "      <td>60.146240</td>\n",
              "      <td>39371.0</td>\n",
              "      <td>2102.0</td>\n",
              "      <td>2038.0</td>\n",
              "      <td>3161.0</td>\n",
              "      <td>503.0</td>\n",
              "      <td>1095.0</td>\n",
              "      <td>4811.0</td>\n",
              "      <td>353.0</td>\n",
              "      <td>8464.0</td>\n",
              "      <td>99.0</td>\n",
              "      <td>5706.0</td>\n",
              "      <td>602111.0</td>\n",
              "      <td>183891.0</td>\n",
              "      <td>417268.0</td>\n",
              "      <td>2891.0</td>\n",
              "      <td>10288.0</td>\n",
              "      <td>25591.0</td>\n",
              "      <td>52594.0</td>\n",
              "    </tr>\n",
              "  </tbody>\n",
              "</table>\n",
              "</div>\n",
              "      <button class=\"colab-df-convert\" onclick=\"convertToInteractive('df-dadd67eb-8b14-4c10-8f2b-c9c86c5f086f')\"\n",
              "              title=\"Convert this dataframe to an interactive table.\"\n",
              "              style=\"display:none;\">\n",
              "        \n",
              "  <svg xmlns=\"http://www.w3.org/2000/svg\" height=\"24px\"viewBox=\"0 0 24 24\"\n",
              "       width=\"24px\">\n",
              "    <path d=\"M0 0h24v24H0V0z\" fill=\"none\"/>\n",
              "    <path d=\"M18.56 5.44l.94 2.06.94-2.06 2.06-.94-2.06-.94-.94-2.06-.94 2.06-2.06.94zm-11 1L8.5 8.5l.94-2.06 2.06-.94-2.06-.94L8.5 2.5l-.94 2.06-2.06.94zm10 10l.94 2.06.94-2.06 2.06-.94-2.06-.94-.94-2.06-.94 2.06-2.06.94z\"/><path d=\"M17.41 7.96l-1.37-1.37c-.4-.4-.92-.59-1.43-.59-.52 0-1.04.2-1.43.59L10.3 9.45l-7.72 7.72c-.78.78-.78 2.05 0 2.83L4 21.41c.39.39.9.59 1.41.59.51 0 1.02-.2 1.41-.59l7.78-7.78 2.81-2.81c.8-.78.8-2.07 0-2.86zM5.41 20L4 18.59l7.72-7.72 1.47 1.35L5.41 20z\"/>\n",
              "  </svg>\n",
              "      </button>\n",
              "      \n",
              "  <style>\n",
              "    .colab-df-container {\n",
              "      display:flex;\n",
              "      flex-wrap:wrap;\n",
              "      gap: 12px;\n",
              "    }\n",
              "\n",
              "    .colab-df-convert {\n",
              "      background-color: #E8F0FE;\n",
              "      border: none;\n",
              "      border-radius: 50%;\n",
              "      cursor: pointer;\n",
              "      display: none;\n",
              "      fill: #1967D2;\n",
              "      height: 32px;\n",
              "      padding: 0 0 0 0;\n",
              "      width: 32px;\n",
              "    }\n",
              "\n",
              "    .colab-df-convert:hover {\n",
              "      background-color: #E2EBFA;\n",
              "      box-shadow: 0px 1px 2px rgba(60, 64, 67, 0.3), 0px 1px 3px 1px rgba(60, 64, 67, 0.15);\n",
              "      fill: #174EA6;\n",
              "    }\n",
              "\n",
              "    [theme=dark] .colab-df-convert {\n",
              "      background-color: #3B4455;\n",
              "      fill: #D2E3FC;\n",
              "    }\n",
              "\n",
              "    [theme=dark] .colab-df-convert:hover {\n",
              "      background-color: #434B5C;\n",
              "      box-shadow: 0px 1px 3px 1px rgba(0, 0, 0, 0.15);\n",
              "      filter: drop-shadow(0px 1px 2px rgba(0, 0, 0, 0.3));\n",
              "      fill: #FFFFFF;\n",
              "    }\n",
              "  </style>\n",
              "\n",
              "      <script>\n",
              "        const buttonEl =\n",
              "          document.querySelector('#df-dadd67eb-8b14-4c10-8f2b-c9c86c5f086f button.colab-df-convert');\n",
              "        buttonEl.style.display =\n",
              "          google.colab.kernel.accessAllowed ? 'block' : 'none';\n",
              "\n",
              "        async function convertToInteractive(key) {\n",
              "          const element = document.querySelector('#df-dadd67eb-8b14-4c10-8f2b-c9c86c5f086f');\n",
              "          const dataTable =\n",
              "            await google.colab.kernel.invokeFunction('convertToInteractive',\n",
              "                                                     [key], {});\n",
              "          if (!dataTable) return;\n",
              "\n",
              "          const docLinkHtml = 'Like what you see? Visit the ' +\n",
              "            '<a target=\"_blank\" href=https://colab.research.google.com/notebooks/data_table.ipynb>data table notebook</a>'\n",
              "            + ' to learn more about interactive tables.';\n",
              "          element.innerHTML = '';\n",
              "          dataTable['output_type'] = 'display_data';\n",
              "          await google.colab.output.renderOutput(dataTable, element);\n",
              "          const docLink = document.createElement('div');\n",
              "          docLink.innerHTML = docLinkHtml;\n",
              "          element.appendChild(docLink);\n",
              "        }\n",
              "      </script>\n",
              "    </div>\n",
              "  </div>\n",
              "  "
            ]
          },
          "metadata": {},
          "execution_count": 19
        }
      ]
    },
    {
      "cell_type": "code",
      "source": [
        "import statsmodels.api as sm\n",
        "import statsmodels.formula.api as smf\n",
        "mod = smf.ols('Y ~ a + b + c + d + e + f + g + h + i + j + k + l + m + n + o + p + q + r', data = df).fit()\n",
        "\n",
        "print(mod.summary())"
      ],
      "metadata": {
        "colab": {
          "base_uri": "https://localhost:8080/"
        },
        "id": "jL5Rd_OR2rZG",
        "outputId": "9c35dd22-9c6f-4a27-83a2-c7a142b6c238"
      },
      "execution_count": null,
      "outputs": [
        {
          "output_type": "stream",
          "name": "stdout",
          "text": [
            "                            OLS Regression Results                            \n",
            "==============================================================================\n",
            "Dep. Variable:                      Y   R-squared:                       0.138\n",
            "Model:                            OLS   Adj. R-squared:                 -0.332\n",
            "Method:                 Least Squares   F-statistic:                    0.2941\n",
            "Date:                Thu, 01 Dec 2022   Prob (F-statistic):              0.996\n",
            "Time:                        02:51:03   Log-Likelihood:                -136.04\n",
            "No. Observations:                  52   AIC:                             310.1\n",
            "Df Residuals:                      33   BIC:                             347.2\n",
            "Df Model:                          18                                         \n",
            "Covariance Type:            nonrobust                                         \n",
            "==============================================================================\n",
            "                 coef    std err          t      P>|t|      [0.025      0.975]\n",
            "------------------------------------------------------------------------------\n",
            "Intercept     60.2216      1.348     44.660      0.000      57.478      62.965\n",
            "a          -2.053e-05   8.32e-05     -0.247      0.807      -0.000       0.000\n",
            "b             -0.0122      0.009     -1.305      0.201      -0.031       0.007\n",
            "c           5.161e-05      0.000      0.184      0.855      -0.001       0.001\n",
            "d             -0.0154      0.010     -1.593      0.121      -0.035       0.004\n",
            "e             -0.0003      0.001     -0.316      0.754      -0.002       0.002\n",
            "f             -0.0350      0.028     -1.243      0.223      -0.092       0.022\n",
            "g             -0.0002      0.001     -0.145      0.885      -0.003       0.002\n",
            "h             -0.0297      0.040     -0.746      0.461      -0.111       0.051\n",
            "i             -0.0002      0.001     -0.263      0.794      -0.002       0.001\n",
            "j             -0.0426      0.069     -0.618      0.541      -0.183       0.097\n",
            "k          -7.081e-05      0.000     -0.243      0.810      -0.001       0.001\n",
            "l              0.0001      0.000      0.434      0.667      -0.000       0.001\n",
            "m             -0.0001      0.000     -0.441      0.662      -0.001       0.000\n",
            "n             -0.0001      0.000     -0.434      0.667      -0.001       0.000\n",
            "o              0.0113      0.007      1.556      0.129      -0.003       0.026\n",
            "p              0.0096      0.006      1.727      0.094      -0.002       0.021\n",
            "q           1.789e-06   9.27e-05      0.019      0.985      -0.000       0.000\n",
            "r           1.215e-05   5.02e-05      0.242      0.810      -9e-05       0.000\n",
            "==============================================================================\n",
            "Omnibus:                       18.476   Durbin-Watson:                   2.370\n",
            "Prob(Omnibus):                  0.000   Jarque-Bera (JB):              128.281\n",
            "Skew:                           0.055   Prob(JB):                     1.39e-28\n",
            "Kurtosis:                      10.694   Cond. No.                     4.25e+06\n",
            "==============================================================================\n",
            "\n",
            "Notes:\n",
            "[1] Standard Errors assume that the covariance matrix of the errors is correctly specified.\n",
            "[2] The condition number is large, 4.25e+06. This might indicate that there are\n",
            "strong multicollinearity or other numerical problems.\n"
          ]
        }
      ]
    },
    {
      "cell_type": "markdown",
      "source": [
        "### Linear regression"
      ],
      "metadata": {
        "id": "UoZYzFo_1SaY"
      }
    },
    {
      "cell_type": "code",
      "source": [
        "#Imports\n",
        "from pyspark.ml.regression import LinearRegression"
      ],
      "metadata": {
        "id": "Et2c3FlhQupu"
      },
      "execution_count": null,
      "outputs": []
    },
    {
      "cell_type": "code",
      "source": [
        "# Splitting the data\n",
        "train, test = finalised_data.randomSplit([0.8, 0.2])"
      ],
      "metadata": {
        "id": "k4nTPhfgnqR9"
      },
      "execution_count": null,
      "outputs": []
    },
    {
      "cell_type": "code",
      "source": [
        "# Create Model\n",
        "lr = LinearRegression(labelCol=\"%_of_homeoffice\", featuresCol=\"features\")"
      ],
      "metadata": {
        "id": "VavEP1kwoM_9"
      },
      "execution_count": null,
      "outputs": []
    },
    {
      "cell_type": "code",
      "source": [
        "# create paramGrid\n",
        "lrparamGrid = (ParamGridBuilder()\n",
        "             .addGrid(lr.maxIter, [5, 10, 20, 50, 100])\n",
        "             .build())"
      ],
      "metadata": {
        "id": "ffT3NVDlTvtu"
      },
      "execution_count": null,
      "outputs": []
    },
    {
      "cell_type": "code",
      "source": [
        "# create evaluator\n",
        "eval = RegressionEvaluator(labelCol=\"%_of_homeoffice\", predictionCol=\"prediction\", metricName=\"rmse\")"
      ],
      "metadata": {
        "id": "MgTKkNooUQZO"
      },
      "execution_count": null,
      "outputs": []
    },
    {
      "cell_type": "code",
      "source": [
        "# Create 5-fold CrossValidator\n",
        "lrcv = CrossValidator(estimator = lr,\n",
        "                    estimatorParamMaps = lrparamGrid,\n",
        "                    evaluator = eval,\n",
        "                    numFolds = 5)"
      ],
      "metadata": {
        "id": "MHCb4OuQUmER"
      },
      "execution_count": null,
      "outputs": []
    },
    {
      "cell_type": "code",
      "source": [
        "# Fit the model\n",
        "lrModel = lrcv.fit(train)"
      ],
      "metadata": {
        "id": "_KKBQW7mszwy"
      },
      "execution_count": null,
      "outputs": []
    },
    {
      "cell_type": "code",
      "source": [
        "# Predict\n",
        "lr_predictions = lrModel.transform(test)"
      ],
      "metadata": {
        "id": "a3F_HxHydiSr"
      },
      "execution_count": null,
      "outputs": []
    },
    {
      "cell_type": "code",
      "source": [
        "lr_predictions.show()"
      ],
      "metadata": {
        "colab": {
          "base_uri": "https://localhost:8080/"
        },
        "id": "vkJPVJWYJnsw",
        "outputId": "3ee5ab60-9bc4-4882-81a4-b4f138657321"
      },
      "execution_count": null,
      "outputs": [
        {
          "output_type": "stream",
          "name": "stdout",
          "text": [
            "+------------------+--------------------+------------------+\n",
            "|   %_of_homeoffice|            features|        prediction|\n",
            "+------------------+--------------------+------------------+\n",
            "| 56.73789173789174|[34980.0,986.0,40...|61.193383682428795|\n",
            "|59.055385660890245|[30440.0,1251.0,1...| 63.94597945097816|\n",
            "| 59.34154175588865|[23731.0,886.0,66...| 60.32789355811679|\n",
            "| 59.66001628664496|[15156.0,908.0,26...|58.821832941363766|\n",
            "| 59.92915190664722|[2657.0,378.0,294...| 60.14958698598768|\n",
            "| 60.14623850444746|[39371.0,2102.0,2...| 61.11575469146424|\n",
            "|  60.3170755357316|[19190.0,1529.0,1...|  64.2907593896874|\n",
            "|   60.703081232493|[115763.0,3939.0,...| 67.24554935616229|\n",
            "| 61.35646687697161|[27202.0,2248.0,2...| 62.63956434633898|\n",
            "|  61.9877800407332|[22192.0,981.0,19...| 59.70139371717927|\n",
            "| 62.00632684342693|[69448.0,2798.0,4...|  65.9411354494238|\n",
            "|62.821141057052856|[29817.0,976.0,33...| 65.20875120005043|\n",
            "| 62.85784494409633|[23271.0,804.0,11...| 59.66799694766178|\n",
            "+------------------+--------------------+------------------+\n",
            "\n"
          ]
        }
      ]
    },
    {
      "cell_type": "code",
      "source": [
        "# EVALUATE\n",
        "\n",
        "\n",
        "# RMSE\n",
        "rmse = eval.evaluate(lr_predictions)\n",
        "print(\"RMSE: %.3f\" % rmse)\n",
        "\n",
        "#  MSE\n",
        "mse = eval.evaluate(lr_predictions, {eval.metricName: \"mse\"})\n",
        "print(\"MSE: %.3f\" % mse)\n",
        "\n",
        "# MAE\n",
        "mae = eval.evaluate(lr_predictions, {eval.metricName: \"mae\"})\n",
        "print(\"MAE: %.3f\" % mae)\n",
        "\n",
        "# R2\n",
        "r2 = eval.evaluate(lr_predictions, {eval.metricName: \"r2\"})\n",
        "print(\"r2: %.3f\" %r2)"
      ],
      "metadata": {
        "colab": {
          "base_uri": "https://localhost:8080/"
        },
        "id": "w5bLxkgJR0tG",
        "outputId": "ee06c1a4-701f-41e8-b7b3-49735ff9dd5e"
      },
      "execution_count": null,
      "outputs": [
        {
          "output_type": "stream",
          "name": "stdout",
          "text": [
            "RMSE: 3.320\n",
            "MSE: 11.020\n",
            "MAE: 2.766\n",
            "r2: -3.097\n"
          ]
        }
      ]
    },
    {
      "cell_type": "code",
      "source": [
        "# Save model results\n",
        "result_lr= ['Linear regression', rmse, mse, mae, r2]\n",
        "modelsResults.append(result_lr)"
      ],
      "metadata": {
        "id": "FAHVJgvA2zZA"
      },
      "execution_count": null,
      "outputs": []
    },
    {
      "cell_type": "markdown",
      "source": [
        "### Gradient-Boosted Trees (GBTs)"
      ],
      "metadata": {
        "id": "yReWzKvEOQnq"
      }
    },
    {
      "cell_type": "markdown",
      "source": [
        "#### Modelo inicial"
      ],
      "metadata": {
        "id": "zOGhJWjA2TyJ"
      }
    },
    {
      "cell_type": "code",
      "source": [
        "# Imports\n",
        "from pyspark.ml.regression import GBTRegressor"
      ],
      "metadata": {
        "id": "X8ux_EBIOtyf"
      },
      "execution_count": null,
      "outputs": []
    },
    {
      "cell_type": "code",
      "source": [
        "# Splitting the data\n",
        "train, test = finalised_data.randomSplit([0.8, 0.2])"
      ],
      "metadata": {
        "id": "b1I0Gsa_Sy93"
      },
      "execution_count": null,
      "outputs": []
    },
    {
      "cell_type": "code",
      "source": [
        "# Create Model\n",
        "gb = GBTRegressor(labelCol=\"%_of_homeoffice\", featuresCol=\"features\")"
      ],
      "metadata": {
        "id": "UkFfyVi7PMg-"
      },
      "execution_count": null,
      "outputs": []
    },
    {
      "cell_type": "code",
      "source": [
        "# create paramGrid\n",
        "gbparamGrid = (ParamGridBuilder()\n",
        "             .addGrid(gb.maxDepth, [6, 12, 18, 24, 30])\n",
        "             .addGrid(gb.maxBins, [18, 36, 72, 144, 288])\n",
        "             .addGrid(gb.maxIter, [5, 10, 20, 50, 100])\n",
        "             .build())"
      ],
      "metadata": {
        "id": "I67nIxOOGOqB"
      },
      "execution_count": null,
      "outputs": []
    },
    {
      "cell_type": "code",
      "source": [
        "# create evaluator\n",
        "eval = RegressionEvaluator(labelCol=\"%_of_homeoffice\", predictionCol=\"prediction\", metricName=\"rmse\")"
      ],
      "metadata": {
        "id": "SaEcZ2W-GVIg"
      },
      "execution_count": null,
      "outputs": []
    },
    {
      "cell_type": "code",
      "source": [
        "# Create 5-fold CrossValidator\n",
        "gbcv = CrossValidator(estimator = gb,\n",
        "                    estimatorParamMaps = gbparamGrid,\n",
        "                    evaluator = eval,\n",
        "                    numFolds = 5)"
      ],
      "metadata": {
        "id": "LK5F8liIGZ-L"
      },
      "execution_count": null,
      "outputs": []
    },
    {
      "cell_type": "code",
      "source": [
        "# Fit the model\n",
        "gbModel = gbcv.fit(train)"
      ],
      "metadata": {
        "id": "YXq_l8LwPtT1"
      },
      "execution_count": null,
      "outputs": []
    },
    {
      "cell_type": "code",
      "source": [
        "# Predict\n",
        "gb_predictions = gbModel.transform(test)"
      ],
      "metadata": {
        "id": "CyXBYZX3QjL5"
      },
      "execution_count": null,
      "outputs": []
    },
    {
      "cell_type": "code",
      "source": [
        "gb_predictions.show()"
      ],
      "metadata": {
        "id": "i-FSEVk_uI1T",
        "colab": {
          "base_uri": "https://localhost:8080/"
        },
        "outputId": "e7feabc1-0994-42f8-fc50-4dba66f07f16"
      },
      "execution_count": null,
      "outputs": [
        {
          "output_type": "stream",
          "name": "stdout",
          "text": [
            "+-----------------+--------------------+------------------+\n",
            "|  %_of_homeoffice|            features|        prediction|\n",
            "+-----------------+--------------------+------------------+\n",
            "|59.12806539509537|[41276.0,1288.0,1...|58.891540250559686|\n",
            "|59.50530035335689|[36837.0,1437.0,4...| 59.24284982347472|\n",
            "|60.14623850444746|[39371.0,2102.0,2...| 61.58016855514044|\n",
            "| 60.3170755357316|[19190.0,1529.0,1...| 62.28296658923037|\n",
            "|60.40983606557377|[24179.0,806.0,34...| 58.64190699153327|\n",
            "|  60.703081232493|[115763.0,3939.0,...| 62.21875150322616|\n",
            "|60.91410559495666|[13845.0,557.0,59...| 63.21018020939858|\n",
            "|61.22916666666666|[34864.0,3078.0,4...| 61.58016855514044|\n",
            "| 62.7673576834485|[26354.0,736.0,15...| 59.75352656958351|\n",
            "|62.85784494409633|[23271.0,804.0,11...| 58.35914599345427|\n",
            "| 63.0410198416778|[20606.0,1290.0,2...| 60.15578686108455|\n",
            "|73.49726775956285|[411.0,155.0,547....|53.740281708471606|\n",
            "+-----------------+--------------------+------------------+\n",
            "\n"
          ]
        }
      ]
    },
    {
      "cell_type": "code",
      "source": [
        "# Evaluate\n",
        "\n",
        "\n",
        "# RMSE\n",
        "rmse = eval.evaluate(gb_predictions)\n",
        "print(\"RMSE: %.3f\" % rmse)\n",
        "\n",
        "#  MSE\n",
        "mse = eval.evaluate(gb_predictions, {eval.metricName: \"mse\"})\n",
        "print(\"MSE: %.3f\" % mse)\n",
        "\n",
        "# MAE\n",
        "mae = eval.evaluate(gb_predictions, {eval.metricName: \"mae\"})\n",
        "print(\"MAE: %.3f\" % mae)\n",
        "\n",
        "# R2\n",
        "r2 = eval.evaluate(gb_predictions, {eval.metricName: \"r2\"})\n",
        "print(\"r2: %.3f\" %r2)"
      ],
      "metadata": {
        "id": "n8-FEWi_Qupd",
        "colab": {
          "base_uri": "https://localhost:8080/"
        },
        "outputId": "c16f09a7-f4b8-4ada-80b6-ce167cada98a"
      },
      "execution_count": null,
      "outputs": [
        {
          "output_type": "stream",
          "name": "stdout",
          "text": [
            "RMSE: 6.089\n",
            "MSE: 37.071\n",
            "MAE: 3.332\n",
            "r2: -1.758\n"
          ]
        }
      ]
    },
    {
      "cell_type": "code",
      "source": [
        "# Save model results\n",
        "result_gb= ['GBT 1.0', rmse, mse, mae, r2]\n",
        "modelsResults.append(result_gb)"
      ],
      "metadata": {
        "id": "gcBxP_eH2rpN"
      },
      "execution_count": null,
      "outputs": []
    }
  ]
}