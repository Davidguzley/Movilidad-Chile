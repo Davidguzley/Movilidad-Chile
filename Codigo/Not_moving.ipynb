{
  "cells": [
    {
      "cell_type": "code",
      "execution_count": null,
      "id": "e191ca74",
      "metadata": {
        "id": "e191ca74"
      },
      "outputs": [],
      "source": [
        "import pandas as pd\n",
        "import numpy as np\n",
        "df = pd.read_csv('20210101_RM.csv')"
      ]
    },
    {
      "cell_type": "code",
      "execution_count": null,
      "id": "92a32cab",
      "metadata": {
        "id": "92a32cab"
      },
      "outputs": [],
      "source": [
        "def dis(lat1, lon1, lat2, lon2):\n",
        "  R = 6378.137\n",
        "  dlat = (lat2 * np.pi / 180) - (lat1 * np.pi / 180)\n",
        "  dlon = (lon2 * np.pi / 180) - (lon1 * np.pi / 180)\n",
        "  a = (np.sin(dlat / 2) * np.sin(dlat / 2)) + np.cos(lat1 * np.pi / 180) * np.cos(lat2 * np.pi / 180) * (np.sin(dlon / 2) * np.sin(dlon / 2))\n",
        "  c = 2 * np.arctan2(np.sqrt(a), np.sqrt(1 - a))\n",
        "  return R * c"
      ]
    },
    {
      "cell_type": "code",
      "execution_count": null,
      "id": "86d1c69a",
      "metadata": {
        "id": "86d1c69a"
      },
      "outputs": [],
      "source": [
        "df2 = df.sort_values(by = ['PHONE_ID', 'timestamp'])"
      ]
    },
    {
      "cell_type": "code",
      "execution_count": null,
      "id": "50768ec2",
      "metadata": {
        "id": "50768ec2"
      },
      "outputs": [],
      "source": [
        "df2['dis_trans'] = dis(df2.groupby(['PHONE_ID'])['lat'].shift(1), df2.groupby(['PHONE_ID'])['lon'].shift(1), df2['lat'], df2['lon'])"
      ]
    },
    {
      "cell_type": "code",
      "execution_count": null,
      "id": "162d5998",
      "metadata": {
        "id": "162d5998"
      },
      "outputs": [],
      "source": [
        "df2 = df2.reset_index()\n",
        "df2 = df2.drop(['index'], axis = 1)"
      ]
    },
    {
      "cell_type": "code",
      "execution_count": null,
      "id": "a8afd543",
      "metadata": {
        "id": "a8afd543"
      },
      "outputs": [],
      "source": [
        "df2['dis_trans'] = df2['dis_trans'].replace(np.nan, 0)"
      ]
    },
    {
      "cell_type": "code",
      "execution_count": null,
      "id": "d2e8d5f8",
      "metadata": {
        "id": "d2e8d5f8"
      },
      "outputs": [],
      "source": [
        "acum = 0\n",
        "yes_id = []\n",
        "not_id = []\n",
        "for i in range(len(df2)):\n",
        "    acum = acum + df2['dis_trans'][i]\n",
        "    if i == len(df2) - 1:\n",
        "        if acum == 0:\n",
        "            not_id.append(df2['PHONE_ID'][i])\n",
        "        if acum > 0:\n",
        "            yes_id.append(df2['PHONE_ID'][i])\n",
        "    else:\n",
        "        if df2['PHONE_ID'][i] != df2['PHONE_ID'][i + 1]:\n",
        "            if acum == 0:\n",
        "                not_id.append(df2['PHONE_ID'][i])\n",
        "            if acum > 0:\n",
        "                acum = 0\n",
        "                yes_id.append(df2['PHONE_ID'][i])"
      ]
    },
    {
      "cell_type": "code",
      "execution_count": null,
      "id": "c6081b6e",
      "metadata": {
        "id": "c6081b6e",
        "outputId": "af1eb3a2-3ea4-4660-fa1b-ebeb46e69332"
      },
      "outputs": [
        {
          "data": {
            "text/plain": [
              "1353435"
            ]
          },
          "execution_count": 18,
          "metadata": {},
          "output_type": "execute_result"
        }
      ],
      "source": [
        "len(yes_id) + len(not_id)"
      ]
    },
    {
      "cell_type": "code",
      "execution_count": null,
      "id": "a938483b",
      "metadata": {
        "id": "a938483b",
        "outputId": "ff02b1d3-4055-4068-fedc-0768ea8b6042"
      },
      "outputs": [
        {
          "data": {
            "text/plain": [
              "1353435"
            ]
          },
          "execution_count": 19,
          "metadata": {},
          "output_type": "execute_result"
        }
      ],
      "source": [
        "len(df2['PHONE_ID'].unique())"
      ]
    },
    {
      "cell_type": "code",
      "execution_count": null,
      "id": "ba6da04a",
      "metadata": {
        "id": "ba6da04a"
      },
      "outputs": [],
      "source": [
        "df2.set_index('PHONE_ID', inplace=True)"
      ]
    },
    {
      "cell_type": "code",
      "execution_count": null,
      "id": "99a24255",
      "metadata": {
        "id": "99a24255",
        "outputId": "b08c18e3-7138-43aa-c8e5-b4e7b315f153"
      },
      "outputs": [
        {
          "data": {
            "text/html": [
              "<div>\n",
              "<style scoped>\n",
              "    .dataframe tbody tr th:only-of-type {\n",
              "        vertical-align: middle;\n",
              "    }\n",
              "\n",
              "    .dataframe tbody tr th {\n",
              "        vertical-align: top;\n",
              "    }\n",
              "\n",
              "    .dataframe thead th {\n",
              "        text-align: right;\n",
              "    }\n",
              "</style>\n",
              "<table border=\"1\" class=\"dataframe\">\n",
              "  <thead>\n",
              "    <tr style=\"text-align: right;\">\n",
              "      <th></th>\n",
              "      <th>timestamp</th>\n",
              "      <th>bts_id</th>\n",
              "      <th>lat</th>\n",
              "      <th>lon</th>\n",
              "      <th>dis_trans</th>\n",
              "    </tr>\n",
              "    <tr>\n",
              "      <th>PHONE_ID</th>\n",
              "      <th></th>\n",
              "      <th></th>\n",
              "      <th></th>\n",
              "      <th></th>\n",
              "      <th></th>\n",
              "    </tr>\n",
              "  </thead>\n",
              "  <tbody>\n",
              "    <tr>\n",
              "      <th>00000000e3fc09803d408609f55cbf905120d3a41db5642a57f9bafd972f8803</th>\n",
              "      <td>2021-01-01T00:09:15.000-03:00</td>\n",
              "      <td>ECROF</td>\n",
              "      <td>-33.3844</td>\n",
              "      <td>-70.5534</td>\n",
              "      <td>0.000000</td>\n",
              "    </tr>\n",
              "    <tr>\n",
              "      <th>00000000e3fc09803d408609f55cbf905120d3a41db5642a57f9bafd972f8803</th>\n",
              "      <td>2021-01-01T00:16:37.000-03:00</td>\n",
              "      <td>VTAND</td>\n",
              "      <td>-33.3806</td>\n",
              "      <td>-70.5419</td>\n",
              "      <td>1.149621</td>\n",
              "    </tr>\n",
              "    <tr>\n",
              "      <th>00000000e3fc09803d408609f55cbf905120d3a41db5642a57f9bafd972f8803</th>\n",
              "      <td>2021-01-01T00:18:36.000-03:00</td>\n",
              "      <td>VTAND</td>\n",
              "      <td>-33.3806</td>\n",
              "      <td>-70.5419</td>\n",
              "      <td>0.000000</td>\n",
              "    </tr>\n",
              "    <tr>\n",
              "      <th>00000000e3fc09803d408609f55cbf905120d3a41db5642a57f9bafd972f8803</th>\n",
              "      <td>2021-01-01T00:39:15.000-03:00</td>\n",
              "      <td>MANNE</td>\n",
              "      <td>-33.3994</td>\n",
              "      <td>-70.5699</td>\n",
              "      <td>3.339568</td>\n",
              "    </tr>\n",
              "    <tr>\n",
              "      <th>00000000e3fc09803d408609f55cbf905120d3a41db5642a57f9bafd972f8803</th>\n",
              "      <td>2021-01-01T00:48:36.000-03:00</td>\n",
              "      <td>LCPHU</td>\n",
              "      <td>-33.3972</td>\n",
              "      <td>-70.5499</td>\n",
              "      <td>1.874798</td>\n",
              "    </tr>\n",
              "    <tr>\n",
              "      <th>...</th>\n",
              "      <td>...</td>\n",
              "      <td>...</td>\n",
              "      <td>...</td>\n",
              "      <td>...</td>\n",
              "      <td>...</td>\n",
              "    </tr>\n",
              "    <tr>\n",
              "      <th>ffffea064367ea293c32db026f6dee34efa6c464375ac9cb6445cdb7d094ea91</th>\n",
              "      <td>2021-01-01T21:32:20.000-03:00</td>\n",
              "      <td>MFAR3</td>\n",
              "      <td>-33.4034</td>\n",
              "      <td>-70.5584</td>\n",
              "      <td>0.000000</td>\n",
              "    </tr>\n",
              "    <tr>\n",
              "      <th>ffffea064367ea293c32db026f6dee34efa6c464375ac9cb6445cdb7d094ea91</th>\n",
              "      <td>2021-01-01T22:02:20.000-03:00</td>\n",
              "      <td>MFAR3</td>\n",
              "      <td>-33.4034</td>\n",
              "      <td>-70.5584</td>\n",
              "      <td>0.000000</td>\n",
              "    </tr>\n",
              "    <tr>\n",
              "      <th>ffffea064367ea293c32db026f6dee34efa6c464375ac9cb6445cdb7d094ea91</th>\n",
              "      <td>2021-01-01T22:32:20.000-03:00</td>\n",
              "      <td>MFAR3</td>\n",
              "      <td>-33.4034</td>\n",
              "      <td>-70.5584</td>\n",
              "      <td>0.000000</td>\n",
              "    </tr>\n",
              "    <tr>\n",
              "      <th>ffffea064367ea293c32db026f6dee34efa6c464375ac9cb6445cdb7d094ea91</th>\n",
              "      <td>2021-01-01T23:02:20.000-03:00</td>\n",
              "      <td>MFAR3</td>\n",
              "      <td>-33.4034</td>\n",
              "      <td>-70.5584</td>\n",
              "      <td>0.000000</td>\n",
              "    </tr>\n",
              "    <tr>\n",
              "      <th>ffffea064367ea293c32db026f6dee34efa6c464375ac9cb6445cdb7d094ea91</th>\n",
              "      <td>2021-01-01T23:32:20.000-03:00</td>\n",
              "      <td>MFAR3</td>\n",
              "      <td>-33.4034</td>\n",
              "      <td>-70.5584</td>\n",
              "      <td>0.000000</td>\n",
              "    </tr>\n",
              "  </tbody>\n",
              "</table>\n",
              "<p>49618132 rows × 5 columns</p>\n",
              "</div>"
            ],
            "text/plain": [
              "                                                                        timestamp  \\\n",
              "PHONE_ID                                                                            \n",
              "00000000e3fc09803d408609f55cbf905120d3a41db5642...  2021-01-01T00:09:15.000-03:00   \n",
              "00000000e3fc09803d408609f55cbf905120d3a41db5642...  2021-01-01T00:16:37.000-03:00   \n",
              "00000000e3fc09803d408609f55cbf905120d3a41db5642...  2021-01-01T00:18:36.000-03:00   \n",
              "00000000e3fc09803d408609f55cbf905120d3a41db5642...  2021-01-01T00:39:15.000-03:00   \n",
              "00000000e3fc09803d408609f55cbf905120d3a41db5642...  2021-01-01T00:48:36.000-03:00   \n",
              "...                                                                           ...   \n",
              "ffffea064367ea293c32db026f6dee34efa6c464375ac9c...  2021-01-01T21:32:20.000-03:00   \n",
              "ffffea064367ea293c32db026f6dee34efa6c464375ac9c...  2021-01-01T22:02:20.000-03:00   \n",
              "ffffea064367ea293c32db026f6dee34efa6c464375ac9c...  2021-01-01T22:32:20.000-03:00   \n",
              "ffffea064367ea293c32db026f6dee34efa6c464375ac9c...  2021-01-01T23:02:20.000-03:00   \n",
              "ffffea064367ea293c32db026f6dee34efa6c464375ac9c...  2021-01-01T23:32:20.000-03:00   \n",
              "\n",
              "                                                   bts_id      lat      lon  \\\n",
              "PHONE_ID                                                                      \n",
              "00000000e3fc09803d408609f55cbf905120d3a41db5642...  ECROF -33.3844 -70.5534   \n",
              "00000000e3fc09803d408609f55cbf905120d3a41db5642...  VTAND -33.3806 -70.5419   \n",
              "00000000e3fc09803d408609f55cbf905120d3a41db5642...  VTAND -33.3806 -70.5419   \n",
              "00000000e3fc09803d408609f55cbf905120d3a41db5642...  MANNE -33.3994 -70.5699   \n",
              "00000000e3fc09803d408609f55cbf905120d3a41db5642...  LCPHU -33.3972 -70.5499   \n",
              "...                                                   ...      ...      ...   \n",
              "ffffea064367ea293c32db026f6dee34efa6c464375ac9c...  MFAR3 -33.4034 -70.5584   \n",
              "ffffea064367ea293c32db026f6dee34efa6c464375ac9c...  MFAR3 -33.4034 -70.5584   \n",
              "ffffea064367ea293c32db026f6dee34efa6c464375ac9c...  MFAR3 -33.4034 -70.5584   \n",
              "ffffea064367ea293c32db026f6dee34efa6c464375ac9c...  MFAR3 -33.4034 -70.5584   \n",
              "ffffea064367ea293c32db026f6dee34efa6c464375ac9c...  MFAR3 -33.4034 -70.5584   \n",
              "\n",
              "                                                    dis_trans  \n",
              "PHONE_ID                                                       \n",
              "00000000e3fc09803d408609f55cbf905120d3a41db5642...   0.000000  \n",
              "00000000e3fc09803d408609f55cbf905120d3a41db5642...   1.149621  \n",
              "00000000e3fc09803d408609f55cbf905120d3a41db5642...   0.000000  \n",
              "00000000e3fc09803d408609f55cbf905120d3a41db5642...   3.339568  \n",
              "00000000e3fc09803d408609f55cbf905120d3a41db5642...   1.874798  \n",
              "...                                                       ...  \n",
              "ffffea064367ea293c32db026f6dee34efa6c464375ac9c...   0.000000  \n",
              "ffffea064367ea293c32db026f6dee34efa6c464375ac9c...   0.000000  \n",
              "ffffea064367ea293c32db026f6dee34efa6c464375ac9c...   0.000000  \n",
              "ffffea064367ea293c32db026f6dee34efa6c464375ac9c...   0.000000  \n",
              "ffffea064367ea293c32db026f6dee34efa6c464375ac9c...   0.000000  \n",
              "\n",
              "[49618132 rows x 5 columns]"
            ]
          },
          "execution_count": 21,
          "metadata": {},
          "output_type": "execute_result"
        }
      ],
      "source": [
        "df2"
      ]
    },
    {
      "cell_type": "code",
      "execution_count": null,
      "id": "5679bff0",
      "metadata": {
        "id": "5679bff0"
      },
      "outputs": [],
      "source": [
        "df2 = df2.drop(not_id)"
      ]
    },
    {
      "cell_type": "code",
      "execution_count": null,
      "id": "371ec5ce",
      "metadata": {
        "id": "371ec5ce",
        "outputId": "12b76553-1b8e-4b12-f343-571cbfb8b9f4"
      },
      "outputs": [
        {
          "data": {
            "text/html": [
              "<div>\n",
              "<style scoped>\n",
              "    .dataframe tbody tr th:only-of-type {\n",
              "        vertical-align: middle;\n",
              "    }\n",
              "\n",
              "    .dataframe tbody tr th {\n",
              "        vertical-align: top;\n",
              "    }\n",
              "\n",
              "    .dataframe thead th {\n",
              "        text-align: right;\n",
              "    }\n",
              "</style>\n",
              "<table border=\"1\" class=\"dataframe\">\n",
              "  <thead>\n",
              "    <tr style=\"text-align: right;\">\n",
              "      <th></th>\n",
              "      <th>timestamp</th>\n",
              "      <th>bts_id</th>\n",
              "      <th>lat</th>\n",
              "      <th>lon</th>\n",
              "      <th>dis_trans</th>\n",
              "    </tr>\n",
              "    <tr>\n",
              "      <th>PHONE_ID</th>\n",
              "      <th></th>\n",
              "      <th></th>\n",
              "      <th></th>\n",
              "      <th></th>\n",
              "      <th></th>\n",
              "    </tr>\n",
              "  </thead>\n",
              "  <tbody>\n",
              "    <tr>\n",
              "      <th>00000000e3fc09803d408609f55cbf905120d3a41db5642a57f9bafd972f8803</th>\n",
              "      <td>2021-01-01T00:09:15.000-03:00</td>\n",
              "      <td>ECROF</td>\n",
              "      <td>-33.3844</td>\n",
              "      <td>-70.5534</td>\n",
              "      <td>0.000000</td>\n",
              "    </tr>\n",
              "    <tr>\n",
              "      <th>00000000e3fc09803d408609f55cbf905120d3a41db5642a57f9bafd972f8803</th>\n",
              "      <td>2021-01-01T00:16:37.000-03:00</td>\n",
              "      <td>VTAND</td>\n",
              "      <td>-33.3806</td>\n",
              "      <td>-70.5419</td>\n",
              "      <td>1.149621</td>\n",
              "    </tr>\n",
              "    <tr>\n",
              "      <th>00000000e3fc09803d408609f55cbf905120d3a41db5642a57f9bafd972f8803</th>\n",
              "      <td>2021-01-01T00:18:36.000-03:00</td>\n",
              "      <td>VTAND</td>\n",
              "      <td>-33.3806</td>\n",
              "      <td>-70.5419</td>\n",
              "      <td>0.000000</td>\n",
              "    </tr>\n",
              "    <tr>\n",
              "      <th>00000000e3fc09803d408609f55cbf905120d3a41db5642a57f9bafd972f8803</th>\n",
              "      <td>2021-01-01T00:39:15.000-03:00</td>\n",
              "      <td>MANNE</td>\n",
              "      <td>-33.3994</td>\n",
              "      <td>-70.5699</td>\n",
              "      <td>3.339568</td>\n",
              "    </tr>\n",
              "    <tr>\n",
              "      <th>00000000e3fc09803d408609f55cbf905120d3a41db5642a57f9bafd972f8803</th>\n",
              "      <td>2021-01-01T00:48:36.000-03:00</td>\n",
              "      <td>LCPHU</td>\n",
              "      <td>-33.3972</td>\n",
              "      <td>-70.5499</td>\n",
              "      <td>1.874798</td>\n",
              "    </tr>\n",
              "    <tr>\n",
              "      <th>...</th>\n",
              "      <td>...</td>\n",
              "      <td>...</td>\n",
              "      <td>...</td>\n",
              "      <td>...</td>\n",
              "      <td>...</td>\n",
              "    </tr>\n",
              "    <tr>\n",
              "      <th>ffffea064367ea293c32db026f6dee34efa6c464375ac9cb6445cdb7d094ea91</th>\n",
              "      <td>2021-01-01T21:32:20.000-03:00</td>\n",
              "      <td>MFAR3</td>\n",
              "      <td>-33.4034</td>\n",
              "      <td>-70.5584</td>\n",
              "      <td>0.000000</td>\n",
              "    </tr>\n",
              "    <tr>\n",
              "      <th>ffffea064367ea293c32db026f6dee34efa6c464375ac9cb6445cdb7d094ea91</th>\n",
              "      <td>2021-01-01T22:02:20.000-03:00</td>\n",
              "      <td>MFAR3</td>\n",
              "      <td>-33.4034</td>\n",
              "      <td>-70.5584</td>\n",
              "      <td>0.000000</td>\n",
              "    </tr>\n",
              "    <tr>\n",
              "      <th>ffffea064367ea293c32db026f6dee34efa6c464375ac9cb6445cdb7d094ea91</th>\n",
              "      <td>2021-01-01T22:32:20.000-03:00</td>\n",
              "      <td>MFAR3</td>\n",
              "      <td>-33.4034</td>\n",
              "      <td>-70.5584</td>\n",
              "      <td>0.000000</td>\n",
              "    </tr>\n",
              "    <tr>\n",
              "      <th>ffffea064367ea293c32db026f6dee34efa6c464375ac9cb6445cdb7d094ea91</th>\n",
              "      <td>2021-01-01T23:02:20.000-03:00</td>\n",
              "      <td>MFAR3</td>\n",
              "      <td>-33.4034</td>\n",
              "      <td>-70.5584</td>\n",
              "      <td>0.000000</td>\n",
              "    </tr>\n",
              "    <tr>\n",
              "      <th>ffffea064367ea293c32db026f6dee34efa6c464375ac9cb6445cdb7d094ea91</th>\n",
              "      <td>2021-01-01T23:32:20.000-03:00</td>\n",
              "      <td>MFAR3</td>\n",
              "      <td>-33.4034</td>\n",
              "      <td>-70.5584</td>\n",
              "      <td>0.000000</td>\n",
              "    </tr>\n",
              "  </tbody>\n",
              "</table>\n",
              "<p>38046907 rows × 5 columns</p>\n",
              "</div>"
            ],
            "text/plain": [
              "                                                                        timestamp  \\\n",
              "PHONE_ID                                                                            \n",
              "00000000e3fc09803d408609f55cbf905120d3a41db5642...  2021-01-01T00:09:15.000-03:00   \n",
              "00000000e3fc09803d408609f55cbf905120d3a41db5642...  2021-01-01T00:16:37.000-03:00   \n",
              "00000000e3fc09803d408609f55cbf905120d3a41db5642...  2021-01-01T00:18:36.000-03:00   \n",
              "00000000e3fc09803d408609f55cbf905120d3a41db5642...  2021-01-01T00:39:15.000-03:00   \n",
              "00000000e3fc09803d408609f55cbf905120d3a41db5642...  2021-01-01T00:48:36.000-03:00   \n",
              "...                                                                           ...   \n",
              "ffffea064367ea293c32db026f6dee34efa6c464375ac9c...  2021-01-01T21:32:20.000-03:00   \n",
              "ffffea064367ea293c32db026f6dee34efa6c464375ac9c...  2021-01-01T22:02:20.000-03:00   \n",
              "ffffea064367ea293c32db026f6dee34efa6c464375ac9c...  2021-01-01T22:32:20.000-03:00   \n",
              "ffffea064367ea293c32db026f6dee34efa6c464375ac9c...  2021-01-01T23:02:20.000-03:00   \n",
              "ffffea064367ea293c32db026f6dee34efa6c464375ac9c...  2021-01-01T23:32:20.000-03:00   \n",
              "\n",
              "                                                   bts_id      lat      lon  \\\n",
              "PHONE_ID                                                                      \n",
              "00000000e3fc09803d408609f55cbf905120d3a41db5642...  ECROF -33.3844 -70.5534   \n",
              "00000000e3fc09803d408609f55cbf905120d3a41db5642...  VTAND -33.3806 -70.5419   \n",
              "00000000e3fc09803d408609f55cbf905120d3a41db5642...  VTAND -33.3806 -70.5419   \n",
              "00000000e3fc09803d408609f55cbf905120d3a41db5642...  MANNE -33.3994 -70.5699   \n",
              "00000000e3fc09803d408609f55cbf905120d3a41db5642...  LCPHU -33.3972 -70.5499   \n",
              "...                                                   ...      ...      ...   \n",
              "ffffea064367ea293c32db026f6dee34efa6c464375ac9c...  MFAR3 -33.4034 -70.5584   \n",
              "ffffea064367ea293c32db026f6dee34efa6c464375ac9c...  MFAR3 -33.4034 -70.5584   \n",
              "ffffea064367ea293c32db026f6dee34efa6c464375ac9c...  MFAR3 -33.4034 -70.5584   \n",
              "ffffea064367ea293c32db026f6dee34efa6c464375ac9c...  MFAR3 -33.4034 -70.5584   \n",
              "ffffea064367ea293c32db026f6dee34efa6c464375ac9c...  MFAR3 -33.4034 -70.5584   \n",
              "\n",
              "                                                    dis_trans  \n",
              "PHONE_ID                                                       \n",
              "00000000e3fc09803d408609f55cbf905120d3a41db5642...   0.000000  \n",
              "00000000e3fc09803d408609f55cbf905120d3a41db5642...   1.149621  \n",
              "00000000e3fc09803d408609f55cbf905120d3a41db5642...   0.000000  \n",
              "00000000e3fc09803d408609f55cbf905120d3a41db5642...   3.339568  \n",
              "00000000e3fc09803d408609f55cbf905120d3a41db5642...   1.874798  \n",
              "...                                                       ...  \n",
              "ffffea064367ea293c32db026f6dee34efa6c464375ac9c...   0.000000  \n",
              "ffffea064367ea293c32db026f6dee34efa6c464375ac9c...   0.000000  \n",
              "ffffea064367ea293c32db026f6dee34efa6c464375ac9c...   0.000000  \n",
              "ffffea064367ea293c32db026f6dee34efa6c464375ac9c...   0.000000  \n",
              "ffffea064367ea293c32db026f6dee34efa6c464375ac9c...   0.000000  \n",
              "\n",
              "[38046907 rows x 5 columns]"
            ]
          },
          "execution_count": 13,
          "metadata": {},
          "output_type": "execute_result"
        }
      ],
      "source": [
        "df2"
      ]
    },
    {
      "cell_type": "code",
      "execution_count": null,
      "id": "b1747ea7",
      "metadata": {
        "id": "b1747ea7"
      },
      "outputs": [],
      "source": [
        "df2 = df2.reset_index()\n",
        "#df2 = df2.drop(['index'], axis = 1)"
      ]
    },
    {
      "cell_type": "code",
      "execution_count": null,
      "id": "699da83b",
      "metadata": {
        "id": "699da83b",
        "outputId": "90d828b1-236c-4183-cf03-b7c365ce497f"
      },
      "outputs": [
        {
          "data": {
            "text/html": [
              "<div>\n",
              "<style scoped>\n",
              "    .dataframe tbody tr th:only-of-type {\n",
              "        vertical-align: middle;\n",
              "    }\n",
              "\n",
              "    .dataframe tbody tr th {\n",
              "        vertical-align: top;\n",
              "    }\n",
              "\n",
              "    .dataframe thead th {\n",
              "        text-align: right;\n",
              "    }\n",
              "</style>\n",
              "<table border=\"1\" class=\"dataframe\">\n",
              "  <thead>\n",
              "    <tr style=\"text-align: right;\">\n",
              "      <th></th>\n",
              "      <th>PHONE_ID</th>\n",
              "      <th>timestamp</th>\n",
              "      <th>bts_id</th>\n",
              "      <th>lat</th>\n",
              "      <th>lon</th>\n",
              "      <th>dis_trans</th>\n",
              "    </tr>\n",
              "  </thead>\n",
              "  <tbody>\n",
              "    <tr>\n",
              "      <th>0</th>\n",
              "      <td>00000000e3fc09803d408609f55cbf905120d3a41db564...</td>\n",
              "      <td>2021-01-01T00:09:15.000-03:00</td>\n",
              "      <td>ECROF</td>\n",
              "      <td>-33.3844</td>\n",
              "      <td>-70.5534</td>\n",
              "      <td>0.000000</td>\n",
              "    </tr>\n",
              "    <tr>\n",
              "      <th>1</th>\n",
              "      <td>00000000e3fc09803d408609f55cbf905120d3a41db564...</td>\n",
              "      <td>2021-01-01T00:16:37.000-03:00</td>\n",
              "      <td>VTAND</td>\n",
              "      <td>-33.3806</td>\n",
              "      <td>-70.5419</td>\n",
              "      <td>1.149621</td>\n",
              "    </tr>\n",
              "    <tr>\n",
              "      <th>2</th>\n",
              "      <td>00000000e3fc09803d408609f55cbf905120d3a41db564...</td>\n",
              "      <td>2021-01-01T00:18:36.000-03:00</td>\n",
              "      <td>VTAND</td>\n",
              "      <td>-33.3806</td>\n",
              "      <td>-70.5419</td>\n",
              "      <td>0.000000</td>\n",
              "    </tr>\n",
              "    <tr>\n",
              "      <th>3</th>\n",
              "      <td>00000000e3fc09803d408609f55cbf905120d3a41db564...</td>\n",
              "      <td>2021-01-01T00:39:15.000-03:00</td>\n",
              "      <td>MANNE</td>\n",
              "      <td>-33.3994</td>\n",
              "      <td>-70.5699</td>\n",
              "      <td>3.339568</td>\n",
              "    </tr>\n",
              "    <tr>\n",
              "      <th>4</th>\n",
              "      <td>00000000e3fc09803d408609f55cbf905120d3a41db564...</td>\n",
              "      <td>2021-01-01T00:48:36.000-03:00</td>\n",
              "      <td>LCPHU</td>\n",
              "      <td>-33.3972</td>\n",
              "      <td>-70.5499</td>\n",
              "      <td>1.874798</td>\n",
              "    </tr>\n",
              "    <tr>\n",
              "      <th>...</th>\n",
              "      <td>...</td>\n",
              "      <td>...</td>\n",
              "      <td>...</td>\n",
              "      <td>...</td>\n",
              "      <td>...</td>\n",
              "      <td>...</td>\n",
              "    </tr>\n",
              "    <tr>\n",
              "      <th>38046902</th>\n",
              "      <td>ffffea064367ea293c32db026f6dee34efa6c464375ac9...</td>\n",
              "      <td>2021-01-01T21:32:20.000-03:00</td>\n",
              "      <td>MFAR3</td>\n",
              "      <td>-33.4034</td>\n",
              "      <td>-70.5584</td>\n",
              "      <td>0.000000</td>\n",
              "    </tr>\n",
              "    <tr>\n",
              "      <th>38046903</th>\n",
              "      <td>ffffea064367ea293c32db026f6dee34efa6c464375ac9...</td>\n",
              "      <td>2021-01-01T22:02:20.000-03:00</td>\n",
              "      <td>MFAR3</td>\n",
              "      <td>-33.4034</td>\n",
              "      <td>-70.5584</td>\n",
              "      <td>0.000000</td>\n",
              "    </tr>\n",
              "    <tr>\n",
              "      <th>38046904</th>\n",
              "      <td>ffffea064367ea293c32db026f6dee34efa6c464375ac9...</td>\n",
              "      <td>2021-01-01T22:32:20.000-03:00</td>\n",
              "      <td>MFAR3</td>\n",
              "      <td>-33.4034</td>\n",
              "      <td>-70.5584</td>\n",
              "      <td>0.000000</td>\n",
              "    </tr>\n",
              "    <tr>\n",
              "      <th>38046905</th>\n",
              "      <td>ffffea064367ea293c32db026f6dee34efa6c464375ac9...</td>\n",
              "      <td>2021-01-01T23:02:20.000-03:00</td>\n",
              "      <td>MFAR3</td>\n",
              "      <td>-33.4034</td>\n",
              "      <td>-70.5584</td>\n",
              "      <td>0.000000</td>\n",
              "    </tr>\n",
              "    <tr>\n",
              "      <th>38046906</th>\n",
              "      <td>ffffea064367ea293c32db026f6dee34efa6c464375ac9...</td>\n",
              "      <td>2021-01-01T23:32:20.000-03:00</td>\n",
              "      <td>MFAR3</td>\n",
              "      <td>-33.4034</td>\n",
              "      <td>-70.5584</td>\n",
              "      <td>0.000000</td>\n",
              "    </tr>\n",
              "  </tbody>\n",
              "</table>\n",
              "<p>38046907 rows × 6 columns</p>\n",
              "</div>"
            ],
            "text/plain": [
              "                                                   PHONE_ID  \\\n",
              "0         00000000e3fc09803d408609f55cbf905120d3a41db564...   \n",
              "1         00000000e3fc09803d408609f55cbf905120d3a41db564...   \n",
              "2         00000000e3fc09803d408609f55cbf905120d3a41db564...   \n",
              "3         00000000e3fc09803d408609f55cbf905120d3a41db564...   \n",
              "4         00000000e3fc09803d408609f55cbf905120d3a41db564...   \n",
              "...                                                     ...   \n",
              "38046902  ffffea064367ea293c32db026f6dee34efa6c464375ac9...   \n",
              "38046903  ffffea064367ea293c32db026f6dee34efa6c464375ac9...   \n",
              "38046904  ffffea064367ea293c32db026f6dee34efa6c464375ac9...   \n",
              "38046905  ffffea064367ea293c32db026f6dee34efa6c464375ac9...   \n",
              "38046906  ffffea064367ea293c32db026f6dee34efa6c464375ac9...   \n",
              "\n",
              "                              timestamp bts_id      lat      lon  dis_trans  \n",
              "0         2021-01-01T00:09:15.000-03:00  ECROF -33.3844 -70.5534   0.000000  \n",
              "1         2021-01-01T00:16:37.000-03:00  VTAND -33.3806 -70.5419   1.149621  \n",
              "2         2021-01-01T00:18:36.000-03:00  VTAND -33.3806 -70.5419   0.000000  \n",
              "3         2021-01-01T00:39:15.000-03:00  MANNE -33.3994 -70.5699   3.339568  \n",
              "4         2021-01-01T00:48:36.000-03:00  LCPHU -33.3972 -70.5499   1.874798  \n",
              "...                                 ...    ...      ...      ...        ...  \n",
              "38046902  2021-01-01T21:32:20.000-03:00  MFAR3 -33.4034 -70.5584   0.000000  \n",
              "38046903  2021-01-01T22:02:20.000-03:00  MFAR3 -33.4034 -70.5584   0.000000  \n",
              "38046904  2021-01-01T22:32:20.000-03:00  MFAR3 -33.4034 -70.5584   0.000000  \n",
              "38046905  2021-01-01T23:02:20.000-03:00  MFAR3 -33.4034 -70.5584   0.000000  \n",
              "38046906  2021-01-01T23:32:20.000-03:00  MFAR3 -33.4034 -70.5584   0.000000  \n",
              "\n",
              "[38046907 rows x 6 columns]"
            ]
          },
          "execution_count": 24,
          "metadata": {},
          "output_type": "execute_result"
        }
      ],
      "source": [
        "df2"
      ]
    },
    {
      "cell_type": "code",
      "execution_count": null,
      "id": "33356577",
      "metadata": {
        "id": "33356577",
        "outputId": "222267aa-5864-47ef-d3ff-8b58bd46505d"
      },
      "outputs": [
        {
          "data": {
            "text/plain": [
              "887159"
            ]
          },
          "execution_count": 25,
          "metadata": {},
          "output_type": "execute_result"
        }
      ],
      "source": [
        "len(df2['PHONE_ID'].unique())"
      ]
    },
    {
      "cell_type": "code",
      "execution_count": null,
      "id": "9715a00b",
      "metadata": {
        "id": "9715a00b",
        "outputId": "2940acf0-1b26-4c23-a8ee-e78d5f6f13ec"
      },
      "outputs": [
        {
          "data": {
            "text/plain": [
              "887159"
            ]
          },
          "execution_count": 26,
          "metadata": {},
          "output_type": "execute_result"
        }
      ],
      "source": [
        "len(yes_id)"
      ]
    },
    {
      "cell_type": "code",
      "execution_count": null,
      "id": "a84531ab",
      "metadata": {
        "id": "a84531ab"
      },
      "outputs": [],
      "source": [
        "df2 = df2.drop(['dis_trans'], axis = 1)"
      ]
    },
    {
      "cell_type": "code",
      "execution_count": null,
      "id": "edf03ed8",
      "metadata": {
        "id": "edf03ed8",
        "outputId": "694041a0-06c0-49e6-a17e-789bef4c8a39"
      },
      "outputs": [
        {
          "data": {
            "text/html": [
              "<div>\n",
              "<style scoped>\n",
              "    .dataframe tbody tr th:only-of-type {\n",
              "        vertical-align: middle;\n",
              "    }\n",
              "\n",
              "    .dataframe tbody tr th {\n",
              "        vertical-align: top;\n",
              "    }\n",
              "\n",
              "    .dataframe thead th {\n",
              "        text-align: right;\n",
              "    }\n",
              "</style>\n",
              "<table border=\"1\" class=\"dataframe\">\n",
              "  <thead>\n",
              "    <tr style=\"text-align: right;\">\n",
              "      <th></th>\n",
              "      <th>PHONE_ID</th>\n",
              "      <th>timestamp</th>\n",
              "      <th>bts_id</th>\n",
              "      <th>lat</th>\n",
              "      <th>lon</th>\n",
              "    </tr>\n",
              "  </thead>\n",
              "  <tbody>\n",
              "    <tr>\n",
              "      <th>0</th>\n",
              "      <td>00000000e3fc09803d408609f55cbf905120d3a41db564...</td>\n",
              "      <td>2021-01-01T00:09:15.000-03:00</td>\n",
              "      <td>ECROF</td>\n",
              "      <td>-33.3844</td>\n",
              "      <td>-70.5534</td>\n",
              "    </tr>\n",
              "    <tr>\n",
              "      <th>1</th>\n",
              "      <td>00000000e3fc09803d408609f55cbf905120d3a41db564...</td>\n",
              "      <td>2021-01-01T00:16:37.000-03:00</td>\n",
              "      <td>VTAND</td>\n",
              "      <td>-33.3806</td>\n",
              "      <td>-70.5419</td>\n",
              "    </tr>\n",
              "    <tr>\n",
              "      <th>2</th>\n",
              "      <td>00000000e3fc09803d408609f55cbf905120d3a41db564...</td>\n",
              "      <td>2021-01-01T00:18:36.000-03:00</td>\n",
              "      <td>VTAND</td>\n",
              "      <td>-33.3806</td>\n",
              "      <td>-70.5419</td>\n",
              "    </tr>\n",
              "    <tr>\n",
              "      <th>3</th>\n",
              "      <td>00000000e3fc09803d408609f55cbf905120d3a41db564...</td>\n",
              "      <td>2021-01-01T00:39:15.000-03:00</td>\n",
              "      <td>MANNE</td>\n",
              "      <td>-33.3994</td>\n",
              "      <td>-70.5699</td>\n",
              "    </tr>\n",
              "    <tr>\n",
              "      <th>4</th>\n",
              "      <td>00000000e3fc09803d408609f55cbf905120d3a41db564...</td>\n",
              "      <td>2021-01-01T00:48:36.000-03:00</td>\n",
              "      <td>LCPHU</td>\n",
              "      <td>-33.3972</td>\n",
              "      <td>-70.5499</td>\n",
              "    </tr>\n",
              "    <tr>\n",
              "      <th>...</th>\n",
              "      <td>...</td>\n",
              "      <td>...</td>\n",
              "      <td>...</td>\n",
              "      <td>...</td>\n",
              "      <td>...</td>\n",
              "    </tr>\n",
              "    <tr>\n",
              "      <th>38046902</th>\n",
              "      <td>ffffea064367ea293c32db026f6dee34efa6c464375ac9...</td>\n",
              "      <td>2021-01-01T21:32:20.000-03:00</td>\n",
              "      <td>MFAR3</td>\n",
              "      <td>-33.4034</td>\n",
              "      <td>-70.5584</td>\n",
              "    </tr>\n",
              "    <tr>\n",
              "      <th>38046903</th>\n",
              "      <td>ffffea064367ea293c32db026f6dee34efa6c464375ac9...</td>\n",
              "      <td>2021-01-01T22:02:20.000-03:00</td>\n",
              "      <td>MFAR3</td>\n",
              "      <td>-33.4034</td>\n",
              "      <td>-70.5584</td>\n",
              "    </tr>\n",
              "    <tr>\n",
              "      <th>38046904</th>\n",
              "      <td>ffffea064367ea293c32db026f6dee34efa6c464375ac9...</td>\n",
              "      <td>2021-01-01T22:32:20.000-03:00</td>\n",
              "      <td>MFAR3</td>\n",
              "      <td>-33.4034</td>\n",
              "      <td>-70.5584</td>\n",
              "    </tr>\n",
              "    <tr>\n",
              "      <th>38046905</th>\n",
              "      <td>ffffea064367ea293c32db026f6dee34efa6c464375ac9...</td>\n",
              "      <td>2021-01-01T23:02:20.000-03:00</td>\n",
              "      <td>MFAR3</td>\n",
              "      <td>-33.4034</td>\n",
              "      <td>-70.5584</td>\n",
              "    </tr>\n",
              "    <tr>\n",
              "      <th>38046906</th>\n",
              "      <td>ffffea064367ea293c32db026f6dee34efa6c464375ac9...</td>\n",
              "      <td>2021-01-01T23:32:20.000-03:00</td>\n",
              "      <td>MFAR3</td>\n",
              "      <td>-33.4034</td>\n",
              "      <td>-70.5584</td>\n",
              "    </tr>\n",
              "  </tbody>\n",
              "</table>\n",
              "<p>38046907 rows × 5 columns</p>\n",
              "</div>"
            ],
            "text/plain": [
              "                                                   PHONE_ID  \\\n",
              "0         00000000e3fc09803d408609f55cbf905120d3a41db564...   \n",
              "1         00000000e3fc09803d408609f55cbf905120d3a41db564...   \n",
              "2         00000000e3fc09803d408609f55cbf905120d3a41db564...   \n",
              "3         00000000e3fc09803d408609f55cbf905120d3a41db564...   \n",
              "4         00000000e3fc09803d408609f55cbf905120d3a41db564...   \n",
              "...                                                     ...   \n",
              "38046902  ffffea064367ea293c32db026f6dee34efa6c464375ac9...   \n",
              "38046903  ffffea064367ea293c32db026f6dee34efa6c464375ac9...   \n",
              "38046904  ffffea064367ea293c32db026f6dee34efa6c464375ac9...   \n",
              "38046905  ffffea064367ea293c32db026f6dee34efa6c464375ac9...   \n",
              "38046906  ffffea064367ea293c32db026f6dee34efa6c464375ac9...   \n",
              "\n",
              "                              timestamp bts_id      lat      lon  \n",
              "0         2021-01-01T00:09:15.000-03:00  ECROF -33.3844 -70.5534  \n",
              "1         2021-01-01T00:16:37.000-03:00  VTAND -33.3806 -70.5419  \n",
              "2         2021-01-01T00:18:36.000-03:00  VTAND -33.3806 -70.5419  \n",
              "3         2021-01-01T00:39:15.000-03:00  MANNE -33.3994 -70.5699  \n",
              "4         2021-01-01T00:48:36.000-03:00  LCPHU -33.3972 -70.5499  \n",
              "...                                 ...    ...      ...      ...  \n",
              "38046902  2021-01-01T21:32:20.000-03:00  MFAR3 -33.4034 -70.5584  \n",
              "38046903  2021-01-01T22:02:20.000-03:00  MFAR3 -33.4034 -70.5584  \n",
              "38046904  2021-01-01T22:32:20.000-03:00  MFAR3 -33.4034 -70.5584  \n",
              "38046905  2021-01-01T23:02:20.000-03:00  MFAR3 -33.4034 -70.5584  \n",
              "38046906  2021-01-01T23:32:20.000-03:00  MFAR3 -33.4034 -70.5584  \n",
              "\n",
              "[38046907 rows x 5 columns]"
            ]
          },
          "execution_count": 30,
          "metadata": {},
          "output_type": "execute_result"
        }
      ],
      "source": [
        "df2"
      ]
    },
    {
      "cell_type": "code",
      "execution_count": null,
      "id": "6cc53ae7",
      "metadata": {
        "id": "6cc53ae7"
      },
      "outputs": [],
      "source": [
        "df2.to_csv('moving_data.csv', encoding='utf-8')"
      ]
    },
    {
      "cell_type": "code",
      "execution_count": null,
      "id": "2fbac00f",
      "metadata": {
        "id": "2fbac00f"
      },
      "outputs": [],
      "source": []
    }
  ],
  "metadata": {
    "kernelspec": {
      "display_name": "Python 3 (ipykernel)",
      "language": "python",
      "name": "python3"
    },
    "language_info": {
      "codemirror_mode": {
        "name": "ipython",
        "version": 3
      },
      "file_extension": ".py",
      "mimetype": "text/x-python",
      "name": "python",
      "nbconvert_exporter": "python",
      "pygments_lexer": "ipython3",
      "version": "3.9.12"
    },
    "colab": {
      "provenance": []
    }
  },
  "nbformat": 4,
  "nbformat_minor": 5
}